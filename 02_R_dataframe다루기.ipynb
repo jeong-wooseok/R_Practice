{
  "nbformat": 4,
  "nbformat_minor": 0,
  "metadata": {
    "colab": {
      "name": "02_R_dataframe다루기.ipynb",
      "provenance": [],
      "toc_visible": true,
      "authorship_tag": "ABX9TyPoUG76vNdpz5FnjEjFIOUh",
      "include_colab_link": true
    },
    "kernelspec": {
      "name": "ir",
      "display_name": "R"
    },
    "accelerator": "GPU"
  },
  "cells": [
    {
      "cell_type": "markdown",
      "metadata": {
        "id": "view-in-github",
        "colab_type": "text"
      },
      "source": [
        "<a href=\"https://colab.research.google.com/github/jeong-wooseok/R_Practice/blob/master/02_R_dataframe%EB%8B%A4%EB%A3%A8%EA%B8%B0.ipynb\" target=\"_parent\"><img src=\"https://colab.research.google.com/assets/colab-badge.svg\" alt=\"Open In Colab\"/></a>"
      ]
    },
    {
      "cell_type": "markdown",
      "metadata": {
        "id": "Z3QbnE8kalbl",
        "colab_type": "text"
      },
      "source": [
        "[R 코랩만들기](https://colab.research.google.com/#create=true&language=r)"
      ]
    },
    {
      "cell_type": "code",
      "metadata": {
        "id": "UFQosTn7au8O",
        "colab_type": "code",
        "colab": {}
      },
      "source": [
        "Manager <- c('1','2','3','4','5')\n",
        "Date <- c('2014-10-24','2014-10-28','2014-01-10','2014-10-12','2014-05-01')\n",
        "Country <- c('US','US','UK','UK','UK')\n",
        "Gender <- c('M','F','F','M','F')\n",
        "Age <- c(32,45,25,39,99)\n",
        "q1 = c(5,3,3,3,2)\n",
        "q2 <- c(4,5,5,3,2)\n",
        "q3 <- c(5,2,5,4,1)\n",
        "q4 <- c(5,5,5,NA,2)\n",
        "q5 <- c(5,5,2,NA,1)\n",
        "\n",
        "Manager<-data.frame(Manager,Date,Country,Gender,Age,q1,q2,q3,q4,q5)"
      ],
      "execution_count": 28,
      "outputs": []
    },
    {
      "cell_type": "markdown",
      "metadata": {
        "id": "AIqAA_rFfPWd",
        "colab_type": "text"
      },
      "source": [
        "## 데이터프레임 접근하기"
      ]
    },
    {
      "cell_type": "code",
      "metadata": {
        "id": "FgjZlpCNeHda",
        "colab_type": "code",
        "colab": {
          "base_uri": "https://localhost:8080/",
          "height": 158
        },
        "outputId": "ddbb9f7d-45bd-43b2-b088-1f65c5e2eca1"
      },
      "source": [
        "# 데이터프레임에 인덱싱 접근 : 데이터프레임[행,열]\n",
        "Manager"
      ],
      "execution_count": 29,
      "outputs": [
        {
          "output_type": "display_data",
          "data": {
            "text/plain": [
              "  Manager Date       Country Gender Age q1 q2 q3 q4 q5\n",
              "1 1       2014-10-24 US      M      32  5  4  5   5  5\n",
              "2 2       2014-10-28 US      F      45  3  5  2   5  5\n",
              "3 3       2014-01-10 UK      F      25  3  5  5   5  2\n",
              "4 4       2014-10-12 UK      M      39  3  3  4  NA NA\n",
              "5 5       2014-05-01 UK      F      99  2  2  1   2  1"
            ],
            "text/latex": "A data.frame: 5 × 10\n\\begin{tabular}{llllllllll}\n Manager & Date & Country & Gender & Age & q1 & q2 & q3 & q4 & q5\\\\\n <fct> & <fct> & <fct> & <fct> & <dbl> & <dbl> & <dbl> & <dbl> & <dbl> & <dbl>\\\\\n\\hline\n\t 1 & 2014-10-24 & US & M & 32 & 5 & 4 & 5 &  5 &  5\\\\\n\t 2 & 2014-10-28 & US & F & 45 & 3 & 5 & 2 &  5 &  5\\\\\n\t 3 & 2014-01-10 & UK & F & 25 & 3 & 5 & 5 &  5 &  2\\\\\n\t 4 & 2014-10-12 & UK & M & 39 & 3 & 3 & 4 & NA & NA\\\\\n\t 5 & 2014-05-01 & UK & F & 99 & 2 & 2 & 1 &  2 &  1\\\\\n\\end{tabular}\n",
            "text/markdown": "\nA data.frame: 5 × 10\n\n| Manager &lt;fct&gt; | Date &lt;fct&gt; | Country &lt;fct&gt; | Gender &lt;fct&gt; | Age &lt;dbl&gt; | q1 &lt;dbl&gt; | q2 &lt;dbl&gt; | q3 &lt;dbl&gt; | q4 &lt;dbl&gt; | q5 &lt;dbl&gt; |\n|---|---|---|---|---|---|---|---|---|---|\n| 1 | 2014-10-24 | US | M | 32 | 5 | 4 | 5 |  5 |  5 |\n| 2 | 2014-10-28 | US | F | 45 | 3 | 5 | 2 |  5 |  5 |\n| 3 | 2014-01-10 | UK | F | 25 | 3 | 5 | 5 |  5 |  2 |\n| 4 | 2014-10-12 | UK | M | 39 | 3 | 3 | 4 | NA | NA |\n| 5 | 2014-05-01 | UK | F | 99 | 2 | 2 | 1 |  2 |  1 |\n\n",
            "text/html": [
              "<table>\n",
              "<caption>A data.frame: 5 × 10</caption>\n",
              "<thead>\n",
              "\t<tr><th scope=col>Manager</th><th scope=col>Date</th><th scope=col>Country</th><th scope=col>Gender</th><th scope=col>Age</th><th scope=col>q1</th><th scope=col>q2</th><th scope=col>q3</th><th scope=col>q4</th><th scope=col>q5</th></tr>\n",
              "\t<tr><th scope=col>&lt;fct&gt;</th><th scope=col>&lt;fct&gt;</th><th scope=col>&lt;fct&gt;</th><th scope=col>&lt;fct&gt;</th><th scope=col>&lt;dbl&gt;</th><th scope=col>&lt;dbl&gt;</th><th scope=col>&lt;dbl&gt;</th><th scope=col>&lt;dbl&gt;</th><th scope=col>&lt;dbl&gt;</th><th scope=col>&lt;dbl&gt;</th></tr>\n",
              "</thead>\n",
              "<tbody>\n",
              "\t<tr><td>1</td><td>2014-10-24</td><td>US</td><td>M</td><td>32</td><td>5</td><td>4</td><td>5</td><td> 5</td><td> 5</td></tr>\n",
              "\t<tr><td>2</td><td>2014-10-28</td><td>US</td><td>F</td><td>45</td><td>3</td><td>5</td><td>2</td><td> 5</td><td> 5</td></tr>\n",
              "\t<tr><td>3</td><td>2014-01-10</td><td>UK</td><td>F</td><td>25</td><td>3</td><td>5</td><td>5</td><td> 5</td><td> 2</td></tr>\n",
              "\t<tr><td>4</td><td>2014-10-12</td><td>UK</td><td>M</td><td>39</td><td>3</td><td>3</td><td>4</td><td>NA</td><td>NA</td></tr>\n",
              "\t<tr><td>5</td><td>2014-05-01</td><td>UK</td><td>F</td><td>99</td><td>2</td><td>2</td><td>1</td><td> 2</td><td> 1</td></tr>\n",
              "</tbody>\n",
              "</table>\n"
            ]
          },
          "metadata": {
            "tags": []
          }
        }
      ]
    },
    {
      "cell_type": "code",
      "metadata": {
        "id": "7cJpIjEue3DS",
        "colab_type": "code",
        "colab": {
          "base_uri": "https://localhost:8080/",
          "height": 87
        },
        "outputId": "0c54bb63-e692-4f10-99a6-ddb6076792c9"
      },
      "source": [
        "# 인덱싱을 벡터로 일괄로 가져올 수도 있음\n",
        "Manager[3,c(2:4)]"
      ],
      "execution_count": 30,
      "outputs": [
        {
          "output_type": "display_data",
          "data": {
            "text/plain": [
              "  Date       Country Gender\n",
              "3 2014-01-10 UK      F     "
            ],
            "text/latex": "A data.frame: 1 × 3\n\\begin{tabular}{r|lll}\n  & Date & Country & Gender\\\\\n  & <fct> & <fct> & <fct>\\\\\n\\hline\n\t3 & 2014-01-10 & UK & F\\\\\n\\end{tabular}\n",
            "text/markdown": "\nA data.frame: 1 × 3\n\n| <!--/--> | Date &lt;fct&gt; | Country &lt;fct&gt; | Gender &lt;fct&gt; |\n|---|---|---|---|\n| 3 | 2014-01-10 | UK | F |\n\n",
            "text/html": [
              "<table>\n",
              "<caption>A data.frame: 1 × 3</caption>\n",
              "<thead>\n",
              "\t<tr><th></th><th scope=col>Date</th><th scope=col>Country</th><th scope=col>Gender</th></tr>\n",
              "\t<tr><th></th><th scope=col>&lt;fct&gt;</th><th scope=col>&lt;fct&gt;</th><th scope=col>&lt;fct&gt;</th></tr>\n",
              "</thead>\n",
              "<tbody>\n",
              "\t<tr><th scope=row>3</th><td>2014-01-10</td><td>UK</td><td>F</td></tr>\n",
              "</tbody>\n",
              "</table>\n"
            ]
          },
          "metadata": {
            "tags": []
          }
        }
      ]
    },
    {
      "cell_type": "code",
      "metadata": {
        "id": "6-Rkf3i7eiyW",
        "colab_type": "code",
        "colab": {
          "base_uri": "https://localhost:8080/",
          "height": 33
        },
        "outputId": "eafecb75-8765-4735-e469-b5079560f255"
      },
      "source": [
        "# 인덱싱을 컬럼명으로 가져올 수도 있음\n",
        "Manager[3,'Age']"
      ],
      "execution_count": 31,
      "outputs": [
        {
          "output_type": "display_data",
          "data": {
            "text/plain": [
              "[1] 25"
            ],
            "text/latex": "25",
            "text/markdown": "25",
            "text/html": [
              "25"
            ]
          },
          "metadata": {
            "tags": []
          }
        }
      ]
    },
    {
      "cell_type": "code",
      "metadata": {
        "id": "NS0I6HhJetx8",
        "colab_type": "code",
        "colab": {
          "base_uri": "https://localhost:8080/",
          "height": 104
        },
        "outputId": "ce87b8c1-1492-41de-f05a-7b0b496589c5"
      },
      "source": [
        "# 컬럼명도 백터로 넣을 수 있음\n",
        "Manager[3,c('Country','Age')]"
      ],
      "execution_count": 32,
      "outputs": [
        {
          "output_type": "display_data",
          "data": {
            "text/plain": [
              "  Country Age\n",
              "3 UK      25 "
            ],
            "text/latex": "A data.frame: 1 × 2\n\\begin{tabular}{r|ll}\n  & Country & Age\\\\\n  & <fct> & <dbl>\\\\\n\\hline\n\t3 & UK & 25\\\\\n\\end{tabular}\n",
            "text/markdown": "\nA data.frame: 1 × 2\n\n| <!--/--> | Country &lt;fct&gt; | Age &lt;dbl&gt; |\n|---|---|---|\n| 3 | UK | 25 |\n\n",
            "text/html": [
              "<table>\n",
              "<caption>A data.frame: 1 × 2</caption>\n",
              "<thead>\n",
              "\t<tr><th></th><th scope=col>Country</th><th scope=col>Age</th></tr>\n",
              "\t<tr><th></th><th scope=col>&lt;fct&gt;</th><th scope=col>&lt;dbl&gt;</th></tr>\n",
              "</thead>\n",
              "<tbody>\n",
              "\t<tr><th scope=row>3</th><td>UK</td><td>25</td></tr>\n",
              "</tbody>\n",
              "</table>\n"
            ]
          },
          "metadata": {
            "tags": []
          }
        }
      ]
    },
    {
      "cell_type": "code",
      "metadata": {
        "id": "D2iBjxyufiNW",
        "colab_type": "code",
        "colab": {
          "base_uri": "https://localhost:8080/",
          "height": 33
        },
        "outputId": "4980e885-1b1c-455c-9b65-356c1a8d5a63"
      },
      "source": [
        "# 특정 컬럼만 가져오고 싶음\n",
        "Manager[,'Age']"
      ],
      "execution_count": 33,
      "outputs": [
        {
          "output_type": "display_data",
          "data": {
            "text/plain": [
              "[1] 32 45 25 39 99"
            ],
            "text/latex": "\\begin{enumerate*}\n\\item 32\n\\item 45\n\\item 25\n\\item 39\n\\item 99\n\\end{enumerate*}\n",
            "text/markdown": "1. 32\n2. 45\n3. 25\n4. 39\n5. 99\n\n\n",
            "text/html": [
              "<style>\n",
              ".list-inline {list-style: none; margin:0; padding: 0}\n",
              ".list-inline>li {display: inline-block}\n",
              ".list-inline>li:not(:last-child)::after {content: \"\\00b7\"; padding: 0 .5ex}\n",
              "</style>\n",
              "<ol class=list-inline><li>32</li><li>45</li><li>25</li><li>39</li><li>99</li></ol>\n"
            ]
          },
          "metadata": {
            "tags": []
          }
        }
      ]
    },
    {
      "cell_type": "code",
      "metadata": {
        "id": "FNiyF4PUfu09",
        "colab_type": "code",
        "colab": {
          "base_uri": "https://localhost:8080/",
          "height": 265
        },
        "outputId": "7c5cb609-6743-4c9b-afb6-54bf76450493"
      },
      "source": [
        "# 특정 조건을 만족하는 데이터만 가져오고 싶음 : Boolian 활용\n",
        "Manager[Manager$Age<30 & 20<Manager$Age,]\n",
        "Manager[Manager$Gender=='M',]\n",
        "Manager[40 <= Manager$Age,]"
      ],
      "execution_count": 34,
      "outputs": [
        {
          "output_type": "display_data",
          "data": {
            "text/plain": [
              "  Manager Date       Country Gender Age q1 q2 q3 q4 q5\n",
              "3 3       2014-01-10 UK      F      25  3  5  5  5  2 "
            ],
            "text/latex": "A data.frame: 1 × 10\n\\begin{tabular}{r|llllllllll}\n  & Manager & Date & Country & Gender & Age & q1 & q2 & q3 & q4 & q5\\\\\n  & <fct> & <fct> & <fct> & <fct> & <dbl> & <dbl> & <dbl> & <dbl> & <dbl> & <dbl>\\\\\n\\hline\n\t3 & 3 & 2014-01-10 & UK & F & 25 & 3 & 5 & 5 & 5 & 2\\\\\n\\end{tabular}\n",
            "text/markdown": "\nA data.frame: 1 × 10\n\n| <!--/--> | Manager &lt;fct&gt; | Date &lt;fct&gt; | Country &lt;fct&gt; | Gender &lt;fct&gt; | Age &lt;dbl&gt; | q1 &lt;dbl&gt; | q2 &lt;dbl&gt; | q3 &lt;dbl&gt; | q4 &lt;dbl&gt; | q5 &lt;dbl&gt; |\n|---|---|---|---|---|---|---|---|---|---|---|\n| 3 | 3 | 2014-01-10 | UK | F | 25 | 3 | 5 | 5 | 5 | 2 |\n\n",
            "text/html": [
              "<table>\n",
              "<caption>A data.frame: 1 × 10</caption>\n",
              "<thead>\n",
              "\t<tr><th></th><th scope=col>Manager</th><th scope=col>Date</th><th scope=col>Country</th><th scope=col>Gender</th><th scope=col>Age</th><th scope=col>q1</th><th scope=col>q2</th><th scope=col>q3</th><th scope=col>q4</th><th scope=col>q5</th></tr>\n",
              "\t<tr><th></th><th scope=col>&lt;fct&gt;</th><th scope=col>&lt;fct&gt;</th><th scope=col>&lt;fct&gt;</th><th scope=col>&lt;fct&gt;</th><th scope=col>&lt;dbl&gt;</th><th scope=col>&lt;dbl&gt;</th><th scope=col>&lt;dbl&gt;</th><th scope=col>&lt;dbl&gt;</th><th scope=col>&lt;dbl&gt;</th><th scope=col>&lt;dbl&gt;</th></tr>\n",
              "</thead>\n",
              "<tbody>\n",
              "\t<tr><th scope=row>3</th><td>3</td><td>2014-01-10</td><td>UK</td><td>F</td><td>25</td><td>3</td><td>5</td><td>5</td><td>5</td><td>2</td></tr>\n",
              "</tbody>\n",
              "</table>\n"
            ]
          },
          "metadata": {
            "tags": []
          }
        },
        {
          "output_type": "display_data",
          "data": {
            "text/plain": [
              "  Manager Date       Country Gender Age q1 q2 q3 q4 q5\n",
              "1 1       2014-10-24 US      M      32  5  4  5   5  5\n",
              "4 4       2014-10-12 UK      M      39  3  3  4  NA NA"
            ],
            "text/latex": "A data.frame: 2 × 10\n\\begin{tabular}{r|llllllllll}\n  & Manager & Date & Country & Gender & Age & q1 & q2 & q3 & q4 & q5\\\\\n  & <fct> & <fct> & <fct> & <fct> & <dbl> & <dbl> & <dbl> & <dbl> & <dbl> & <dbl>\\\\\n\\hline\n\t1 & 1 & 2014-10-24 & US & M & 32 & 5 & 4 & 5 &  5 &  5\\\\\n\t4 & 4 & 2014-10-12 & UK & M & 39 & 3 & 3 & 4 & NA & NA\\\\\n\\end{tabular}\n",
            "text/markdown": "\nA data.frame: 2 × 10\n\n| <!--/--> | Manager &lt;fct&gt; | Date &lt;fct&gt; | Country &lt;fct&gt; | Gender &lt;fct&gt; | Age &lt;dbl&gt; | q1 &lt;dbl&gt; | q2 &lt;dbl&gt; | q3 &lt;dbl&gt; | q4 &lt;dbl&gt; | q5 &lt;dbl&gt; |\n|---|---|---|---|---|---|---|---|---|---|---|\n| 1 | 1 | 2014-10-24 | US | M | 32 | 5 | 4 | 5 |  5 |  5 |\n| 4 | 4 | 2014-10-12 | UK | M | 39 | 3 | 3 | 4 | NA | NA |\n\n",
            "text/html": [
              "<table>\n",
              "<caption>A data.frame: 2 × 10</caption>\n",
              "<thead>\n",
              "\t<tr><th></th><th scope=col>Manager</th><th scope=col>Date</th><th scope=col>Country</th><th scope=col>Gender</th><th scope=col>Age</th><th scope=col>q1</th><th scope=col>q2</th><th scope=col>q3</th><th scope=col>q4</th><th scope=col>q5</th></tr>\n",
              "\t<tr><th></th><th scope=col>&lt;fct&gt;</th><th scope=col>&lt;fct&gt;</th><th scope=col>&lt;fct&gt;</th><th scope=col>&lt;fct&gt;</th><th scope=col>&lt;dbl&gt;</th><th scope=col>&lt;dbl&gt;</th><th scope=col>&lt;dbl&gt;</th><th scope=col>&lt;dbl&gt;</th><th scope=col>&lt;dbl&gt;</th><th scope=col>&lt;dbl&gt;</th></tr>\n",
              "</thead>\n",
              "<tbody>\n",
              "\t<tr><th scope=row>1</th><td>1</td><td>2014-10-24</td><td>US</td><td>M</td><td>32</td><td>5</td><td>4</td><td>5</td><td> 5</td><td> 5</td></tr>\n",
              "\t<tr><th scope=row>4</th><td>4</td><td>2014-10-12</td><td>UK</td><td>M</td><td>39</td><td>3</td><td>3</td><td>4</td><td>NA</td><td>NA</td></tr>\n",
              "</tbody>\n",
              "</table>\n"
            ]
          },
          "metadata": {
            "tags": []
          }
        },
        {
          "output_type": "display_data",
          "data": {
            "text/plain": [
              "  Manager Date       Country Gender Age q1 q2 q3 q4 q5\n",
              "2 2       2014-10-28 US      F      45  3  5  2  5  5 \n",
              "5 5       2014-05-01 UK      F      99  2  2  1  2  1 "
            ],
            "text/latex": "A data.frame: 2 × 10\n\\begin{tabular}{r|llllllllll}\n  & Manager & Date & Country & Gender & Age & q1 & q2 & q3 & q4 & q5\\\\\n  & <fct> & <fct> & <fct> & <fct> & <dbl> & <dbl> & <dbl> & <dbl> & <dbl> & <dbl>\\\\\n\\hline\n\t2 & 2 & 2014-10-28 & US & F & 45 & 3 & 5 & 2 & 5 & 5\\\\\n\t5 & 5 & 2014-05-01 & UK & F & 99 & 2 & 2 & 1 & 2 & 1\\\\\n\\end{tabular}\n",
            "text/markdown": "\nA data.frame: 2 × 10\n\n| <!--/--> | Manager &lt;fct&gt; | Date &lt;fct&gt; | Country &lt;fct&gt; | Gender &lt;fct&gt; | Age &lt;dbl&gt; | q1 &lt;dbl&gt; | q2 &lt;dbl&gt; | q3 &lt;dbl&gt; | q4 &lt;dbl&gt; | q5 &lt;dbl&gt; |\n|---|---|---|---|---|---|---|---|---|---|---|\n| 2 | 2 | 2014-10-28 | US | F | 45 | 3 | 5 | 2 | 5 | 5 |\n| 5 | 5 | 2014-05-01 | UK | F | 99 | 2 | 2 | 1 | 2 | 1 |\n\n",
            "text/html": [
              "<table>\n",
              "<caption>A data.frame: 2 × 10</caption>\n",
              "<thead>\n",
              "\t<tr><th></th><th scope=col>Manager</th><th scope=col>Date</th><th scope=col>Country</th><th scope=col>Gender</th><th scope=col>Age</th><th scope=col>q1</th><th scope=col>q2</th><th scope=col>q3</th><th scope=col>q4</th><th scope=col>q5</th></tr>\n",
              "\t<tr><th></th><th scope=col>&lt;fct&gt;</th><th scope=col>&lt;fct&gt;</th><th scope=col>&lt;fct&gt;</th><th scope=col>&lt;fct&gt;</th><th scope=col>&lt;dbl&gt;</th><th scope=col>&lt;dbl&gt;</th><th scope=col>&lt;dbl&gt;</th><th scope=col>&lt;dbl&gt;</th><th scope=col>&lt;dbl&gt;</th><th scope=col>&lt;dbl&gt;</th></tr>\n",
              "</thead>\n",
              "<tbody>\n",
              "\t<tr><th scope=row>2</th><td>2</td><td>2014-10-28</td><td>US</td><td>F</td><td>45</td><td>3</td><td>5</td><td>2</td><td>5</td><td>5</td></tr>\n",
              "\t<tr><th scope=row>5</th><td>5</td><td>2014-05-01</td><td>UK</td><td>F</td><td>99</td><td>2</td><td>2</td><td>1</td><td>2</td><td>1</td></tr>\n",
              "</tbody>\n",
              "</table>\n"
            ]
          },
          "metadata": {
            "tags": []
          }
        }
      ]
    },
    {
      "cell_type": "code",
      "metadata": {
        "id": "854WAP00hVdA",
        "colab_type": "code",
        "colab": {
          "base_uri": "https://localhost:8080/",
          "height": 87
        },
        "outputId": "b58215d0-38b4-48ec-df37-e7a0a8db479d"
      },
      "source": [
        "Manager[Manager$Age <= 30 & Manager$Gender == 'F',]"
      ],
      "execution_count": 35,
      "outputs": [
        {
          "output_type": "display_data",
          "data": {
            "text/plain": [
              "  Manager Date       Country Gender Age q1 q2 q3 q4 q5\n",
              "3 3       2014-01-10 UK      F      25  3  5  5  5  2 "
            ],
            "text/latex": "A data.frame: 1 × 10\n\\begin{tabular}{r|llllllllll}\n  & Manager & Date & Country & Gender & Age & q1 & q2 & q3 & q4 & q5\\\\\n  & <fct> & <fct> & <fct> & <fct> & <dbl> & <dbl> & <dbl> & <dbl> & <dbl> & <dbl>\\\\\n\\hline\n\t3 & 3 & 2014-01-10 & UK & F & 25 & 3 & 5 & 5 & 5 & 2\\\\\n\\end{tabular}\n",
            "text/markdown": "\nA data.frame: 1 × 10\n\n| <!--/--> | Manager &lt;fct&gt; | Date &lt;fct&gt; | Country &lt;fct&gt; | Gender &lt;fct&gt; | Age &lt;dbl&gt; | q1 &lt;dbl&gt; | q2 &lt;dbl&gt; | q3 &lt;dbl&gt; | q4 &lt;dbl&gt; | q5 &lt;dbl&gt; |\n|---|---|---|---|---|---|---|---|---|---|---|\n| 3 | 3 | 2014-01-10 | UK | F | 25 | 3 | 5 | 5 | 5 | 2 |\n\n",
            "text/html": [
              "<table>\n",
              "<caption>A data.frame: 1 × 10</caption>\n",
              "<thead>\n",
              "\t<tr><th></th><th scope=col>Manager</th><th scope=col>Date</th><th scope=col>Country</th><th scope=col>Gender</th><th scope=col>Age</th><th scope=col>q1</th><th scope=col>q2</th><th scope=col>q3</th><th scope=col>q4</th><th scope=col>q5</th></tr>\n",
              "\t<tr><th></th><th scope=col>&lt;fct&gt;</th><th scope=col>&lt;fct&gt;</th><th scope=col>&lt;fct&gt;</th><th scope=col>&lt;fct&gt;</th><th scope=col>&lt;dbl&gt;</th><th scope=col>&lt;dbl&gt;</th><th scope=col>&lt;dbl&gt;</th><th scope=col>&lt;dbl&gt;</th><th scope=col>&lt;dbl&gt;</th><th scope=col>&lt;dbl&gt;</th></tr>\n",
              "</thead>\n",
              "<tbody>\n",
              "\t<tr><th scope=row>3</th><td>3</td><td>2014-01-10</td><td>UK</td><td>F</td><td>25</td><td>3</td><td>5</td><td>5</td><td>5</td><td>2</td></tr>\n",
              "</tbody>\n",
              "</table>\n"
            ]
          },
          "metadata": {
            "tags": []
          }
        }
      ]
    },
    {
      "cell_type": "markdown",
      "metadata": {
        "id": "BPOoqyFgfbpx",
        "colab_type": "text"
      },
      "source": [
        "## 범주형 컬럼 만들기"
      ]
    },
    {
      "cell_type": "code",
      "metadata": {
        "id": "7LHps1H5bt_M",
        "colab_type": "code",
        "colab": {
          "base_uri": "https://localhost:8080/"
        },
        "outputId": "5b4fc2ad-8362-4e54-e43d-8c1ca1dbaedb"
      },
      "source": [
        "#Ages 범주형 컬럼 만들기\n",
        "''' 나이 20-30 : 청년\n",
        "31-45 : 중년\n",
        "46-65 : 장년\n",
        "66- : 노년 '''"
      ],
      "execution_count": 10,
      "outputs": [
        {
          "output_type": "error",
          "ename": "ERROR",
          "evalue": "ignored",
          "traceback": [
            "Error in parse(text = x, srcfile = src): <text>:2:3: unexpected string constant\n4: 46-65 : 장년\n5: 66- : 노년 '\n     ^\nTraceback:\n"
          ]
        }
      ]
    },
    {
      "cell_type": "code",
      "metadata": {
        "id": "txSf_avLb7XB",
        "colab_type": "code",
        "colab": {}
      },
      "source": [
        "# 데이터프레임에 존재하지 않는 컬럼명을 넣이면 그 이름으로 새로운 컬럼이 추가됨\n",
        "Manager$Ages[20<Manager$Age & Manager$Age <= 30] <- '청년'\n",
        "Manager$Ages[30<Manager$Age & Manager$Age <= 45] <- '중년'\n",
        "Manager$Ages[46<Manager$Age & Manager$Age <= 65] <- '장년'\n",
        "Manager$Ages[65<Manager$Age ] <- '노년'"
      ],
      "execution_count": 36,
      "outputs": []
    },
    {
      "cell_type": "code",
      "metadata": {
        "id": "BGacHSpqnK5_",
        "colab_type": "code",
        "colab": {}
      },
      "source": [
        "# 조건식이 2개 이상인 경우 가독성이 떨어지고 코드가 길어짐 : attach, with, within 을 활용 가능"
      ],
      "execution_count": 37,
      "outputs": []
    },
    {
      "cell_type": "code",
      "metadata": {
        "id": "cmzBHP6gdCKb",
        "colab_type": "code",
        "colab": {}
      },
      "source": [
        "# within은 작은 것부터 조건을 만들어줘야함 \n",
        "Manager$ages2 <- rep(0,5)\n",
        "Manager <- within(Manager,{\n",
        "  ages2[Age<=30]<- '청년'\n",
        "  ages2[Age>30]<- '중년'\n",
        "  ages2[Age>46]<- '장년'\n",
        "  ages2[Age>=66]<- '노년'\n",
        "  })"
      ],
      "execution_count": 38,
      "outputs": []
    },
    {
      "cell_type": "code",
      "metadata": {
        "id": "3SrmyFFysIaM",
        "colab_type": "code",
        "colab": {
          "base_uri": "https://localhost:8080/",
          "height": 158
        },
        "outputId": "5c1a3dbf-ddec-4f8f-93c7-54d5437852b9"
      },
      "source": [
        "Manager"
      ],
      "execution_count": 39,
      "outputs": [
        {
          "output_type": "display_data",
          "data": {
            "text/plain": [
              "  Manager Date       Country Gender Age q1 q2 q3 q4 q5 Ages ages2\n",
              "1 1       2014-10-24 US      M      32  5  4  5   5  5 중년 중년 \n",
              "2 2       2014-10-28 US      F      45  3  5  2   5  5 중년 중년 \n",
              "3 3       2014-01-10 UK      F      25  3  5  5   5  2 청년 청년 \n",
              "4 4       2014-10-12 UK      M      39  3  3  4  NA NA 중년 중년 \n",
              "5 5       2014-05-01 UK      F      99  2  2  1   2  1 노년 노년 "
            ],
            "text/latex": "A data.frame: 5 × 12\n\\begin{tabular}{llllllllllll}\n Manager & Date & Country & Gender & Age & q1 & q2 & q3 & q4 & q5 & Ages & ages2\\\\\n <fct> & <fct> & <fct> & <fct> & <dbl> & <dbl> & <dbl> & <dbl> & <dbl> & <dbl> & <chr> & <chr>\\\\\n\\hline\n\t 1 & 2014-10-24 & US & M & 32 & 5 & 4 & 5 &  5 &  5 & 중년 & 중년\\\\\n\t 2 & 2014-10-28 & US & F & 45 & 3 & 5 & 2 &  5 &  5 & 중년 & 중년\\\\\n\t 3 & 2014-01-10 & UK & F & 25 & 3 & 5 & 5 &  5 &  2 & 청년 & 청년\\\\\n\t 4 & 2014-10-12 & UK & M & 39 & 3 & 3 & 4 & NA & NA & 중년 & 중년\\\\\n\t 5 & 2014-05-01 & UK & F & 99 & 2 & 2 & 1 &  2 &  1 & 노년 & 노년\\\\\n\\end{tabular}\n",
            "text/markdown": "\nA data.frame: 5 × 12\n\n| Manager &lt;fct&gt; | Date &lt;fct&gt; | Country &lt;fct&gt; | Gender &lt;fct&gt; | Age &lt;dbl&gt; | q1 &lt;dbl&gt; | q2 &lt;dbl&gt; | q3 &lt;dbl&gt; | q4 &lt;dbl&gt; | q5 &lt;dbl&gt; | Ages &lt;chr&gt; | ages2 &lt;chr&gt; |\n|---|---|---|---|---|---|---|---|---|---|---|---|\n| 1 | 2014-10-24 | US | M | 32 | 5 | 4 | 5 |  5 |  5 | 중년 | 중년 |\n| 2 | 2014-10-28 | US | F | 45 | 3 | 5 | 2 |  5 |  5 | 중년 | 중년 |\n| 3 | 2014-01-10 | UK | F | 25 | 3 | 5 | 5 |  5 |  2 | 청년 | 청년 |\n| 4 | 2014-10-12 | UK | M | 39 | 3 | 3 | 4 | NA | NA | 중년 | 중년 |\n| 5 | 2014-05-01 | UK | F | 99 | 2 | 2 | 1 |  2 |  1 | 노년 | 노년 |\n\n",
            "text/html": [
              "<table>\n",
              "<caption>A data.frame: 5 × 12</caption>\n",
              "<thead>\n",
              "\t<tr><th scope=col>Manager</th><th scope=col>Date</th><th scope=col>Country</th><th scope=col>Gender</th><th scope=col>Age</th><th scope=col>q1</th><th scope=col>q2</th><th scope=col>q3</th><th scope=col>q4</th><th scope=col>q5</th><th scope=col>Ages</th><th scope=col>ages2</th></tr>\n",
              "\t<tr><th scope=col>&lt;fct&gt;</th><th scope=col>&lt;fct&gt;</th><th scope=col>&lt;fct&gt;</th><th scope=col>&lt;fct&gt;</th><th scope=col>&lt;dbl&gt;</th><th scope=col>&lt;dbl&gt;</th><th scope=col>&lt;dbl&gt;</th><th scope=col>&lt;dbl&gt;</th><th scope=col>&lt;dbl&gt;</th><th scope=col>&lt;dbl&gt;</th><th scope=col>&lt;chr&gt;</th><th scope=col>&lt;chr&gt;</th></tr>\n",
              "</thead>\n",
              "<tbody>\n",
              "\t<tr><td>1</td><td>2014-10-24</td><td>US</td><td>M</td><td>32</td><td>5</td><td>4</td><td>5</td><td> 5</td><td> 5</td><td>중년</td><td>중년</td></tr>\n",
              "\t<tr><td>2</td><td>2014-10-28</td><td>US</td><td>F</td><td>45</td><td>3</td><td>5</td><td>2</td><td> 5</td><td> 5</td><td>중년</td><td>중년</td></tr>\n",
              "\t<tr><td>3</td><td>2014-01-10</td><td>UK</td><td>F</td><td>25</td><td>3</td><td>5</td><td>5</td><td> 5</td><td> 2</td><td>청년</td><td>청년</td></tr>\n",
              "\t<tr><td>4</td><td>2014-10-12</td><td>UK</td><td>M</td><td>39</td><td>3</td><td>3</td><td>4</td><td>NA</td><td>NA</td><td>중년</td><td>중년</td></tr>\n",
              "\t<tr><td>5</td><td>2014-05-01</td><td>UK</td><td>F</td><td>99</td><td>2</td><td>2</td><td>1</td><td> 2</td><td> 1</td><td>노년</td><td>노년</td></tr>\n",
              "</tbody>\n",
              "</table>\n"
            ]
          },
          "metadata": {
            "tags": []
          }
        }
      ]
    },
    {
      "cell_type": "code",
      "metadata": {
        "id": "MOmN78gTnKol",
        "colab_type": "code",
        "colab": {
          "base_uri": "https://localhost:8080/",
          "height": 158
        },
        "outputId": "2e000fad-da08-442f-a054-d889f2d97759"
      },
      "source": [
        "# 범주형 데이터 팩터 형태로 바꾸기\n",
        "Manager$Ages <- as.factor(Manager$Ages)\n",
        "Manager"
      ],
      "execution_count": 40,
      "outputs": [
        {
          "output_type": "display_data",
          "data": {
            "text/plain": [
              "  Manager Date       Country Gender Age q1 q2 q3 q4 q5 Ages ages2\n",
              "1 1       2014-10-24 US      M      32  5  4  5   5  5 중년 중년 \n",
              "2 2       2014-10-28 US      F      45  3  5  2   5  5 중년 중년 \n",
              "3 3       2014-01-10 UK      F      25  3  5  5   5  2 청년 청년 \n",
              "4 4       2014-10-12 UK      M      39  3  3  4  NA NA 중년 중년 \n",
              "5 5       2014-05-01 UK      F      99  2  2  1   2  1 노년 노년 "
            ],
            "text/latex": "A data.frame: 5 × 12\n\\begin{tabular}{llllllllllll}\n Manager & Date & Country & Gender & Age & q1 & q2 & q3 & q4 & q5 & Ages & ages2\\\\\n <fct> & <fct> & <fct> & <fct> & <dbl> & <dbl> & <dbl> & <dbl> & <dbl> & <dbl> & <fct> & <chr>\\\\\n\\hline\n\t 1 & 2014-10-24 & US & M & 32 & 5 & 4 & 5 &  5 &  5 & 중년 & 중년\\\\\n\t 2 & 2014-10-28 & US & F & 45 & 3 & 5 & 2 &  5 &  5 & 중년 & 중년\\\\\n\t 3 & 2014-01-10 & UK & F & 25 & 3 & 5 & 5 &  5 &  2 & 청년 & 청년\\\\\n\t 4 & 2014-10-12 & UK & M & 39 & 3 & 3 & 4 & NA & NA & 중년 & 중년\\\\\n\t 5 & 2014-05-01 & UK & F & 99 & 2 & 2 & 1 &  2 &  1 & 노년 & 노년\\\\\n\\end{tabular}\n",
            "text/markdown": "\nA data.frame: 5 × 12\n\n| Manager &lt;fct&gt; | Date &lt;fct&gt; | Country &lt;fct&gt; | Gender &lt;fct&gt; | Age &lt;dbl&gt; | q1 &lt;dbl&gt; | q2 &lt;dbl&gt; | q3 &lt;dbl&gt; | q4 &lt;dbl&gt; | q5 &lt;dbl&gt; | Ages &lt;fct&gt; | ages2 &lt;chr&gt; |\n|---|---|---|---|---|---|---|---|---|---|---|---|\n| 1 | 2014-10-24 | US | M | 32 | 5 | 4 | 5 |  5 |  5 | 중년 | 중년 |\n| 2 | 2014-10-28 | US | F | 45 | 3 | 5 | 2 |  5 |  5 | 중년 | 중년 |\n| 3 | 2014-01-10 | UK | F | 25 | 3 | 5 | 5 |  5 |  2 | 청년 | 청년 |\n| 4 | 2014-10-12 | UK | M | 39 | 3 | 3 | 4 | NA | NA | 중년 | 중년 |\n| 5 | 2014-05-01 | UK | F | 99 | 2 | 2 | 1 |  2 |  1 | 노년 | 노년 |\n\n",
            "text/html": [
              "<table>\n",
              "<caption>A data.frame: 5 × 12</caption>\n",
              "<thead>\n",
              "\t<tr><th scope=col>Manager</th><th scope=col>Date</th><th scope=col>Country</th><th scope=col>Gender</th><th scope=col>Age</th><th scope=col>q1</th><th scope=col>q2</th><th scope=col>q3</th><th scope=col>q4</th><th scope=col>q5</th><th scope=col>Ages</th><th scope=col>ages2</th></tr>\n",
              "\t<tr><th scope=col>&lt;fct&gt;</th><th scope=col>&lt;fct&gt;</th><th scope=col>&lt;fct&gt;</th><th scope=col>&lt;fct&gt;</th><th scope=col>&lt;dbl&gt;</th><th scope=col>&lt;dbl&gt;</th><th scope=col>&lt;dbl&gt;</th><th scope=col>&lt;dbl&gt;</th><th scope=col>&lt;dbl&gt;</th><th scope=col>&lt;dbl&gt;</th><th scope=col>&lt;fct&gt;</th><th scope=col>&lt;chr&gt;</th></tr>\n",
              "</thead>\n",
              "<tbody>\n",
              "\t<tr><td>1</td><td>2014-10-24</td><td>US</td><td>M</td><td>32</td><td>5</td><td>4</td><td>5</td><td> 5</td><td> 5</td><td>중년</td><td>중년</td></tr>\n",
              "\t<tr><td>2</td><td>2014-10-28</td><td>US</td><td>F</td><td>45</td><td>3</td><td>5</td><td>2</td><td> 5</td><td> 5</td><td>중년</td><td>중년</td></tr>\n",
              "\t<tr><td>3</td><td>2014-01-10</td><td>UK</td><td>F</td><td>25</td><td>3</td><td>5</td><td>5</td><td> 5</td><td> 2</td><td>청년</td><td>청년</td></tr>\n",
              "\t<tr><td>4</td><td>2014-10-12</td><td>UK</td><td>M</td><td>39</td><td>3</td><td>3</td><td>4</td><td>NA</td><td>NA</td><td>중년</td><td>중년</td></tr>\n",
              "\t<tr><td>5</td><td>2014-05-01</td><td>UK</td><td>F</td><td>99</td><td>2</td><td>2</td><td>1</td><td> 2</td><td> 1</td><td>노년</td><td>노년</td></tr>\n",
              "</tbody>\n",
              "</table>\n"
            ]
          },
          "metadata": {
            "tags": []
          }
        }
      ]
    },
    {
      "cell_type": "code",
      "metadata": {
        "id": "bjCjJBcktufP",
        "colab_type": "code",
        "colab": {}
      },
      "source": [
        "# 설문문항 컬럼의 총합과 평균의 컬럼을 만들어라"
      ],
      "execution_count": 41,
      "outputs": []
    },
    {
      "cell_type": "code",
      "metadata": {
        "id": "hPTAzOFiv7oF",
        "colab_type": "code",
        "colab": {
          "base_uri": "https://localhost:8080/"
        },
        "outputId": "047a0241-4b2f-4a1d-94e6-caf90f30fb45"
      },
      "source": [
        "Manager <- within(Manager,{\n",
        "  sumq <- q1+q2+q3+q4+q5\n",
        "  meanq <- sumq/5\n",
        "},na.rm = TRUE)\n",
        "\n",
        "Manager"
      ],
      "execution_count": 42,
      "outputs": [
        {
          "output_type": "display_data",
          "data": {
            "text/plain": [
              "  Manager Date       Country Gender Age q1 q2 q3 q4 q5 Ages ages2 meanq sumq\n",
              "1 1       2014-10-24 US      M      32  5  4  5   5  5 중년 중년  4.8   24  \n",
              "2 2       2014-10-28 US      F      45  3  5  2   5  5 중년 중년  4.0   20  \n",
              "3 3       2014-01-10 UK      F      25  3  5  5   5  2 청년 청년  4.0   20  \n",
              "4 4       2014-10-12 UK      M      39  3  3  4  NA NA 중년 중년   NA   NA  \n",
              "5 5       2014-05-01 UK      F      99  2  2  1   2  1 노년 노년  1.6    8  "
            ],
            "text/latex": "A data.frame: 5 × 14\n\\begin{tabular}{llllllllllllll}\n Manager & Date & Country & Gender & Age & q1 & q2 & q3 & q4 & q5 & Ages & ages2 & meanq & sumq\\\\\n <fct> & <fct> & <fct> & <fct> & <dbl> & <dbl> & <dbl> & <dbl> & <dbl> & <dbl> & <fct> & <chr> & <dbl> & <dbl>\\\\\n\\hline\n\t 1 & 2014-10-24 & US & M & 32 & 5 & 4 & 5 &  5 &  5 & 중년 & 중년 & 4.8 & 24\\\\\n\t 2 & 2014-10-28 & US & F & 45 & 3 & 5 & 2 &  5 &  5 & 중년 & 중년 & 4.0 & 20\\\\\n\t 3 & 2014-01-10 & UK & F & 25 & 3 & 5 & 5 &  5 &  2 & 청년 & 청년 & 4.0 & 20\\\\\n\t 4 & 2014-10-12 & UK & M & 39 & 3 & 3 & 4 & NA & NA & 중년 & 중년 &  NA & NA\\\\\n\t 5 & 2014-05-01 & UK & F & 99 & 2 & 2 & 1 &  2 &  1 & 노년 & 노년 & 1.6 &  8\\\\\n\\end{tabular}\n",
            "text/markdown": "\nA data.frame: 5 × 14\n\n| Manager &lt;fct&gt; | Date &lt;fct&gt; | Country &lt;fct&gt; | Gender &lt;fct&gt; | Age &lt;dbl&gt; | q1 &lt;dbl&gt; | q2 &lt;dbl&gt; | q3 &lt;dbl&gt; | q4 &lt;dbl&gt; | q5 &lt;dbl&gt; | Ages &lt;fct&gt; | ages2 &lt;chr&gt; | meanq &lt;dbl&gt; | sumq &lt;dbl&gt; |\n|---|---|---|---|---|---|---|---|---|---|---|---|---|---|\n| 1 | 2014-10-24 | US | M | 32 | 5 | 4 | 5 |  5 |  5 | 중년 | 중년 | 4.8 | 24 |\n| 2 | 2014-10-28 | US | F | 45 | 3 | 5 | 2 |  5 |  5 | 중년 | 중년 | 4.0 | 20 |\n| 3 | 2014-01-10 | UK | F | 25 | 3 | 5 | 5 |  5 |  2 | 청년 | 청년 | 4.0 | 20 |\n| 4 | 2014-10-12 | UK | M | 39 | 3 | 3 | 4 | NA | NA | 중년 | 중년 |  NA | NA |\n| 5 | 2014-05-01 | UK | F | 99 | 2 | 2 | 1 |  2 |  1 | 노년 | 노년 | 1.6 |  8 |\n\n",
            "text/html": [
              "<table>\n",
              "<caption>A data.frame: 5 × 14</caption>\n",
              "<thead>\n",
              "\t<tr><th scope=col>Manager</th><th scope=col>Date</th><th scope=col>Country</th><th scope=col>Gender</th><th scope=col>Age</th><th scope=col>q1</th><th scope=col>q2</th><th scope=col>q3</th><th scope=col>q4</th><th scope=col>q5</th><th scope=col>Ages</th><th scope=col>ages2</th><th scope=col>meanq</th><th scope=col>sumq</th></tr>\n",
              "\t<tr><th scope=col>&lt;fct&gt;</th><th scope=col>&lt;fct&gt;</th><th scope=col>&lt;fct&gt;</th><th scope=col>&lt;fct&gt;</th><th scope=col>&lt;dbl&gt;</th><th scope=col>&lt;dbl&gt;</th><th scope=col>&lt;dbl&gt;</th><th scope=col>&lt;dbl&gt;</th><th scope=col>&lt;dbl&gt;</th><th scope=col>&lt;dbl&gt;</th><th scope=col>&lt;fct&gt;</th><th scope=col>&lt;chr&gt;</th><th scope=col>&lt;dbl&gt;</th><th scope=col>&lt;dbl&gt;</th></tr>\n",
              "</thead>\n",
              "<tbody>\n",
              "\t<tr><td>1</td><td>2014-10-24</td><td>US</td><td>M</td><td>32</td><td>5</td><td>4</td><td>5</td><td> 5</td><td> 5</td><td>중년</td><td>중년</td><td>4.8</td><td>24</td></tr>\n",
              "\t<tr><td>2</td><td>2014-10-28</td><td>US</td><td>F</td><td>45</td><td>3</td><td>5</td><td>2</td><td> 5</td><td> 5</td><td>중년</td><td>중년</td><td>4.0</td><td>20</td></tr>\n",
              "\t<tr><td>3</td><td>2014-01-10</td><td>UK</td><td>F</td><td>25</td><td>3</td><td>5</td><td>5</td><td> 5</td><td> 2</td><td>청년</td><td>청년</td><td>4.0</td><td>20</td></tr>\n",
              "\t<tr><td>4</td><td>2014-10-12</td><td>UK</td><td>M</td><td>39</td><td>3</td><td>3</td><td>4</td><td>NA</td><td>NA</td><td>중년</td><td>중년</td><td> NA</td><td>NA</td></tr>\n",
              "\t<tr><td>5</td><td>2014-05-01</td><td>UK</td><td>F</td><td>99</td><td>2</td><td>2</td><td>1</td><td> 2</td><td> 1</td><td>노년</td><td>노년</td><td>1.6</td><td> 8</td></tr>\n",
              "</tbody>\n",
              "</table>\n"
            ]
          },
          "metadata": {
            "tags": []
          }
        }
      ]
    },
    {
      "cell_type": "markdown",
      "metadata": {
        "id": "fjFEtNPldEox",
        "colab_type": "text"
      },
      "source": [
        "## 결측치 다루기"
      ]
    },
    {
      "cell_type": "code",
      "metadata": {
        "id": "YN7lmuzEk8Y-",
        "colab_type": "code",
        "colab": {
          "base_uri": "https://localhost:8080/"
        },
        "outputId": "06e81b72-deb7-415b-dfe5-fdd7a34a0429"
      },
      "source": [
        "x <- c(1,2,3,NA,5,NA,7)\n",
        "# 결측치 여부 확인\n",
        "sum(is.na(x)) "
      ],
      "execution_count": 43,
      "outputs": [
        {
          "output_type": "display_data",
          "data": {
            "text/plain": [
              "[1] 2"
            ],
            "text/latex": "2",
            "text/markdown": "2",
            "text/html": [
              "2"
            ]
          },
          "metadata": {
            "tags": []
          }
        }
      ]
    },
    {
      "cell_type": "code",
      "metadata": {
        "id": "n7t3iOlh49u9",
        "colab_type": "code",
        "colab": {
          "base_uri": "https://localhost:8080/",
          "height": 33
        },
        "outputId": "8951c9db-7a4e-44ea-9819-073718bf6964"
      },
      "source": [
        "# 결측치 제외하고 계산\n",
        "sum(x,na.rm=T) "
      ],
      "execution_count": 44,
      "outputs": [
        {
          "output_type": "display_data",
          "data": {
            "text/plain": [
              "[1] 18"
            ],
            "text/latex": "18",
            "text/markdown": "18",
            "text/html": [
              "18"
            ]
          },
          "metadata": {
            "tags": []
          }
        }
      ]
    },
    {
      "cell_type": "code",
      "metadata": {
        "id": "lzBB_u9N5STc",
        "colab_type": "code",
        "colab": {
          "base_uri": "https://localhost:8080/",
          "height": 50
        },
        "outputId": "dbf64daa-a39e-4f5d-da38-3857e3048143"
      },
      "source": [
        "# 결측치 제거하기\n",
        "x_nar <- na.omit(x) \n",
        "x\n",
        "x_nar"
      ],
      "execution_count": 45,
      "outputs": [
        {
          "output_type": "display_data",
          "data": {
            "text/plain": [
              "[1]  1  2  3 NA  5 NA  7"
            ],
            "text/latex": "\\begin{enumerate*}\n\\item 1\n\\item 2\n\\item 3\n\\item <NA>\n\\item 5\n\\item <NA>\n\\item 7\n\\end{enumerate*}\n",
            "text/markdown": "1. 1\n2. 2\n3. 3\n4. &lt;NA&gt;\n5. 5\n6. &lt;NA&gt;\n7. 7\n\n\n",
            "text/html": [
              "<style>\n",
              ".list-inline {list-style: none; margin:0; padding: 0}\n",
              ".list-inline>li {display: inline-block}\n",
              ".list-inline>li:not(:last-child)::after {content: \"\\00b7\"; padding: 0 .5ex}\n",
              "</style>\n",
              "<ol class=list-inline><li>1</li><li>2</li><li>3</li><li>&lt;NA&gt;</li><li>5</li><li>&lt;NA&gt;</li><li>7</li></ol>\n"
            ]
          },
          "metadata": {
            "tags": []
          }
        },
        {
          "output_type": "display_data",
          "data": {
            "text/plain": [
              "[1] 1 2 3 5 7\n",
              "attr(,\"na.action\")\n",
              "[1] 4 6\n",
              "attr(,\"class\")\n",
              "[1] \"omit\""
            ],
            "text/latex": "\\begin{enumerate*}\n\\item 1\n\\item 2\n\\item 3\n\\item 5\n\\item 7\n\\end{enumerate*}\n",
            "text/markdown": "1. 1\n2. 2\n3. 3\n4. 5\n5. 7\n\n\n",
            "text/html": [
              "<style>\n",
              ".list-inline {list-style: none; margin:0; padding: 0}\n",
              ".list-inline>li {display: inline-block}\n",
              ".list-inline>li:not(:last-child)::after {content: \"\\00b7\"; padding: 0 .5ex}\n",
              "</style>\n",
              "<ol class=list-inline><li>1</li><li>2</li><li>3</li><li>5</li><li>7</li></ol>\n"
            ]
          },
          "metadata": {
            "tags": []
          }
        }
      ]
    },
    {
      "cell_type": "code",
      "metadata": {
        "id": "JlB9kVWY5c20",
        "colab_type": "code",
        "colab": {
          "base_uri": "https://localhost:8080/",
          "height": 33
        },
        "outputId": "cc25069e-2cff-4cb6-d33e-84b3635f3cbe"
      },
      "source": [
        "# 결측치 대체하기 (평균값, 최빈값 등)\n",
        "x_mean <- x \n",
        "x_mean[is.na(x)] <- mean(x,na.rm=T)\n",
        "x_mean"
      ],
      "execution_count": 46,
      "outputs": [
        {
          "output_type": "display_data",
          "data": {
            "text/plain": [
              "[1] 1.0 2.0 3.0 3.6 5.0 3.6 7.0"
            ],
            "text/latex": "\\begin{enumerate*}\n\\item 1\n\\item 2\n\\item 3\n\\item 3.6\n\\item 5\n\\item 3.6\n\\item 7\n\\end{enumerate*}\n",
            "text/markdown": "1. 1\n2. 2\n3. 3\n4. 3.6\n5. 5\n6. 3.6\n7. 7\n\n\n",
            "text/html": [
              "<style>\n",
              ".list-inline {list-style: none; margin:0; padding: 0}\n",
              ".list-inline>li {display: inline-block}\n",
              ".list-inline>li:not(:last-child)::after {content: \"\\00b7\"; padding: 0 .5ex}\n",
              "</style>\n",
              "<ol class=list-inline><li>1</li><li>2</li><li>3</li><li>3.6</li><li>5</li><li>3.6</li><li>7</li></ol>\n"
            ]
          },
          "metadata": {
            "tags": []
          }
        }
      ]
    },
    {
      "cell_type": "code",
      "metadata": {
        "id": "owFVYzNc5KZK",
        "colab_type": "code",
        "colab": {
          "base_uri": "https://localhost:8080/",
          "height": 102
        },
        "outputId": "0448a8a7-ca11-41da-8b76-4f1aa7810e37"
      },
      "source": [
        "# 사용예제\n",
        "sum(Manager[4,c(6:10)],na.rm = TRUE)\n",
        "mean(Manager[4,c(6:10)],na.rm = TRUE)\n",
        "rowSums(Manager[,c(6:10)], na.rm = TRUE)"
      ],
      "execution_count": 47,
      "outputs": [
        {
          "output_type": "display_data",
          "data": {
            "text/plain": [
              "[1] 10"
            ],
            "text/latex": "10",
            "text/markdown": "10",
            "text/html": [
              "10"
            ]
          },
          "metadata": {
            "tags": []
          }
        },
        {
          "output_type": "stream",
          "text": [
            "Warning message in mean.default(Manager[4, c(6:10)], na.rm = TRUE):\n",
            "“argument is not numeric or logical: returning NA”\n"
          ],
          "name": "stderr"
        },
        {
          "output_type": "display_data",
          "data": {
            "text/plain": [
              "[1] NA"
            ],
            "text/latex": "<NA>",
            "text/markdown": "&lt;NA&gt;",
            "text/html": [
              "&lt;NA&gt;"
            ]
          },
          "metadata": {
            "tags": []
          }
        },
        {
          "output_type": "display_data",
          "data": {
            "text/plain": [
              "[1] 24 20 20 10  8"
            ],
            "text/latex": "\\begin{enumerate*}\n\\item 24\n\\item 20\n\\item 20\n\\item 10\n\\item 8\n\\end{enumerate*}\n",
            "text/markdown": "1. 24\n2. 20\n3. 20\n4. 10\n5. 8\n\n\n",
            "text/html": [
              "<style>\n",
              ".list-inline {list-style: none; margin:0; padding: 0}\n",
              ".list-inline>li {display: inline-block}\n",
              ".list-inline>li:not(:last-child)::after {content: \"\\00b7\"; padding: 0 .5ex}\n",
              "</style>\n",
              "<ol class=list-inline><li>24</li><li>20</li><li>20</li><li>10</li><li>8</li></ol>\n"
            ]
          },
          "metadata": {
            "tags": []
          }
        }
      ]
    },
    {
      "cell_type": "code",
      "metadata": {
        "id": "rxzWC9-f3Vm0",
        "colab_type": "code",
        "colab": {
          "base_uri": "https://localhost:8080/",
          "height": 336
        },
        "outputId": "3326452a-6d2a-484d-d96e-7eed45ebd101"
      },
      "source": [
        "# 응용예제\n",
        "url_e = 'https://raw.githubusercontent.com/jeong-wooseok/R_stastics/master/datasets/EMPLOYEES.csv'\n",
        "url_z = 'https://raw.githubusercontent.com/jeong-wooseok/R_stastics/master/datasets/zipcode_20130201(2).txt'\n",
        "emp <- read.csv(url_e)\n",
        "zip2013 <- read.csv(url_z,sep = '\\t',na.strings = '',stringsAsFactors = F)\n",
        "# sep: 컬럼을 구분할 구분자 정의 (기본 : ,)\n",
        "# na.strings : NA로 지정할 문자열 정의 => 빈문자열은 NA로 자동입력\n",
        "\n",
        "head(emp)\n",
        "head(zip2013)"
      ],
      "execution_count": 64,
      "outputs": [
        {
          "output_type": "display_data",
          "data": {
            "text/plain": [
              "  EMPLOYEE_ID FIRST_NAME LAST_NAME EMAIL    PHONE_NUMBER HIRE_DATE  JOB_ID \n",
              "1 100         Steven     King      SKING    515.123.4567 2003-06-17 AD_PRES\n",
              "2 101         Neena      Kochhar   NKOCHHAR 515.123.4568 2005-09-21 AD_VP  \n",
              "3 102         Lex        De Haan   LDEHAAN  515.123.4569 2001-01-13 AD_VP  \n",
              "4 103         Alexander  Hunold    AHUNOLD  590.423.4567 2006-01-03 IT_PROG\n",
              "5 104         Bruce      Ernst     BERNST   590.423.4568 2007-05-21 IT_PROG\n",
              "6 105         David      Austin    DAUSTIN  590.423.4569 2005-06-25 IT_PROG\n",
              "  SALARY COMMISSION_PCT MANAGER_ID DEPARTMENT_ID\n",
              "1 24000  NA              NA        90           \n",
              "2 17000  NA             100        90           \n",
              "3 17000  NA             100        90           \n",
              "4  9000  NA             102        60           \n",
              "5  6000  NA             103        60           \n",
              "6  4800  NA             103        60           "
            ],
            "text/latex": "A data.frame: 6 × 11\n\\begin{tabular}{r|lllllllllll}\n  & EMPLOYEE\\_ID & FIRST\\_NAME & LAST\\_NAME & EMAIL & PHONE\\_NUMBER & HIRE\\_DATE & JOB\\_ID & SALARY & COMMISSION\\_PCT & MANAGER\\_ID & DEPARTMENT\\_ID\\\\\n  & <int> & <fct> & <fct> & <fct> & <fct> & <fct> & <fct> & <int> & <dbl> & <int> & <int>\\\\\n\\hline\n\t1 & 100 & Steven    & King    & SKING    & 515.123.4567 & 2003-06-17 & AD\\_PRES & 24000 & NA &  NA & 90\\\\\n\t2 & 101 & Neena     & Kochhar & NKOCHHAR & 515.123.4568 & 2005-09-21 & AD\\_VP   & 17000 & NA & 100 & 90\\\\\n\t3 & 102 & Lex       & De Haan & LDEHAAN  & 515.123.4569 & 2001-01-13 & AD\\_VP   & 17000 & NA & 100 & 90\\\\\n\t4 & 103 & Alexander & Hunold  & AHUNOLD  & 590.423.4567 & 2006-01-03 & IT\\_PROG &  9000 & NA & 102 & 60\\\\\n\t5 & 104 & Bruce     & Ernst   & BERNST   & 590.423.4568 & 2007-05-21 & IT\\_PROG &  6000 & NA & 103 & 60\\\\\n\t6 & 105 & David     & Austin  & DAUSTIN  & 590.423.4569 & 2005-06-25 & IT\\_PROG &  4800 & NA & 103 & 60\\\\\n\\end{tabular}\n",
            "text/markdown": "\nA data.frame: 6 × 11\n\n| <!--/--> | EMPLOYEE_ID &lt;int&gt; | FIRST_NAME &lt;fct&gt; | LAST_NAME &lt;fct&gt; | EMAIL &lt;fct&gt; | PHONE_NUMBER &lt;fct&gt; | HIRE_DATE &lt;fct&gt; | JOB_ID &lt;fct&gt; | SALARY &lt;int&gt; | COMMISSION_PCT &lt;dbl&gt; | MANAGER_ID &lt;int&gt; | DEPARTMENT_ID &lt;int&gt; |\n|---|---|---|---|---|---|---|---|---|---|---|---|\n| 1 | 100 | Steven    | King    | SKING    | 515.123.4567 | 2003-06-17 | AD_PRES | 24000 | NA |  NA | 90 |\n| 2 | 101 | Neena     | Kochhar | NKOCHHAR | 515.123.4568 | 2005-09-21 | AD_VP   | 17000 | NA | 100 | 90 |\n| 3 | 102 | Lex       | De Haan | LDEHAAN  | 515.123.4569 | 2001-01-13 | AD_VP   | 17000 | NA | 100 | 90 |\n| 4 | 103 | Alexander | Hunold  | AHUNOLD  | 590.423.4567 | 2006-01-03 | IT_PROG |  9000 | NA | 102 | 60 |\n| 5 | 104 | Bruce     | Ernst   | BERNST   | 590.423.4568 | 2007-05-21 | IT_PROG |  6000 | NA | 103 | 60 |\n| 6 | 105 | David     | Austin  | DAUSTIN  | 590.423.4569 | 2005-06-25 | IT_PROG |  4800 | NA | 103 | 60 |\n\n",
            "text/html": [
              "<table>\n",
              "<caption>A data.frame: 6 × 11</caption>\n",
              "<thead>\n",
              "\t<tr><th></th><th scope=col>EMPLOYEE_ID</th><th scope=col>FIRST_NAME</th><th scope=col>LAST_NAME</th><th scope=col>EMAIL</th><th scope=col>PHONE_NUMBER</th><th scope=col>HIRE_DATE</th><th scope=col>JOB_ID</th><th scope=col>SALARY</th><th scope=col>COMMISSION_PCT</th><th scope=col>MANAGER_ID</th><th scope=col>DEPARTMENT_ID</th></tr>\n",
              "\t<tr><th></th><th scope=col>&lt;int&gt;</th><th scope=col>&lt;fct&gt;</th><th scope=col>&lt;fct&gt;</th><th scope=col>&lt;fct&gt;</th><th scope=col>&lt;fct&gt;</th><th scope=col>&lt;fct&gt;</th><th scope=col>&lt;fct&gt;</th><th scope=col>&lt;int&gt;</th><th scope=col>&lt;dbl&gt;</th><th scope=col>&lt;int&gt;</th><th scope=col>&lt;int&gt;</th></tr>\n",
              "</thead>\n",
              "<tbody>\n",
              "\t<tr><th scope=row>1</th><td>100</td><td>Steven   </td><td>King   </td><td>SKING   </td><td>515.123.4567</td><td>2003-06-17</td><td>AD_PRES</td><td>24000</td><td>NA</td><td> NA</td><td>90</td></tr>\n",
              "\t<tr><th scope=row>2</th><td>101</td><td>Neena    </td><td>Kochhar</td><td>NKOCHHAR</td><td>515.123.4568</td><td>2005-09-21</td><td>AD_VP  </td><td>17000</td><td>NA</td><td>100</td><td>90</td></tr>\n",
              "\t<tr><th scope=row>3</th><td>102</td><td>Lex      </td><td>De Haan</td><td>LDEHAAN </td><td>515.123.4569</td><td>2001-01-13</td><td>AD_VP  </td><td>17000</td><td>NA</td><td>100</td><td>90</td></tr>\n",
              "\t<tr><th scope=row>4</th><td>103</td><td>Alexander</td><td>Hunold </td><td>AHUNOLD </td><td>590.423.4567</td><td>2006-01-03</td><td>IT_PROG</td><td> 9000</td><td>NA</td><td>102</td><td>60</td></tr>\n",
              "\t<tr><th scope=row>5</th><td>104</td><td>Bruce    </td><td>Ernst  </td><td>BERNST  </td><td>590.423.4568</td><td>2007-05-21</td><td>IT_PROG</td><td> 6000</td><td>NA</td><td>103</td><td>60</td></tr>\n",
              "\t<tr><th scope=row>6</th><td>105</td><td>David    </td><td>Austin </td><td>DAUSTIN </td><td>590.423.4569</td><td>2005-06-25</td><td>IT_PROG</td><td> 4800</td><td>NA</td><td>103</td><td>60</td></tr>\n",
              "</tbody>\n",
              "</table>\n"
            ]
          },
          "metadata": {
            "tags": []
          }
        },
        {
          "output_type": "display_data",
          "data": {
            "text/plain": [
              "  ZIPCODE SIDO GUGUN  DONG    RI            BUNJI       SEQ\n",
              "1 135-806 서울 강남구 개포1동 경남아파트    NA          1  \n",
              "2 135-807 서울 강남구 개포1동 우성3차아파트 (1∼6동)     2  \n",
              "3 135-806 서울 강남구 개포1동 우성9차아파트 (901∼902동) 3  \n",
              "4 135-770 서울 강남구 개포1동 주공아파트    (1∼16동)    4  \n",
              "5 135-805 서울 강남구 개포1동 주공아파트    (17∼40동)   5  \n",
              "6 135-966 서울 강남구 개포1동 주공아파트    (41∼85동)   6  "
            ],
            "text/latex": "A data.frame: 6 × 7\n\\begin{tabular}{r|lllllll}\n  & ZIPCODE & SIDO & GUGUN & DONG & RI & BUNJI & SEQ\\\\\n  & <chr> & <chr> & <chr> & <chr> & <chr> & <chr> & <int>\\\\\n\\hline\n\t1 & 135-806 & 서울 & 강남구 & 개포1동 & 경남아파트    & NA          & 1\\\\\n\t2 & 135-807 & 서울 & 강남구 & 개포1동 & 우성3차아파트 & (1∼6동)     & 2\\\\\n\t3 & 135-806 & 서울 & 강남구 & 개포1동 & 우성9차아파트 & (901∼902동) & 3\\\\\n\t4 & 135-770 & 서울 & 강남구 & 개포1동 & 주공아파트    & (1∼16동)    & 4\\\\\n\t5 & 135-805 & 서울 & 강남구 & 개포1동 & 주공아파트    & (17∼40동)   & 5\\\\\n\t6 & 135-966 & 서울 & 강남구 & 개포1동 & 주공아파트    & (41∼85동)   & 6\\\\\n\\end{tabular}\n",
            "text/markdown": "\nA data.frame: 6 × 7\n\n| <!--/--> | ZIPCODE &lt;chr&gt; | SIDO &lt;chr&gt; | GUGUN &lt;chr&gt; | DONG &lt;chr&gt; | RI &lt;chr&gt; | BUNJI &lt;chr&gt; | SEQ &lt;int&gt; |\n|---|---|---|---|---|---|---|---|\n| 1 | 135-806 | 서울 | 강남구 | 개포1동 | 경남아파트    | NA          | 1 |\n| 2 | 135-807 | 서울 | 강남구 | 개포1동 | 우성3차아파트 | (1∼6동)     | 2 |\n| 3 | 135-806 | 서울 | 강남구 | 개포1동 | 우성9차아파트 | (901∼902동) | 3 |\n| 4 | 135-770 | 서울 | 강남구 | 개포1동 | 주공아파트    | (1∼16동)    | 4 |\n| 5 | 135-805 | 서울 | 강남구 | 개포1동 | 주공아파트    | (17∼40동)   | 5 |\n| 6 | 135-966 | 서울 | 강남구 | 개포1동 | 주공아파트    | (41∼85동)   | 6 |\n\n",
            "text/html": [
              "<table>\n",
              "<caption>A data.frame: 6 × 7</caption>\n",
              "<thead>\n",
              "\t<tr><th></th><th scope=col>ZIPCODE</th><th scope=col>SIDO</th><th scope=col>GUGUN</th><th scope=col>DONG</th><th scope=col>RI</th><th scope=col>BUNJI</th><th scope=col>SEQ</th></tr>\n",
              "\t<tr><th></th><th scope=col>&lt;chr&gt;</th><th scope=col>&lt;chr&gt;</th><th scope=col>&lt;chr&gt;</th><th scope=col>&lt;chr&gt;</th><th scope=col>&lt;chr&gt;</th><th scope=col>&lt;chr&gt;</th><th scope=col>&lt;int&gt;</th></tr>\n",
              "</thead>\n",
              "<tbody>\n",
              "\t<tr><th scope=row>1</th><td>135-806</td><td>서울</td><td>강남구</td><td>개포1동</td><td>경남아파트   </td><td>NA         </td><td>1</td></tr>\n",
              "\t<tr><th scope=row>2</th><td>135-807</td><td>서울</td><td>강남구</td><td>개포1동</td><td>우성3차아파트</td><td>(1∼6동)    </td><td>2</td></tr>\n",
              "\t<tr><th scope=row>3</th><td>135-806</td><td>서울</td><td>강남구</td><td>개포1동</td><td>우성9차아파트</td><td>(901∼902동)</td><td>3</td></tr>\n",
              "\t<tr><th scope=row>4</th><td>135-770</td><td>서울</td><td>강남구</td><td>개포1동</td><td>주공아파트   </td><td>(1∼16동)   </td><td>4</td></tr>\n",
              "\t<tr><th scope=row>5</th><td>135-805</td><td>서울</td><td>강남구</td><td>개포1동</td><td>주공아파트   </td><td>(17∼40동)  </td><td>5</td></tr>\n",
              "\t<tr><th scope=row>6</th><td>135-966</td><td>서울</td><td>강남구</td><td>개포1동</td><td>주공아파트   </td><td>(41∼85동)  </td><td>6</td></tr>\n",
              "</tbody>\n",
              "</table>\n"
            ]
          },
          "metadata": {
            "tags": []
          }
        }
      ]
    },
    {
      "cell_type": "code",
      "metadata": {
        "id": "R532-C9R9NR4",
        "colab_type": "code",
        "colab": {
          "base_uri": "https://localhost:8080/",
          "height": 33
        },
        "outputId": "39ec3cb8-3166-40d9-a8d3-50e8133b7b06"
      },
      "source": [
        "# 컬럼별 NA 확인\n",
        "colSums(is.na(emp))"
      ],
      "execution_count": 65,
      "outputs": [
        {
          "output_type": "display_data",
          "data": {
            "text/plain": [
              "   EMPLOYEE_ID     FIRST_NAME      LAST_NAME          EMAIL   PHONE_NUMBER \n",
              "             0              0              0              0              0 \n",
              "     HIRE_DATE         JOB_ID         SALARY COMMISSION_PCT     MANAGER_ID \n",
              "             0              0              0             72              1 \n",
              " DEPARTMENT_ID \n",
              "             1 "
            ],
            "text/latex": "\\begin{description*}\n\\item[EMPLOYEE\\textbackslash{}\\_ID] 0\n\\item[FIRST\\textbackslash{}\\_NAME] 0\n\\item[LAST\\textbackslash{}\\_NAME] 0\n\\item[EMAIL] 0\n\\item[PHONE\\textbackslash{}\\_NUMBER] 0\n\\item[HIRE\\textbackslash{}\\_DATE] 0\n\\item[JOB\\textbackslash{}\\_ID] 0\n\\item[SALARY] 0\n\\item[COMMISSION\\textbackslash{}\\_PCT] 72\n\\item[MANAGER\\textbackslash{}\\_ID] 1\n\\item[DEPARTMENT\\textbackslash{}\\_ID] 1\n\\end{description*}\n",
            "text/markdown": "EMPLOYEE_ID\n:   0FIRST_NAME\n:   0LAST_NAME\n:   0EMAIL\n:   0PHONE_NUMBER\n:   0HIRE_DATE\n:   0JOB_ID\n:   0SALARY\n:   0COMMISSION_PCT\n:   72MANAGER_ID\n:   1DEPARTMENT_ID\n:   1\n\n",
            "text/html": [
              "<style>\n",
              ".dl-inline {width: auto; margin:0; padding: 0}\n",
              ".dl-inline>dt, .dl-inline>dd {float: none; width: auto; display: inline-block}\n",
              ".dl-inline>dt::after {content: \":\\0020\"; padding-right: .5ex}\n",
              ".dl-inline>dt:not(:first-of-type) {padding-left: .5ex}\n",
              "</style><dl class=dl-inline><dt>EMPLOYEE_ID</dt><dd>0</dd><dt>FIRST_NAME</dt><dd>0</dd><dt>LAST_NAME</dt><dd>0</dd><dt>EMAIL</dt><dd>0</dd><dt>PHONE_NUMBER</dt><dd>0</dd><dt>HIRE_DATE</dt><dd>0</dd><dt>JOB_ID</dt><dd>0</dd><dt>SALARY</dt><dd>0</dd><dt>COMMISSION_PCT</dt><dd>72</dd><dt>MANAGER_ID</dt><dd>1</dd><dt>DEPARTMENT_ID</dt><dd>1</dd></dl>\n"
            ]
          },
          "metadata": {
            "tags": []
          }
        }
      ]
    },
    {
      "cell_type": "code",
      "metadata": {
        "id": "BOG6Sj7vFk2M",
        "colab_type": "code",
        "colab": {
          "base_uri": "https://localhost:8080/",
          "height": 176
        },
        "outputId": "e6f0ebe4-b2db-479d-abc8-6da7c39bb56a"
      },
      "source": [
        "# 수당 컬럼 대상으로 NA를 0으로 변경\n",
        "emp$COMMISSION_PCT[is.na(emp$COMMISSION_PCT)] <- 0\n",
        "head(emp)"
      ],
      "execution_count": 66,
      "outputs": [
        {
          "output_type": "display_data",
          "data": {
            "text/plain": [
              "  EMPLOYEE_ID FIRST_NAME LAST_NAME EMAIL    PHONE_NUMBER HIRE_DATE  JOB_ID \n",
              "1 100         Steven     King      SKING    515.123.4567 2003-06-17 AD_PRES\n",
              "2 101         Neena      Kochhar   NKOCHHAR 515.123.4568 2005-09-21 AD_VP  \n",
              "3 102         Lex        De Haan   LDEHAAN  515.123.4569 2001-01-13 AD_VP  \n",
              "4 103         Alexander  Hunold    AHUNOLD  590.423.4567 2006-01-03 IT_PROG\n",
              "5 104         Bruce      Ernst     BERNST   590.423.4568 2007-05-21 IT_PROG\n",
              "6 105         David      Austin    DAUSTIN  590.423.4569 2005-06-25 IT_PROG\n",
              "  SALARY COMMISSION_PCT MANAGER_ID DEPARTMENT_ID\n",
              "1 24000  0               NA        90           \n",
              "2 17000  0              100        90           \n",
              "3 17000  0              100        90           \n",
              "4  9000  0              102        60           \n",
              "5  6000  0              103        60           \n",
              "6  4800  0              103        60           "
            ],
            "text/latex": "A data.frame: 6 × 11\n\\begin{tabular}{r|lllllllllll}\n  & EMPLOYEE\\_ID & FIRST\\_NAME & LAST\\_NAME & EMAIL & PHONE\\_NUMBER & HIRE\\_DATE & JOB\\_ID & SALARY & COMMISSION\\_PCT & MANAGER\\_ID & DEPARTMENT\\_ID\\\\\n  & <int> & <fct> & <fct> & <fct> & <fct> & <fct> & <fct> & <int> & <dbl> & <int> & <int>\\\\\n\\hline\n\t1 & 100 & Steven    & King    & SKING    & 515.123.4567 & 2003-06-17 & AD\\_PRES & 24000 & 0 &  NA & 90\\\\\n\t2 & 101 & Neena     & Kochhar & NKOCHHAR & 515.123.4568 & 2005-09-21 & AD\\_VP   & 17000 & 0 & 100 & 90\\\\\n\t3 & 102 & Lex       & De Haan & LDEHAAN  & 515.123.4569 & 2001-01-13 & AD\\_VP   & 17000 & 0 & 100 & 90\\\\\n\t4 & 103 & Alexander & Hunold  & AHUNOLD  & 590.423.4567 & 2006-01-03 & IT\\_PROG &  9000 & 0 & 102 & 60\\\\\n\t5 & 104 & Bruce     & Ernst   & BERNST   & 590.423.4568 & 2007-05-21 & IT\\_PROG &  6000 & 0 & 103 & 60\\\\\n\t6 & 105 & David     & Austin  & DAUSTIN  & 590.423.4569 & 2005-06-25 & IT\\_PROG &  4800 & 0 & 103 & 60\\\\\n\\end{tabular}\n",
            "text/markdown": "\nA data.frame: 6 × 11\n\n| <!--/--> | EMPLOYEE_ID &lt;int&gt; | FIRST_NAME &lt;fct&gt; | LAST_NAME &lt;fct&gt; | EMAIL &lt;fct&gt; | PHONE_NUMBER &lt;fct&gt; | HIRE_DATE &lt;fct&gt; | JOB_ID &lt;fct&gt; | SALARY &lt;int&gt; | COMMISSION_PCT &lt;dbl&gt; | MANAGER_ID &lt;int&gt; | DEPARTMENT_ID &lt;int&gt; |\n|---|---|---|---|---|---|---|---|---|---|---|---|\n| 1 | 100 | Steven    | King    | SKING    | 515.123.4567 | 2003-06-17 | AD_PRES | 24000 | 0 |  NA | 90 |\n| 2 | 101 | Neena     | Kochhar | NKOCHHAR | 515.123.4568 | 2005-09-21 | AD_VP   | 17000 | 0 | 100 | 90 |\n| 3 | 102 | Lex       | De Haan | LDEHAAN  | 515.123.4569 | 2001-01-13 | AD_VP   | 17000 | 0 | 100 | 90 |\n| 4 | 103 | Alexander | Hunold  | AHUNOLD  | 590.423.4567 | 2006-01-03 | IT_PROG |  9000 | 0 | 102 | 60 |\n| 5 | 104 | Bruce     | Ernst   | BERNST   | 590.423.4568 | 2007-05-21 | IT_PROG |  6000 | 0 | 103 | 60 |\n| 6 | 105 | David     | Austin  | DAUSTIN  | 590.423.4569 | 2005-06-25 | IT_PROG |  4800 | 0 | 103 | 60 |\n\n",
            "text/html": [
              "<table>\n",
              "<caption>A data.frame: 6 × 11</caption>\n",
              "<thead>\n",
              "\t<tr><th></th><th scope=col>EMPLOYEE_ID</th><th scope=col>FIRST_NAME</th><th scope=col>LAST_NAME</th><th scope=col>EMAIL</th><th scope=col>PHONE_NUMBER</th><th scope=col>HIRE_DATE</th><th scope=col>JOB_ID</th><th scope=col>SALARY</th><th scope=col>COMMISSION_PCT</th><th scope=col>MANAGER_ID</th><th scope=col>DEPARTMENT_ID</th></tr>\n",
              "\t<tr><th></th><th scope=col>&lt;int&gt;</th><th scope=col>&lt;fct&gt;</th><th scope=col>&lt;fct&gt;</th><th scope=col>&lt;fct&gt;</th><th scope=col>&lt;fct&gt;</th><th scope=col>&lt;fct&gt;</th><th scope=col>&lt;fct&gt;</th><th scope=col>&lt;int&gt;</th><th scope=col>&lt;dbl&gt;</th><th scope=col>&lt;int&gt;</th><th scope=col>&lt;int&gt;</th></tr>\n",
              "</thead>\n",
              "<tbody>\n",
              "\t<tr><th scope=row>1</th><td>100</td><td>Steven   </td><td>King   </td><td>SKING   </td><td>515.123.4567</td><td>2003-06-17</td><td>AD_PRES</td><td>24000</td><td>0</td><td> NA</td><td>90</td></tr>\n",
              "\t<tr><th scope=row>2</th><td>101</td><td>Neena    </td><td>Kochhar</td><td>NKOCHHAR</td><td>515.123.4568</td><td>2005-09-21</td><td>AD_VP  </td><td>17000</td><td>0</td><td>100</td><td>90</td></tr>\n",
              "\t<tr><th scope=row>3</th><td>102</td><td>Lex      </td><td>De Haan</td><td>LDEHAAN </td><td>515.123.4569</td><td>2001-01-13</td><td>AD_VP  </td><td>17000</td><td>0</td><td>100</td><td>90</td></tr>\n",
              "\t<tr><th scope=row>4</th><td>103</td><td>Alexander</td><td>Hunold </td><td>AHUNOLD </td><td>590.423.4567</td><td>2006-01-03</td><td>IT_PROG</td><td> 9000</td><td>0</td><td>102</td><td>60</td></tr>\n",
              "\t<tr><th scope=row>5</th><td>104</td><td>Bruce    </td><td>Ernst  </td><td>BERNST  </td><td>590.423.4568</td><td>2007-05-21</td><td>IT_PROG</td><td> 6000</td><td>0</td><td>103</td><td>60</td></tr>\n",
              "\t<tr><th scope=row>6</th><td>105</td><td>David    </td><td>Austin </td><td>DAUSTIN </td><td>590.423.4569</td><td>2005-06-25</td><td>IT_PROG</td><td> 4800</td><td>0</td><td>103</td><td>60</td></tr>\n",
              "</tbody>\n",
              "</table>\n"
            ]
          },
          "metadata": {
            "tags": []
          }
        }
      ]
    },
    {
      "cell_type": "code",
      "metadata": {
        "id": "6Fofb4xBHACZ",
        "colab_type": "code",
        "colab": {
          "base_uri": "https://localhost:8080/",
          "height": 33
        },
        "outputId": "f2a61e92-e4e3-40cc-b350-c6498c15f595"
      },
      "source": [
        "colSums(is.na(zip2013))"
      ],
      "execution_count": 67,
      "outputs": [
        {
          "output_type": "display_data",
          "data": {
            "text/plain": [
              "ZIPCODE    SIDO   GUGUN    DONG      RI   BUNJI     SEQ \n",
              "      0       0     186       0   20489   31541       0 "
            ],
            "text/latex": "\\begin{description*}\n\\item[ZIPCODE] 0\n\\item[SIDO] 0\n\\item[GUGUN] 186\n\\item[DONG] 0\n\\item[RI] 20489\n\\item[BUNJI] 31541\n\\item[SEQ] 0\n\\end{description*}\n",
            "text/markdown": "ZIPCODE\n:   0SIDO\n:   0GUGUN\n:   186DONG\n:   0RI\n:   20489BUNJI\n:   31541SEQ\n:   0\n\n",
            "text/html": [
              "<style>\n",
              ".dl-inline {width: auto; margin:0; padding: 0}\n",
              ".dl-inline>dt, .dl-inline>dd {float: none; width: auto; display: inline-block}\n",
              ".dl-inline>dt::after {content: \":\\0020\"; padding-right: .5ex}\n",
              ".dl-inline>dt:not(:first-of-type) {padding-left: .5ex}\n",
              "</style><dl class=dl-inline><dt>ZIPCODE</dt><dd>0</dd><dt>SIDO</dt><dd>0</dd><dt>GUGUN</dt><dd>186</dd><dt>DONG</dt><dd>0</dd><dt>RI</dt><dd>20489</dd><dt>BUNJI</dt><dd>31541</dd><dt>SEQ</dt><dd>0</dd></dl>\n"
            ]
          },
          "metadata": {
            "tags": []
          }
        }
      ]
    },
    {
      "cell_type": "code",
      "metadata": {
        "id": "uwaiUCr2HEgj",
        "colab_type": "code",
        "colab": {
          "base_uri": "https://localhost:8080/",
          "height": 33
        },
        "outputId": "4162d962-2b19-4964-e675-b9a0cfd05337"
      },
      "source": [
        "# NA 부분 빈칸으로 바꾸기\n",
        "zip2013$GUGUN[is.na(zip2013$GUGUN)] <-''\n",
        "zip2013$RI[is.na(zip2013$RI)] <-''\n",
        "zip2013$BUNJI[is.na(zip2013$BUNJI)] <-''\n",
        "colSums(is.na(zip2013))"
      ],
      "execution_count": 68,
      "outputs": [
        {
          "output_type": "display_data",
          "data": {
            "text/plain": [
              "ZIPCODE    SIDO   GUGUN    DONG      RI   BUNJI     SEQ \n",
              "      0       0       0       0       0       0       0 "
            ],
            "text/latex": "\\begin{description*}\n\\item[ZIPCODE] 0\n\\item[SIDO] 0\n\\item[GUGUN] 0\n\\item[DONG] 0\n\\item[RI] 0\n\\item[BUNJI] 0\n\\item[SEQ] 0\n\\end{description*}\n",
            "text/markdown": "ZIPCODE\n:   0SIDO\n:   0GUGUN\n:   0DONG\n:   0RI\n:   0BUNJI\n:   0SEQ\n:   0\n\n",
            "text/html": [
              "<style>\n",
              ".dl-inline {width: auto; margin:0; padding: 0}\n",
              ".dl-inline>dt, .dl-inline>dd {float: none; width: auto; display: inline-block}\n",
              ".dl-inline>dt::after {content: \":\\0020\"; padding-right: .5ex}\n",
              ".dl-inline>dt:not(:first-of-type) {padding-left: .5ex}\n",
              "</style><dl class=dl-inline><dt>ZIPCODE</dt><dd>0</dd><dt>SIDO</dt><dd>0</dd><dt>GUGUN</dt><dd>0</dd><dt>DONG</dt><dd>0</dd><dt>RI</dt><dd>0</dd><dt>BUNJI</dt><dd>0</dd><dt>SEQ</dt><dd>0</dd></dl>\n"
            ]
          },
          "metadata": {
            "tags": []
          }
        }
      ]
    },
    {
      "cell_type": "code",
      "metadata": {
        "id": "UzlyOgq0J2zO",
        "colab_type": "code",
        "colab": {}
      },
      "source": [
        "# 1973년, 뉴욕에서 수집한 일단 대기질 데이터인 airquality를 이용하여 결측치를 알아보고 적당한 값으로 대체하시오"
      ],
      "execution_count": null,
      "outputs": []
    },
    {
      "cell_type": "code",
      "metadata": {
        "id": "DTlSB6HiKPwp",
        "colab_type": "code",
        "colab": {
          "base_uri": "https://localhost:8080/",
          "height": 281
        },
        "outputId": "c1460d09-2a9c-4a78-8861-fff0e1466c5d"
      },
      "source": [
        "air <- airquality\n",
        "head(air,10)\n",
        "colSums(is.na(air))\n",
        "colSums(!is.na(air))"
      ],
      "execution_count": 80,
      "outputs": [
        {
          "output_type": "display_data",
          "data": {
            "text/plain": [
              "   Ozone Solar.R Wind Temp Month Day\n",
              "1  41    190      7.4 67   5      1 \n",
              "2  36    118      8.0 72   5      2 \n",
              "3  12    149     12.6 74   5      3 \n",
              "4  18    313     11.5 62   5      4 \n",
              "5  NA     NA     14.3 56   5      5 \n",
              "6  28     NA     14.9 66   5      6 \n",
              "7  23    299      8.6 65   5      7 \n",
              "8  19     99     13.8 59   5      8 \n",
              "9   8     19     20.1 61   5      9 \n",
              "10 NA    194      8.6 69   5     10 "
            ],
            "text/latex": "A data.frame: 10 × 6\n\\begin{tabular}{r|llllll}\n  & Ozone & Solar.R & Wind & Temp & Month & Day\\\\\n  & <int> & <int> & <dbl> & <int> & <int> & <int>\\\\\n\\hline\n\t1 & 41 & 190 &  7.4 & 67 & 5 &  1\\\\\n\t2 & 36 & 118 &  8.0 & 72 & 5 &  2\\\\\n\t3 & 12 & 149 & 12.6 & 74 & 5 &  3\\\\\n\t4 & 18 & 313 & 11.5 & 62 & 5 &  4\\\\\n\t5 & NA &  NA & 14.3 & 56 & 5 &  5\\\\\n\t6 & 28 &  NA & 14.9 & 66 & 5 &  6\\\\\n\t7 & 23 & 299 &  8.6 & 65 & 5 &  7\\\\\n\t8 & 19 &  99 & 13.8 & 59 & 5 &  8\\\\\n\t9 &  8 &  19 & 20.1 & 61 & 5 &  9\\\\\n\t10 & NA & 194 &  8.6 & 69 & 5 & 10\\\\\n\\end{tabular}\n",
            "text/markdown": "\nA data.frame: 10 × 6\n\n| <!--/--> | Ozone &lt;int&gt; | Solar.R &lt;int&gt; | Wind &lt;dbl&gt; | Temp &lt;int&gt; | Month &lt;int&gt; | Day &lt;int&gt; |\n|---|---|---|---|---|---|---|\n| 1 | 41 | 190 |  7.4 | 67 | 5 |  1 |\n| 2 | 36 | 118 |  8.0 | 72 | 5 |  2 |\n| 3 | 12 | 149 | 12.6 | 74 | 5 |  3 |\n| 4 | 18 | 313 | 11.5 | 62 | 5 |  4 |\n| 5 | NA |  NA | 14.3 | 56 | 5 |  5 |\n| 6 | 28 |  NA | 14.9 | 66 | 5 |  6 |\n| 7 | 23 | 299 |  8.6 | 65 | 5 |  7 |\n| 8 | 19 |  99 | 13.8 | 59 | 5 |  8 |\n| 9 |  8 |  19 | 20.1 | 61 | 5 |  9 |\n| 10 | NA | 194 |  8.6 | 69 | 5 | 10 |\n\n",
            "text/html": [
              "<table>\n",
              "<caption>A data.frame: 10 × 6</caption>\n",
              "<thead>\n",
              "\t<tr><th></th><th scope=col>Ozone</th><th scope=col>Solar.R</th><th scope=col>Wind</th><th scope=col>Temp</th><th scope=col>Month</th><th scope=col>Day</th></tr>\n",
              "\t<tr><th></th><th scope=col>&lt;int&gt;</th><th scope=col>&lt;int&gt;</th><th scope=col>&lt;dbl&gt;</th><th scope=col>&lt;int&gt;</th><th scope=col>&lt;int&gt;</th><th scope=col>&lt;int&gt;</th></tr>\n",
              "</thead>\n",
              "<tbody>\n",
              "\t<tr><th scope=row>1</th><td>41</td><td>190</td><td> 7.4</td><td>67</td><td>5</td><td> 1</td></tr>\n",
              "\t<tr><th scope=row>2</th><td>36</td><td>118</td><td> 8.0</td><td>72</td><td>5</td><td> 2</td></tr>\n",
              "\t<tr><th scope=row>3</th><td>12</td><td>149</td><td>12.6</td><td>74</td><td>5</td><td> 3</td></tr>\n",
              "\t<tr><th scope=row>4</th><td>18</td><td>313</td><td>11.5</td><td>62</td><td>5</td><td> 4</td></tr>\n",
              "\t<tr><th scope=row>5</th><td>NA</td><td> NA</td><td>14.3</td><td>56</td><td>5</td><td> 5</td></tr>\n",
              "\t<tr><th scope=row>6</th><td>28</td><td> NA</td><td>14.9</td><td>66</td><td>5</td><td> 6</td></tr>\n",
              "\t<tr><th scope=row>7</th><td>23</td><td>299</td><td> 8.6</td><td>65</td><td>5</td><td> 7</td></tr>\n",
              "\t<tr><th scope=row>8</th><td>19</td><td> 99</td><td>13.8</td><td>59</td><td>5</td><td> 8</td></tr>\n",
              "\t<tr><th scope=row>9</th><td> 8</td><td> 19</td><td>20.1</td><td>61</td><td>5</td><td> 9</td></tr>\n",
              "\t<tr><th scope=row>10</th><td>NA</td><td>194</td><td> 8.6</td><td>69</td><td>5</td><td>10</td></tr>\n",
              "</tbody>\n",
              "</table>\n"
            ]
          },
          "metadata": {
            "tags": []
          }
        },
        {
          "output_type": "display_data",
          "data": {
            "text/plain": [
              "  Ozone Solar.R    Wind    Temp   Month     Day \n",
              "     37       7       0       0       0       0 "
            ],
            "text/latex": "\\begin{description*}\n\\item[Ozone] 37\n\\item[Solar.R] 7\n\\item[Wind] 0\n\\item[Temp] 0\n\\item[Month] 0\n\\item[Day] 0\n\\end{description*}\n",
            "text/markdown": "Ozone\n:   37Solar.R\n:   7Wind\n:   0Temp\n:   0Month\n:   0Day\n:   0\n\n",
            "text/html": [
              "<style>\n",
              ".dl-inline {width: auto; margin:0; padding: 0}\n",
              ".dl-inline>dt, .dl-inline>dd {float: none; width: auto; display: inline-block}\n",
              ".dl-inline>dt::after {content: \":\\0020\"; padding-right: .5ex}\n",
              ".dl-inline>dt:not(:first-of-type) {padding-left: .5ex}\n",
              "</style><dl class=dl-inline><dt>Ozone</dt><dd>37</dd><dt>Solar.R</dt><dd>7</dd><dt>Wind</dt><dd>0</dd><dt>Temp</dt><dd>0</dd><dt>Month</dt><dd>0</dd><dt>Day</dt><dd>0</dd></dl>\n"
            ]
          },
          "metadata": {
            "tags": []
          }
        },
        {
          "output_type": "display_data",
          "data": {
            "text/plain": [
              "  Ozone Solar.R    Wind    Temp   Month     Day \n",
              "    116     146     153     153     153     153 "
            ],
            "text/latex": "\\begin{description*}\n\\item[Ozone] 116\n\\item[Solar.R] 146\n\\item[Wind] 153\n\\item[Temp] 153\n\\item[Month] 153\n\\item[Day] 153\n\\end{description*}\n",
            "text/markdown": "Ozone\n:   116Solar.R\n:   146Wind\n:   153Temp\n:   153Month\n:   153Day\n:   153\n\n",
            "text/html": [
              "<style>\n",
              ".dl-inline {width: auto; margin:0; padding: 0}\n",
              ".dl-inline>dt, .dl-inline>dd {float: none; width: auto; display: inline-block}\n",
              ".dl-inline>dt::after {content: \":\\0020\"; padding-right: .5ex}\n",
              ".dl-inline>dt:not(:first-of-type) {padding-left: .5ex}\n",
              "</style><dl class=dl-inline><dt>Ozone</dt><dd>116</dd><dt>Solar.R</dt><dd>146</dd><dt>Wind</dt><dd>153</dd><dt>Temp</dt><dd>153</dd><dt>Month</dt><dd>153</dd><dt>Day</dt><dd>153</dd></dl>\n"
            ]
          },
          "metadata": {
            "tags": []
          }
        }
      ]
    },
    {
      "cell_type": "code",
      "metadata": {
        "id": "y32YBi8cKgwa",
        "colab_type": "code",
        "colab": {
          "base_uri": "https://localhost:8080/",
          "height": 33
        },
        "outputId": "48070d02-0bed-4d82-998f-e4a90cb224c3"
      },
      "source": [
        "air$Ozone[is.na(air$Ozone)]<- mean(air$Ozone,na.rm = T)\n",
        "air$Solar.R[is.na(air$Solar.R)] <- mean(air$Solar.R, na.rm=T)\n",
        "colSums(is.na(air))"
      ],
      "execution_count": 77,
      "outputs": [
        {
          "output_type": "display_data",
          "data": {
            "text/plain": [
              "  Ozone Solar.R    Wind    Temp   Month     Day \n",
              "      0       0       0       0       0       0 "
            ],
            "text/latex": "\\begin{description*}\n\\item[Ozone] 0\n\\item[Solar.R] 0\n\\item[Wind] 0\n\\item[Temp] 0\n\\item[Month] 0\n\\item[Day] 0\n\\end{description*}\n",
            "text/markdown": "Ozone\n:   0Solar.R\n:   0Wind\n:   0Temp\n:   0Month\n:   0Day\n:   0\n\n",
            "text/html": [
              "<style>\n",
              ".dl-inline {width: auto; margin:0; padding: 0}\n",
              ".dl-inline>dt, .dl-inline>dd {float: none; width: auto; display: inline-block}\n",
              ".dl-inline>dt::after {content: \":\\0020\"; padding-right: .5ex}\n",
              ".dl-inline>dt:not(:first-of-type) {padding-left: .5ex}\n",
              "</style><dl class=dl-inline><dt>Ozone</dt><dd>0</dd><dt>Solar.R</dt><dd>0</dd><dt>Wind</dt><dd>0</dd><dt>Temp</dt><dd>0</dd><dt>Month</dt><dd>0</dd><dt>Day</dt><dd>0</dd></dl>\n"
            ]
          },
          "metadata": {
            "tags": []
          }
        }
      ]
    },
    {
      "cell_type": "markdown",
      "metadata": {
        "id": "ZnwX7eIp0NJW",
        "colab_type": "text"
      },
      "source": [
        "## 자주 사용하는 데이터프레임 저장하기\n",
        "save(객체명, 파일명)\n",
        "load(파일명)\n",
        "(단, 확장자는 rdata로 사용함)\n",
        "\n",
        "공용으로 저장할 경우 : \n",
        "write.csv, write.table, write_csv, fwrite 함수를 사용한다\n"
      ]
    },
    {
      "cell_type": "code",
      "metadata": {
        "id": "YAm38wK1wv_n",
        "colab_type": "code",
        "colab": {}
      },
      "source": [
        "# R 내장데이터중 iris데이터셋을 iris.csv로 저장"
      ],
      "execution_count": 143,
      "outputs": []
    },
    {
      "cell_type": "code",
      "metadata": {
        "id": "0i-Ie7RtuVFl",
        "colab_type": "code",
        "colab": {}
      },
      "source": [
        "iris\n",
        "write.csv(x=iris,'iris.csv',quote=F,row.names=F)\n",
        "# qoute =f : 인용부호 제외"
      ],
      "execution_count": null,
      "outputs": []
    },
    {
      "cell_type": "code",
      "metadata": {
        "id": "q9r83DrP0-Om",
        "colab_type": "code",
        "colab": {}
      },
      "source": [
        "write.csv(Manager,'managers.csv',quote=F,row.names=F)"
      ],
      "execution_count": 160,
      "outputs": []
    },
    {
      "cell_type": "code",
      "metadata": {
        "id": "jy1NUeoJ8TQk",
        "colab_type": "code",
        "colab": {}
      },
      "source": [
        ""
      ],
      "execution_count": null,
      "outputs": []
    }
  ]
}
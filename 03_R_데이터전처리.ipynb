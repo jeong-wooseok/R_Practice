{
  "nbformat": 4,
  "nbformat_minor": 0,
  "metadata": {
    "colab": {
      "name": "03_R_데이터전처리.ipynb",
      "provenance": [],
      "collapsed_sections": [],
      "toc_visible": true,
      "authorship_tag": "ABX9TyOa6qd3xxjymE0L8+q4hZri",
      "include_colab_link": true
    },
    "kernelspec": {
      "name": "ir",
      "display_name": "R"
    }
  },
  "cells": [
    {
      "cell_type": "markdown",
      "metadata": {
        "id": "view-in-github",
        "colab_type": "text"
      },
      "source": [
        "<a href=\"https://colab.research.google.com/github/jeong-wooseok/R_Practice/blob/master/03_R_%EB%8D%B0%EC%9D%B4%ED%84%B0%EC%A0%84%EC%B2%98%EB%A6%AC.ipynb\" target=\"_parent\"><img src=\"https://colab.research.google.com/assets/colab-badge.svg\" alt=\"Open In Colab\"/></a>"
      ]
    },
    {
      "cell_type": "markdown",
      "metadata": {
        "id": "5Yf-JTriuA5-",
        "colab_type": "text"
      },
      "source": [
        "[R 코랩만들기](https://colab.research.google.com/#create=true&language=r)"
      ]
    },
    {
      "cell_type": "markdown",
      "metadata": {
        "id": "pmzncx7luFpG",
        "colab_type": "text"
      },
      "source": [
        "## 특이값 (Outlier)\n",
        "* 정상적이라고 생각되는 데이터의 범위 밖에 위치하는 값들을 의미<br>\n",
        "* 잘못 입력하거나, 정상이지만 상황에 따라 큰 값이 입력되는 경우에 주로 발생<br>\n",
        "* 전체 데이터의 평균을 끌어올리거나 낮추는 등 왜곡을 가져오기에 분석 전 제거 필요<br>\n"
      ]
    },
    {
      "cell_type": "markdown",
      "metadata": {
        "id": "zDp4gaBXPKZ0",
        "colab_type": "text"
      },
      "source": [
        "### 특이값 처리"
      ]
    },
    {
      "cell_type": "markdown",
      "metadata": {
        "id": "7pTW9drpwoni",
        "colab_type": "text"
      },
      "source": [
        "#### 미국 50개 주에 대한 통계자료\n",
        "미국 50개 주에 대한 통계자료 중 주별 수입에 대해 상자그래프를 작성하시오"
      ]
    },
    {
      "cell_type": "code",
      "metadata": {
        "id": "kkPraBjztdC1",
        "colab_type": "code",
        "colab": {}
      },
      "source": [
        "state77 <- data.frame(state.x77) #데이터프레임으로 불러오기"
      ],
      "execution_count": 11,
      "outputs": []
    },
    {
      "cell_type": "code",
      "metadata": {
        "id": "8eI3X-plxKN5",
        "colab_type": "code",
        "colab": {
          "base_uri": "https://localhost:8080/",
          "height": 262
        },
        "outputId": "78a7ea27-f47d-45d7-faeb-b0aea399d15c"
      },
      "source": [
        "summary(state77)"
      ],
      "execution_count": 12,
      "outputs": [
        {
          "output_type": "display_data",
          "data": {
            "text/plain": [
              "   Population        Income       Illiteracy       Life.Exp    \n",
              " Min.   :  365   Min.   :3098   Min.   :0.500   Min.   :67.96  \n",
              " 1st Qu.: 1080   1st Qu.:3993   1st Qu.:0.625   1st Qu.:70.12  \n",
              " Median : 2838   Median :4519   Median :0.950   Median :70.67  \n",
              " Mean   : 4246   Mean   :4436   Mean   :1.170   Mean   :70.88  \n",
              " 3rd Qu.: 4968   3rd Qu.:4814   3rd Qu.:1.575   3rd Qu.:71.89  \n",
              " Max.   :21198   Max.   :6315   Max.   :2.800   Max.   :73.60  \n",
              "     Murder          HS.Grad          Frost             Area       \n",
              " Min.   : 1.400   Min.   :37.80   Min.   :  0.00   Min.   :  1049  \n",
              " 1st Qu.: 4.350   1st Qu.:48.05   1st Qu.: 66.25   1st Qu.: 36985  \n",
              " Median : 6.850   Median :53.25   Median :114.50   Median : 54277  \n",
              " Mean   : 7.378   Mean   :53.11   Mean   :104.46   Mean   : 70736  \n",
              " 3rd Qu.:10.675   3rd Qu.:59.15   3rd Qu.:139.75   3rd Qu.: 81162  \n",
              " Max.   :15.100   Max.   :67.30   Max.   :188.00   Max.   :566432  "
            ]
          },
          "metadata": {
            "tags": []
          }
        }
      ]
    },
    {
      "cell_type": "code",
      "metadata": {
        "id": "xR9d8DqIxLXT",
        "colab_type": "code",
        "colab": {
          "base_uri": "https://localhost:8080/",
          "height": 175
        },
        "outputId": "4d0a78da-a77d-4f5a-bae8-03d40a6ce851"
      },
      "source": [
        "boxplot.stats(state77$Income) #통계지표 보기"
      ],
      "execution_count": 13,
      "outputs": [
        {
          "output_type": "display_data",
          "data": {
            "text/plain": [
              "$stats\n",
              "[1] 3098 3983 4519 4815 5348\n",
              "\n",
              "$n\n",
              "[1] 50\n",
              "\n",
              "$conf\n",
              "[1] 4333.093 4704.907\n",
              "\n",
              "$out\n",
              "[1] 6315\n"
            ],
            "text/latex": "\\begin{description}\n\\item[\\$stats] \\begin{enumerate*}\n\\item 3098\n\\item 3983\n\\item 4519\n\\item 4815\n\\item 5348\n\\end{enumerate*}\n\n\\item[\\$n] 50\n\\item[\\$conf] \\begin{enumerate*}\n\\item 4333.09314194468\n\\item 4704.90685805532\n\\end{enumerate*}\n\n\\item[\\$out] 6315\n\\end{description}\n",
            "text/markdown": "$stats\n:   1. 3098\n2. 3983\n3. 4519\n4. 4815\n5. 5348\n\n\n\n$n\n:   50\n$conf\n:   1. 4333.09314194468\n2. 4704.90685805532\n\n\n\n$out\n:   6315\n\n\n",
            "text/html": [
              "<dl>\n",
              "\t<dt>$stats</dt>\n",
              "\t\t<dd><style>\n",
              ".list-inline {list-style: none; margin:0; padding: 0}\n",
              ".list-inline>li {display: inline-block}\n",
              ".list-inline>li:not(:last-child)::after {content: \"\\00b7\"; padding: 0 .5ex}\n",
              "</style>\n",
              "<ol class=list-inline><li>3098</li><li>3983</li><li>4519</li><li>4815</li><li>5348</li></ol>\n",
              "</dd>\n",
              "\t<dt>$n</dt>\n",
              "\t\t<dd>50</dd>\n",
              "\t<dt>$conf</dt>\n",
              "\t\t<dd><style>\n",
              ".list-inline {list-style: none; margin:0; padding: 0}\n",
              ".list-inline>li {display: inline-block}\n",
              ".list-inline>li:not(:last-child)::after {content: \"\\00b7\"; padding: 0 .5ex}\n",
              "</style>\n",
              "<ol class=list-inline><li>4333.09314194468</li><li>4704.90685805532</li></ol>\n",
              "</dd>\n",
              "\t<dt>$out</dt>\n",
              "\t\t<dd>6315</dd>\n",
              "</dl>\n"
            ]
          },
          "metadata": {
            "tags": []
          }
        }
      ]
    },
    {
      "cell_type": "code",
      "metadata": {
        "id": "kR3IRD0QxfE1",
        "colab_type": "code",
        "colab": {
          "base_uri": "https://localhost:8080/",
          "height": 437
        },
        "outputId": "d8096482-1f2d-486c-e867-9997cb4db34f"
      },
      "source": [
        "boxplot(state77$Income) #boxplot보기"
      ],
      "execution_count": 14,
      "outputs": [
        {
          "output_type": "display_data",
          "data": {
            "image/png": "[encoded data removed]",
            "text/plain": [
              "plot without title"
            ]
          },
          "metadata": {
            "tags": [],
            "image/png": {
              "width": 420,
              "height": 420
            }
          }
        }
      ]
    },
    {
      "cell_type": "markdown",
      "metadata": {
        "id": "GRmGtf6IyTfO",
        "colab_type": "text"
      },
      "source": [
        "*50개주 중 6000달러 이상인 특이치가 있음을 알 수 있음*"
      ]
    },
    {
      "cell_type": "code",
      "metadata": {
        "id": "bHq9g8uPxvty",
        "colab_type": "code",
        "colab": {
          "base_uri": "https://localhost:8080/",
          "height": 87
        },
        "outputId": "8a3d264d-f932-424d-e3fd-a2f3ab071551"
      },
      "source": [
        "state77[state77$Income > 6000,]"
      ],
      "execution_count": 23,
      "outputs": [
        {
          "output_type": "display_data",
          "data": {
            "text/plain": [
              "       Population Income Illiteracy Life.Exp Murder HS.Grad Frost Area  \n",
              "Alaska 365        6315   1.5        69.31    11.3   66.7    152   566432"
            ],
            "text/latex": "A data.frame: 1 × 8\n\\begin{tabular}{r|llllllll}\n  & Population & Income & Illiteracy & Life.Exp & Murder & HS.Grad & Frost & Area\\\\\n  & <dbl> & <dbl> & <dbl> & <dbl> & <dbl> & <dbl> & <dbl> & <dbl>\\\\\n\\hline\n\tAlaska & 365 & 6315 & 1.5 & 69.31 & 11.3 & 66.7 & 152 & 566432\\\\\n\\end{tabular}\n",
            "text/markdown": "\nA data.frame: 1 × 8\n\n| <!--/--> | Population &lt;dbl&gt; | Income &lt;dbl&gt; | Illiteracy &lt;dbl&gt; | Life.Exp &lt;dbl&gt; | Murder &lt;dbl&gt; | HS.Grad &lt;dbl&gt; | Frost &lt;dbl&gt; | Area &lt;dbl&gt; |\n|---|---|---|---|---|---|---|---|---|\n| Alaska | 365 | 6315 | 1.5 | 69.31 | 11.3 | 66.7 | 152 | 566432 |\n\n",
            "text/html": [
              "<table>\n",
              "<caption>A data.frame: 1 × 8</caption>\n",
              "<thead>\n",
              "\t<tr><th></th><th scope=col>Population</th><th scope=col>Income</th><th scope=col>Illiteracy</th><th scope=col>Life.Exp</th><th scope=col>Murder</th><th scope=col>HS.Grad</th><th scope=col>Frost</th><th scope=col>Area</th></tr>\n",
              "\t<tr><th></th><th scope=col>&lt;dbl&gt;</th><th scope=col>&lt;dbl&gt;</th><th scope=col>&lt;dbl&gt;</th><th scope=col>&lt;dbl&gt;</th><th scope=col>&lt;dbl&gt;</th><th scope=col>&lt;dbl&gt;</th><th scope=col>&lt;dbl&gt;</th><th scope=col>&lt;dbl&gt;</th></tr>\n",
              "</thead>\n",
              "<tbody>\n",
              "\t<tr><th scope=row>Alaska</th><td>365</td><td>6315</td><td>1.5</td><td>69.31</td><td>11.3</td><td>66.7</td><td>152</td><td>566432</td></tr>\n",
              "</tbody>\n",
              "</table>\n"
            ]
          },
          "metadata": {
            "tags": []
          }
        }
      ]
    },
    {
      "cell_type": "markdown",
      "metadata": {
        "id": "Fwq48ZhVzLYq",
        "colab_type": "text"
      },
      "source": [
        "1) 특이값 제거 방식 <br>\n",
        "특이값을 NA로 바꾼 후 na.omit으로 제거 처리"
      ]
    },
    {
      "cell_type": "code",
      "metadata": {
        "id": "lGAsVgtZy1Mc",
        "colab_type": "code",
        "colab": {}
      },
      "source": [
        "cnd <- state77$Income > 6000\n",
        "state77b <- state77\n",
        "state77b$Income[cnd] <- NA #특이값을 NA로 대체"
      ],
      "execution_count": 36,
      "outputs": []
    },
    {
      "cell_type": "code",
      "metadata": {
        "id": "e_Kz_oJ-z4uC",
        "colab_type": "code",
        "colab": {}
      },
      "source": [
        "state77b <- na.omit(state77b) # 특이값 제거"
      ],
      "execution_count": 37,
      "outputs": []
    },
    {
      "cell_type": "code",
      "metadata": {
        "id": "xj7YO6gW0PmY",
        "colab_type": "code",
        "colab": {
          "base_uri": "https://localhost:8080/",
          "height": 437
        },
        "outputId": "d61ada7c-de19-49b0-e64b-b8bef4367a68"
      },
      "source": [
        "boxplot(state77b$Income) #다시 상자그래프그림"
      ],
      "execution_count": 38,
      "outputs": [
        {
          "output_type": "display_data",
          "data": {
            "image/png": "[encoded data removed]",
            "text/plain": [
              "plot without title"
            ]
          },
          "metadata": {
            "tags": [],
            "image/png": {
              "width": 420,
              "height": 420
            }
          }
        }
      ]
    },
    {
      "cell_type": "code",
      "metadata": {
        "id": "e7BMMJfB0VYq",
        "colab_type": "code",
        "colab": {
          "base_uri": "https://localhost:8080/",
          "height": 158
        },
        "outputId": "2040ef63-84f7-43a7-eebe-a9b874753af2"
      },
      "source": [
        "boxplot.stats(state77b$Income)"
      ],
      "execution_count": 39,
      "outputs": [
        {
          "output_type": "display_data",
          "data": {
            "text/plain": [
              "$stats\n",
              "[1] 3098 3983 4508 4809 5348\n",
              "\n",
              "$n\n",
              "[1] 49\n",
              "\n",
              "$conf\n",
              "[1] 4321.56 4694.44\n",
              "\n",
              "$out\n",
              "numeric(0)\n"
            ],
            "text/latex": "\\begin{description}\n\\item[\\$stats] \\begin{enumerate*}\n\\item 3098\n\\item 3983\n\\item 4508\n\\item 4809\n\\item 5348\n\\end{enumerate*}\n\n\\item[\\$n] 49\n\\item[\\$conf] \\begin{enumerate*}\n\\item 4321.56\n\\item 4694.44\n\\end{enumerate*}\n\n\\item[\\$out] \n\\end{description}\n",
            "text/markdown": "$stats\n:   1. 3098\n2. 3983\n3. 4508\n4. 4809\n5. 5348\n\n\n\n$n\n:   49\n$conf\n:   1. 4321.56\n2. 4694.44\n\n\n\n$out\n:   \n\n\n",
            "text/html": [
              "<dl>\n",
              "\t<dt>$stats</dt>\n",
              "\t\t<dd><style>\n",
              ".list-inline {list-style: none; margin:0; padding: 0}\n",
              ".list-inline>li {display: inline-block}\n",
              ".list-inline>li:not(:last-child)::after {content: \"\\00b7\"; padding: 0 .5ex}\n",
              "</style>\n",
              "<ol class=list-inline><li>3098</li><li>3983</li><li>4508</li><li>4809</li><li>5348</li></ol>\n",
              "</dd>\n",
              "\t<dt>$n</dt>\n",
              "\t\t<dd>49</dd>\n",
              "\t<dt>$conf</dt>\n",
              "\t\t<dd><style>\n",
              ".list-inline {list-style: none; margin:0; padding: 0}\n",
              ".list-inline>li {display: inline-block}\n",
              ".list-inline>li:not(:last-child)::after {content: \"\\00b7\"; padding: 0 .5ex}\n",
              "</style>\n",
              "<ol class=list-inline><li>4321.56</li><li>4694.44</li></ol>\n",
              "</dd>\n",
              "\t<dt>$out</dt>\n",
              "\t\t<dd></dd>\n",
              "</dl>\n"
            ]
          },
          "metadata": {
            "tags": []
          }
        }
      ]
    },
    {
      "cell_type": "markdown",
      "metadata": {
        "id": "1Mjy2bpg1RGS",
        "colab_type": "text"
      },
      "source": [
        "#### 매니저\n",
        "나이에 대해 이상치 제거 전/후의 상자그래프를 그려보시오"
      ]
    },
    {
      "cell_type": "code",
      "metadata": {
        "id": "ERV-pCnj0ipy",
        "colab_type": "code",
        "colab": {}
      },
      "source": [
        "Manager <- c('1','2','3','4','5')\n",
        "Date <- c('2014-10-24','2014-10-28','2014-01-10','2014-10-12','2014-05-01')\n",
        "Country <- c('US','US','UK','UK','UK')\n",
        "Gender <- c('M','F','F','M','F')\n",
        "Age <- c(32,45,25,39,99)\n",
        "q1 = c(5,3,3,3,2)\n",
        "q2 <- c(4,5,5,3,2)\n",
        "q3 <- c(5,2,5,4,1)\n",
        "q4 <- c(5,5,5,NA,2)\n",
        "q5 <- c(5,5,2,NA,1)\n",
        "\n",
        "Manager<-data.frame(Manager,Date,Country,Gender,Age,q1,q2,q3,q4,q5)"
      ],
      "execution_count": 41,
      "outputs": []
    },
    {
      "cell_type": "code",
      "metadata": {
        "id": "WWmjqous1P3f",
        "colab_type": "code",
        "colab": {
          "base_uri": "https://localhost:8080/",
          "height": 297
        },
        "outputId": "eb2a6dae-f51f-4bb6-a8fe-2751a945c2c1"
      },
      "source": [
        "summary(Manager)"
      ],
      "execution_count": 42,
      "outputs": [
        {
          "output_type": "display_data",
          "data": {
            "text/plain": [
              " Manager         Date   Country Gender      Age           q1            q2     \n",
              " 1:1     2014-01-10:1   UK:3    F:3    Min.   :25   Min.   :2.0   Min.   :2.0  \n",
              " 2:1     2014-05-01:1   US:2    M:2    1st Qu.:32   1st Qu.:3.0   1st Qu.:3.0  \n",
              " 3:1     2014-10-12:1                  Median :39   Median :3.0   Median :4.0  \n",
              " 4:1     2014-10-24:1                  Mean   :48   Mean   :3.2   Mean   :3.8  \n",
              " 5:1     2014-10-28:1                  3rd Qu.:45   3rd Qu.:3.0   3rd Qu.:5.0  \n",
              "                                       Max.   :99   Max.   :5.0   Max.   :5.0  \n",
              "                                                                               \n",
              "       q3            q4             q5      \n",
              " Min.   :1.0   Min.   :2.00   Min.   :1.00  \n",
              " 1st Qu.:2.0   1st Qu.:4.25   1st Qu.:1.75  \n",
              " Median :4.0   Median :5.00   Median :3.50  \n",
              " Mean   :3.4   Mean   :4.25   Mean   :3.25  \n",
              " 3rd Qu.:5.0   3rd Qu.:5.00   3rd Qu.:5.00  \n",
              " Max.   :5.0   Max.   :5.00   Max.   :5.00  \n",
              "               NA's   :1      NA's   :1     "
            ]
          },
          "metadata": {
            "tags": []
          }
        }
      ]
    },
    {
      "cell_type": "code",
      "metadata": {
        "id": "wBHq7AmD1eAv",
        "colab_type": "code",
        "colab": {
          "base_uri": "https://localhost:8080/",
          "height": 437
        },
        "outputId": "a71e1887-944a-4e06-d5b4-af09fe797748"
      },
      "source": [
        "boxplot(Manager$Age)"
      ],
      "execution_count": 44,
      "outputs": [
        {
          "output_type": "display_data",
          "data": {
            "image/png": "[encoded data removed]",
            "text/plain": [
              "plot without title"
            ]
          },
          "metadata": {
            "tags": [],
            "image/png": {
              "width": 420,
              "height": 420
            }
          }
        }
      ]
    },
    {
      "cell_type": "code",
      "metadata": {
        "id": "JLR_I5bh2RSu",
        "colab_type": "code",
        "colab": {
          "base_uri": "https://localhost:8080/",
          "height": 175
        },
        "outputId": "cf974df9-d79e-4cd7-af41-d464906e7b87"
      },
      "source": [
        "boxplot.stats(Manager$Age)"
      ],
      "execution_count": 50,
      "outputs": [
        {
          "output_type": "display_data",
          "data": {
            "text/plain": [
              "$stats\n",
              "[1] 25 32 39 45 45\n",
              "\n",
              "$n\n",
              "[1] 5\n",
              "\n",
              "$conf\n",
              "[1] 29.81423 48.18577\n",
              "\n",
              "$out\n",
              "[1] 99\n"
            ],
            "text/latex": "\\begin{description}\n\\item[\\$stats] \\begin{enumerate*}\n\\item 25\n\\item 32\n\\item 39\n\\item 45\n\\item 45\n\\end{enumerate*}\n\n\\item[\\$n] 5\n\\item[\\$conf] \\begin{enumerate*}\n\\item 29.8142327484309\n\\item 48.1857672515691\n\\end{enumerate*}\n\n\\item[\\$out] 99\n\\end{description}\n",
            "text/markdown": "$stats\n:   1. 25\n2. 32\n3. 39\n4. 45\n5. 45\n\n\n\n$n\n:   5\n$conf\n:   1. 29.8142327484309\n2. 48.1857672515691\n\n\n\n$out\n:   99\n\n\n",
            "text/html": [
              "<dl>\n",
              "\t<dt>$stats</dt>\n",
              "\t\t<dd><style>\n",
              ".list-inline {list-style: none; margin:0; padding: 0}\n",
              ".list-inline>li {display: inline-block}\n",
              ".list-inline>li:not(:last-child)::after {content: \"\\00b7\"; padding: 0 .5ex}\n",
              "</style>\n",
              "<ol class=list-inline><li>25</li><li>32</li><li>39</li><li>45</li><li>45</li></ol>\n",
              "</dd>\n",
              "\t<dt>$n</dt>\n",
              "\t\t<dd>5</dd>\n",
              "\t<dt>$conf</dt>\n",
              "\t\t<dd><style>\n",
              ".list-inline {list-style: none; margin:0; padding: 0}\n",
              ".list-inline>li {display: inline-block}\n",
              ".list-inline>li:not(:last-child)::after {content: \"\\00b7\"; padding: 0 .5ex}\n",
              "</style>\n",
              "<ol class=list-inline><li>29.8142327484309</li><li>48.1857672515691</li></ol>\n",
              "</dd>\n",
              "\t<dt>$out</dt>\n",
              "\t\t<dd>99</dd>\n",
              "</dl>\n"
            ]
          },
          "metadata": {
            "tags": []
          }
        }
      ]
    },
    {
      "cell_type": "code",
      "metadata": {
        "id": "r2Gm_hA77rhd",
        "colab_type": "code",
        "colab": {}
      },
      "source": [
        "outval <- boxplot.stats(Manager$Age)$out\n",
        "cnd <- Manager$Age == outval\n",
        "Manager_b <- Manager\n",
        "Manager_b$Age[cnd] <- NA\n",
        "Manager_b <- na.omit(Manager_b)"
      ],
      "execution_count": 56,
      "outputs": []
    },
    {
      "cell_type": "code",
      "metadata": {
        "id": "jYJmshQd18hb",
        "colab_type": "code",
        "colab": {
          "base_uri": "https://localhost:8080/",
          "height": 437
        },
        "outputId": "abb37e7e-250c-45af-e9f8-798d353084e3"
      },
      "source": [
        "boxplot(Manager_b$Age)"
      ],
      "execution_count": 57,
      "outputs": [
        {
          "output_type": "display_data",
          "data": {
            "image/png": "[encoded data removed]",
            "text/plain": [
              "plot without title"
            ]
          },
          "metadata": {
            "tags": [],
            "image/png": {
              "width": 420,
              "height": 420
            }
          }
        }
      ]
    },
    {
      "cell_type": "code",
      "metadata": {
        "id": "sm-0C7Rj2Iks",
        "colab_type": "code",
        "colab": {
          "base_uri": "https://localhost:8080/",
          "height": 158
        },
        "outputId": "20666700-3c0f-42ad-c644-8d505cfde768"
      },
      "source": [
        "boxplot.stats(Manager_b$Age)"
      ],
      "execution_count": 49,
      "outputs": [
        {
          "output_type": "display_data",
          "data": {
            "text/plain": [
              "$stats\n",
              "[1] 25.0 28.5 32.0 38.5 45.0\n",
              "\n",
              "$n\n",
              "[1] 3\n",
              "\n",
              "$conf\n",
              "[1] 22.87787 41.12213\n",
              "\n",
              "$out\n",
              "numeric(0)\n"
            ],
            "text/latex": "\\begin{description}\n\\item[\\$stats] \\begin{enumerate*}\n\\item 25\n\\item 28.5\n\\item 32\n\\item 38.5\n\\item 45\n\\end{enumerate*}\n\n\\item[\\$n] 3\n\\item[\\$conf] \\begin{enumerate*}\n\\item 22.8778657468039\n\\item 41.1221342531961\n\\end{enumerate*}\n\n\\item[\\$out] \n\\end{description}\n",
            "text/markdown": "$stats\n:   1. 25\n2. 28.5\n3. 32\n4. 38.5\n5. 45\n\n\n\n$n\n:   3\n$conf\n:   1. 22.8778657468039\n2. 41.1221342531961\n\n\n\n$out\n:   \n\n\n",
            "text/html": [
              "<dl>\n",
              "\t<dt>$stats</dt>\n",
              "\t\t<dd><style>\n",
              ".list-inline {list-style: none; margin:0; padding: 0}\n",
              ".list-inline>li {display: inline-block}\n",
              ".list-inline>li:not(:last-child)::after {content: \"\\00b7\"; padding: 0 .5ex}\n",
              "</style>\n",
              "<ol class=list-inline><li>25</li><li>28.5</li><li>32</li><li>38.5</li><li>45</li></ol>\n",
              "</dd>\n",
              "\t<dt>$n</dt>\n",
              "\t\t<dd>3</dd>\n",
              "\t<dt>$conf</dt>\n",
              "\t\t<dd><style>\n",
              ".list-inline {list-style: none; margin:0; padding: 0}\n",
              ".list-inline>li {display: inline-block}\n",
              ".list-inline>li:not(:last-child)::after {content: \"\\00b7\"; padding: 0 .5ex}\n",
              "</style>\n",
              "<ol class=list-inline><li>22.8778657468039</li><li>41.1221342531961</li></ol>\n",
              "</dd>\n",
              "\t<dt>$out</dt>\n",
              "\t\t<dd></dd>\n",
              "</dl>\n"
            ]
          },
          "metadata": {
            "tags": []
          }
        }
      ]
    },
    {
      "cell_type": "code",
      "metadata": {
        "id": "9-_J8nE62Ovb",
        "colab_type": "code",
        "colab": {}
      },
      "source": [
        "iris <- data.frame(iris)"
      ],
      "execution_count": 51,
      "outputs": []
    },
    {
      "cell_type": "markdown",
      "metadata": {
        "id": "hzffkDA38Rvs",
        "colab_type": "text"
      },
      "source": [
        "#### Iris"
      ]
    },
    {
      "cell_type": "code",
      "metadata": {
        "id": "oCAjF2ip3PoR",
        "colab_type": "code",
        "colab": {
          "base_uri": "https://localhost:8080/",
          "height": 437
        },
        "outputId": "ad0a9a06-0093-4c92-8257-6fa9283ad015"
      },
      "source": [
        "boxplot(iris)"
      ],
      "execution_count": 52,
      "outputs": [
        {
          "output_type": "display_data",
          "data": {
            "image/png": "[encoded data removed]",
            "text/plain": [
              "plot without title"
            ]
          },
          "metadata": {
            "tags": [],
            "image/png": {
              "width": 420,
              "height": 420
            }
          }
        }
      ]
    },
    {
      "cell_type": "code",
      "metadata": {
        "id": "JjVZh11K3SXx",
        "colab_type": "code",
        "colab": {
          "base_uri": "https://localhost:8080/",
          "height": 437
        },
        "outputId": "a7888033-6e93-44db-ab68-0b5e0e0fc514"
      },
      "source": [
        "boxplot(iris[,1:4],horizontal = T) # boxplot을 수평으로 출력"
      ],
      "execution_count": 58,
      "outputs": [
        {
          "output_type": "display_data",
          "data": {
            "image/png": "[encoded data removed]",
            "text/plain": [
              "plot without title"
            ]
          },
          "metadata": {
            "tags": [],
            "image/png": {
              "width": 420,
              "height": 420
            }
          }
        }
      ]
    },
    {
      "cell_type": "markdown",
      "metadata": {
        "id": "mZssE9yJ8UsQ",
        "colab_type": "text"
      },
      "source": [
        "#### Titanic <br>\n",
        "타이타닉 승선객 데이터의 결측치와 이상치 처리하기"
      ]
    },
    {
      "cell_type": "code",
      "metadata": {
        "id": "CGxDcWM48GNu",
        "colab_type": "code",
        "colab": {
          "base_uri": "https://localhost:8080/",
          "height": 175
        },
        "outputId": "9a6f956b-8c1e-4a64-88ff-5dfc19b88da9"
      },
      "source": [
        "titanic <-read.csv('https://raw.githubusercontent.com/jeong-wooseok/R_stastics/master/datasets/titanic.csv'\n",
        ",na.strings = '') #빈칸은 na로 표시\n",
        "head(titanic)"
      ],
      "execution_count": 79,
      "outputs": [
        {
          "output_type": "display_data",
          "data": {
            "text/plain": [
              "  pclass survived name                                            sex   \n",
              "1 1      1        Allen, Miss. Elisabeth Walton                   female\n",
              "2 1      1        Allison, Master. Hudson Trevor                  male  \n",
              "3 1      0        Allison, Miss. Helen Loraine                    female\n",
              "4 1      0        Allison, Mr. Hudson Joshua Creighton            male  \n",
              "5 1      0        Allison, Mrs. Hudson J C (Bessie Waldo Daniels) female\n",
              "6 1      1        Anderson, Mr. Harry                             male  \n",
              "  age     sibsp parch ticket fare     cabin   embarked\n",
              "1 29.0000 0     0     24160  211.3375 B5      S       \n",
              "2  0.9167 1     2     113781 151.5500 C22 C26 S       \n",
              "3  2.0000 1     2     113781 151.5500 C22 C26 S       \n",
              "4 30.0000 1     2     113781 151.5500 C22 C26 S       \n",
              "5 25.0000 1     2     113781 151.5500 C22 C26 S       \n",
              "6 48.0000 0     0     19952   26.5500 E12     S       "
            ],
            "text/latex": "A data.frame: 6 × 11\n\\begin{tabular}{r|lllllllllll}\n  & pclass & survived & name & sex & age & sibsp & parch & ticket & fare & cabin & embarked\\\\\n  & <int> & <int> & <fct> & <fct> & <dbl> & <int> & <int> & <fct> & <dbl> & <fct> & <fct>\\\\\n\\hline\n\t1 & 1 & 1 & Allen, Miss. Elisabeth Walton                   & female & 29.0000 & 0 & 0 & 24160  & 211.3375 & B5      & S\\\\\n\t2 & 1 & 1 & Allison, Master. Hudson Trevor                  & male   &  0.9167 & 1 & 2 & 113781 & 151.5500 & C22 C26 & S\\\\\n\t3 & 1 & 0 & Allison, Miss. Helen Loraine                    & female &  2.0000 & 1 & 2 & 113781 & 151.5500 & C22 C26 & S\\\\\n\t4 & 1 & 0 & Allison, Mr. Hudson Joshua Creighton            & male   & 30.0000 & 1 & 2 & 113781 & 151.5500 & C22 C26 & S\\\\\n\t5 & 1 & 0 & Allison, Mrs. Hudson J C (Bessie Waldo Daniels) & female & 25.0000 & 1 & 2 & 113781 & 151.5500 & C22 C26 & S\\\\\n\t6 & 1 & 1 & Anderson, Mr. Harry                             & male   & 48.0000 & 0 & 0 & 19952  &  26.5500 & E12     & S\\\\\n\\end{tabular}\n",
            "text/markdown": "\nA data.frame: 6 × 11\n\n| <!--/--> | pclass &lt;int&gt; | survived &lt;int&gt; | name &lt;fct&gt; | sex &lt;fct&gt; | age &lt;dbl&gt; | sibsp &lt;int&gt; | parch &lt;int&gt; | ticket &lt;fct&gt; | fare &lt;dbl&gt; | cabin &lt;fct&gt; | embarked &lt;fct&gt; |\n|---|---|---|---|---|---|---|---|---|---|---|---|\n| 1 | 1 | 1 | Allen, Miss. Elisabeth Walton                   | female | 29.0000 | 0 | 0 | 24160  | 211.3375 | B5      | S |\n| 2 | 1 | 1 | Allison, Master. Hudson Trevor                  | male   |  0.9167 | 1 | 2 | 113781 | 151.5500 | C22 C26 | S |\n| 3 | 1 | 0 | Allison, Miss. Helen Loraine                    | female |  2.0000 | 1 | 2 | 113781 | 151.5500 | C22 C26 | S |\n| 4 | 1 | 0 | Allison, Mr. Hudson Joshua Creighton            | male   | 30.0000 | 1 | 2 | 113781 | 151.5500 | C22 C26 | S |\n| 5 | 1 | 0 | Allison, Mrs. Hudson J C (Bessie Waldo Daniels) | female | 25.0000 | 1 | 2 | 113781 | 151.5500 | C22 C26 | S |\n| 6 | 1 | 1 | Anderson, Mr. Harry                             | male   | 48.0000 | 0 | 0 | 19952  |  26.5500 | E12     | S |\n\n",
            "text/html": [
              "<table>\n",
              "<caption>A data.frame: 6 × 11</caption>\n",
              "<thead>\n",
              "\t<tr><th></th><th scope=col>pclass</th><th scope=col>survived</th><th scope=col>name</th><th scope=col>sex</th><th scope=col>age</th><th scope=col>sibsp</th><th scope=col>parch</th><th scope=col>ticket</th><th scope=col>fare</th><th scope=col>cabin</th><th scope=col>embarked</th></tr>\n",
              "\t<tr><th></th><th scope=col>&lt;int&gt;</th><th scope=col>&lt;int&gt;</th><th scope=col>&lt;fct&gt;</th><th scope=col>&lt;fct&gt;</th><th scope=col>&lt;dbl&gt;</th><th scope=col>&lt;int&gt;</th><th scope=col>&lt;int&gt;</th><th scope=col>&lt;fct&gt;</th><th scope=col>&lt;dbl&gt;</th><th scope=col>&lt;fct&gt;</th><th scope=col>&lt;fct&gt;</th></tr>\n",
              "</thead>\n",
              "<tbody>\n",
              "\t<tr><th scope=row>1</th><td>1</td><td>1</td><td>Allen, Miss. Elisabeth Walton                  </td><td>female</td><td>29.0000</td><td>0</td><td>0</td><td>24160 </td><td>211.3375</td><td>B5     </td><td>S</td></tr>\n",
              "\t<tr><th scope=row>2</th><td>1</td><td>1</td><td>Allison, Master. Hudson Trevor                 </td><td>male  </td><td> 0.9167</td><td>1</td><td>2</td><td>113781</td><td>151.5500</td><td>C22 C26</td><td>S</td></tr>\n",
              "\t<tr><th scope=row>3</th><td>1</td><td>0</td><td>Allison, Miss. Helen Loraine                   </td><td>female</td><td> 2.0000</td><td>1</td><td>2</td><td>113781</td><td>151.5500</td><td>C22 C26</td><td>S</td></tr>\n",
              "\t<tr><th scope=row>4</th><td>1</td><td>0</td><td>Allison, Mr. Hudson Joshua Creighton           </td><td>male  </td><td>30.0000</td><td>1</td><td>2</td><td>113781</td><td>151.5500</td><td>C22 C26</td><td>S</td></tr>\n",
              "\t<tr><th scope=row>5</th><td>1</td><td>0</td><td>Allison, Mrs. Hudson J C (Bessie Waldo Daniels)</td><td>female</td><td>25.0000</td><td>1</td><td>2</td><td>113781</td><td>151.5500</td><td>C22 C26</td><td>S</td></tr>\n",
              "\t<tr><th scope=row>6</th><td>1</td><td>1</td><td>Anderson, Mr. Harry                            </td><td>male  </td><td>48.0000</td><td>0</td><td>0</td><td>19952 </td><td> 26.5500</td><td>E12    </td><td>S</td></tr>\n",
              "</tbody>\n",
              "</table>\n"
            ]
          },
          "metadata": {
            "tags": []
          }
        }
      ]
    },
    {
      "cell_type": "code",
      "metadata": {
        "id": "EUMYx48O8zjv",
        "colab_type": "code",
        "colab": {
          "base_uri": "https://localhost:8080/",
          "height": 33
        },
        "outputId": "a7e2ade7-97c1-4cde-9ceb-e754ece570d3"
      },
      "source": [
        "colSums(is.na(titanic)) # 결측치 확인"
      ],
      "execution_count": 80,
      "outputs": [
        {
          "output_type": "display_data",
          "data": {
            "text/plain": [
              "  pclass survived     name      sex      age    sibsp    parch   ticket \n",
              "       1        1        1        1      264        1        1        1 \n",
              "    fare    cabin embarked \n",
              "       2     1015        3 "
            ],
            "text/latex": "\\begin{description*}\n\\item[pclass] 1\n\\item[survived] 1\n\\item[name] 1\n\\item[sex] 1\n\\item[age] 264\n\\item[sibsp] 1\n\\item[parch] 1\n\\item[ticket] 1\n\\item[fare] 2\n\\item[cabin] 1015\n\\item[embarked] 3\n\\end{description*}\n",
            "text/markdown": "pclass\n:   1survived\n:   1name\n:   1sex\n:   1age\n:   264sibsp\n:   1parch\n:   1ticket\n:   1fare\n:   2cabin\n:   1015embarked\n:   3\n\n",
            "text/html": [
              "<style>\n",
              ".dl-inline {width: auto; margin:0; padding: 0}\n",
              ".dl-inline>dt, .dl-inline>dd {float: none; width: auto; display: inline-block}\n",
              ".dl-inline>dt::after {content: \":\\0020\"; padding-right: .5ex}\n",
              ".dl-inline>dt:not(:first-of-type) {padding-left: .5ex}\n",
              "</style><dl class=dl-inline><dt>pclass</dt><dd>1</dd><dt>survived</dt><dd>1</dd><dt>name</dt><dd>1</dd><dt>sex</dt><dd>1</dd><dt>age</dt><dd>264</dd><dt>sibsp</dt><dd>1</dd><dt>parch</dt><dd>1</dd><dt>ticket</dt><dd>1</dd><dt>fare</dt><dd>2</dd><dt>cabin</dt><dd>1015</dd><dt>embarked</dt><dd>3</dd></dl>\n"
            ]
          },
          "metadata": {
            "tags": []
          }
        }
      ]
    },
    {
      "cell_type": "code",
      "metadata": {
        "id": "Vlfm2cEZ9Eup",
        "colab_type": "code",
        "colab": {
          "base_uri": "https://localhost:8080/",
          "height": 595
        },
        "outputId": "d154b15d-7724-4173-f512-b2ff0e0551c3"
      },
      "source": [
        "boxplot(titanic$age)\n",
        "boxplot.stats(titanic$age)"
      ],
      "execution_count": 81,
      "outputs": [
        {
          "output_type": "display_data",
          "data": {
            "text/plain": [
              "$stats\n",
              "[1]  0.1667 21.0000 28.0000 39.0000 66.0000\n",
              "\n",
              "$n\n",
              "[1] 1046\n",
              "\n",
              "$conf\n",
              "[1] 27.12065 28.87935\n",
              "\n",
              "$out\n",
              "[1] 71.0 80.0 76.0 70.0 71.0 67.0 70.0 70.5 74.0\n"
            ],
            "text/latex": "\\begin{description}\n\\item[\\$stats] \\begin{enumerate*}\n\\item 0.1667\n\\item 21\n\\item 28\n\\item 39\n\\item 66\n\\end{enumerate*}\n\n\\item[\\$n] 1046\n\\item[\\$conf] \\begin{enumerate*}\n\\item 27.1206459871454\n\\item 28.8793540128546\n\\end{enumerate*}\n\n\\item[\\$out] \\begin{enumerate*}\n\\item 71\n\\item 80\n\\item 76\n\\item 70\n\\item 71\n\\item 67\n\\item 70\n\\item 70.5\n\\item 74\n\\end{enumerate*}\n\n\\end{description}\n",
            "text/markdown": "$stats\n:   1. 0.1667\n2. 21\n3. 28\n4. 39\n5. 66\n\n\n\n$n\n:   1046\n$conf\n:   1. 27.1206459871454\n2. 28.8793540128546\n\n\n\n$out\n:   1. 71\n2. 80\n3. 76\n4. 70\n5. 71\n6. 67\n7. 70\n8. 70.5\n9. 74\n\n\n\n\n\n",
            "text/html": [
              "<dl>\n",
              "\t<dt>$stats</dt>\n",
              "\t\t<dd><style>\n",
              ".list-inline {list-style: none; margin:0; padding: 0}\n",
              ".list-inline>li {display: inline-block}\n",
              ".list-inline>li:not(:last-child)::after {content: \"\\00b7\"; padding: 0 .5ex}\n",
              "</style>\n",
              "<ol class=list-inline><li>0.1667</li><li>21</li><li>28</li><li>39</li><li>66</li></ol>\n",
              "</dd>\n",
              "\t<dt>$n</dt>\n",
              "\t\t<dd>1046</dd>\n",
              "\t<dt>$conf</dt>\n",
              "\t\t<dd><style>\n",
              ".list-inline {list-style: none; margin:0; padding: 0}\n",
              ".list-inline>li {display: inline-block}\n",
              ".list-inline>li:not(:last-child)::after {content: \"\\00b7\"; padding: 0 .5ex}\n",
              "</style>\n",
              "<ol class=list-inline><li>27.1206459871454</li><li>28.8793540128546</li></ol>\n",
              "</dd>\n",
              "\t<dt>$out</dt>\n",
              "\t\t<dd><style>\n",
              ".list-inline {list-style: none; margin:0; padding: 0}\n",
              ".list-inline>li {display: inline-block}\n",
              ".list-inline>li:not(:last-child)::after {content: \"\\00b7\"; padding: 0 .5ex}\n",
              "</style>\n",
              "<ol class=list-inline><li>71</li><li>80</li><li>76</li><li>70</li><li>71</li><li>67</li><li>70</li><li>70.5</li><li>74</li></ol>\n",
              "</dd>\n",
              "</dl>\n"
            ]
          },
          "metadata": {
            "tags": []
          }
        },
        {
          "output_type": "display_data",
          "data": {
            "image/png": "[encoded data removed]",
            "text/plain": [
              "plot without title"
            ]
          },
          "metadata": {
            "tags": [],
            "image/png": {
              "width": 420,
              "height": 420
            }
          }
        }
      ]
    },
    {
      "cell_type": "markdown",
      "metadata": {
        "id": "tojCZ1Xs9eQt",
        "colab_type": "text"
      },
      "source": [
        "age 결측치는 중앙값으로 대체해도 데이터에 큰 지장이 없을 것으로 판단<br>\n",
        "다른 데이터는 1~2개의 결측치이므로 제거"
      ]
    },
    {
      "cell_type": "code",
      "metadata": {
        "id": "ZiOX59sj9PTR",
        "colab_type": "code",
        "colab": {}
      },
      "source": [
        "# age 중앙값 구해서 결측치에 치환\n",
        "md <- floor(median(titanic$age,na.rm=T))\n",
        "titanic$age[is.na(titanic$age)] <-md"
      ],
      "execution_count": 82,
      "outputs": []
    },
    {
      "cell_type": "code",
      "metadata": {
        "id": "R8RQ0uRU-6Yc",
        "colab_type": "code",
        "colab": {}
      },
      "source": [
        "# 그 외 결측치 포함하는 모든 행 제거\n",
        "titanic <- na.omit(titanic)"
      ],
      "execution_count": 83,
      "outputs": []
    },
    {
      "cell_type": "code",
      "metadata": {
        "id": "Hu-rKxSn_HIB",
        "colab_type": "code",
        "colab": {
          "base_uri": "https://localhost:8080/",
          "height": 33
        },
        "outputId": "48d1be8d-968c-4f44-d892-82a177376225"
      },
      "source": [
        "colSums(is.na(titanic)) # 결측치 확인"
      ],
      "execution_count": 84,
      "outputs": [
        {
          "output_type": "display_data",
          "data": {
            "text/plain": [
              "  pclass survived     name      sex      age    sibsp    parch   ticket \n",
              "       0        0        0        0        0        0        0        0 \n",
              "    fare    cabin embarked \n",
              "       0        0        0 "
            ],
            "text/latex": "\\begin{description*}\n\\item[pclass] 0\n\\item[survived] 0\n\\item[name] 0\n\\item[sex] 0\n\\item[age] 0\n\\item[sibsp] 0\n\\item[parch] 0\n\\item[ticket] 0\n\\item[fare] 0\n\\item[cabin] 0\n\\item[embarked] 0\n\\end{description*}\n",
            "text/markdown": "pclass\n:   0survived\n:   0name\n:   0sex\n:   0age\n:   0sibsp\n:   0parch\n:   0ticket\n:   0fare\n:   0cabin\n:   0embarked\n:   0\n\n",
            "text/html": [
              "<style>\n",
              ".dl-inline {width: auto; margin:0; padding: 0}\n",
              ".dl-inline>dt, .dl-inline>dd {float: none; width: auto; display: inline-block}\n",
              ".dl-inline>dt::after {content: \":\\0020\"; padding-right: .5ex}\n",
              ".dl-inline>dt:not(:first-of-type) {padding-left: .5ex}\n",
              "</style><dl class=dl-inline><dt>pclass</dt><dd>0</dd><dt>survived</dt><dd>0</dd><dt>name</dt><dd>0</dd><dt>sex</dt><dd>0</dd><dt>age</dt><dd>0</dd><dt>sibsp</dt><dd>0</dd><dt>parch</dt><dd>0</dd><dt>ticket</dt><dd>0</dd><dt>fare</dt><dd>0</dd><dt>cabin</dt><dd>0</dd><dt>embarked</dt><dd>0</dd></dl>\n"
            ]
          },
          "metadata": {
            "tags": []
          }
        }
      ]
    },
    {
      "cell_type": "code",
      "metadata": {
        "id": "Nitk0qVe_vOD",
        "colab_type": "code",
        "colab": {}
      },
      "source": [
        "# 작업 결과를 파일로 저장\n",
        "write.csv(titanic,'titanic_practice1.csv',row.names=F)"
      ],
      "execution_count": 85,
      "outputs": []
    },
    {
      "cell_type": "markdown",
      "metadata": {
        "id": "M-CewB3F_94W",
        "colab_type": "text"
      },
      "source": [
        "승선위치(embarked) 별 승선객 수를 시각화 하시오"
      ]
    },
    {
      "cell_type": "code",
      "metadata": {
        "id": "TXaalwi0_upF",
        "colab_type": "code",
        "colab": {
          "base_uri": "https://localhost:8080/",
          "height": 577
        },
        "outputId": "354b7813-03f5-403c-cf76-77aee8743d32"
      },
      "source": [
        "summary(titanic)"
      ],
      "execution_count": 86,
      "outputs": [
        {
          "output_type": "display_data",
          "data": {
            "text/plain": [
              "     pclass         survived     \n",
              " Min.   :1.000   Min.   :0.0000  \n",
              " 1st Qu.:1.000   1st Qu.:0.0000  \n",
              " Median :1.000   Median :1.0000  \n",
              " Mean   :1.188   Mean   :0.6519  \n",
              " 3rd Qu.:1.000   3rd Qu.:1.0000  \n",
              " Max.   :3.000   Max.   :1.0000  \n",
              "                                 \n",
              "                                              name         sex     \n",
              " Abelseth, Mr. Olaus Jorgensen                  :  1   female:139  \n",
              " Allen, Miss. Elisabeth Walton                  :  1   male  :154  \n",
              " Allison, Master. Hudson Trevor                 :  1               \n",
              " Allison, Miss. Helen Loraine                   :  1               \n",
              " Allison, Mr. Hudson Joshua Creighton           :  1               \n",
              " Allison, Mrs. Hudson J C (Bessie Waldo Daniels):  1               \n",
              " (Other)                                        :287               \n",
              "      age              sibsp            parch             ticket   \n",
              " Min.   : 0.9167   Min.   :0.0000   Min.   :0.0000   19950   :  6  \n",
              " 1st Qu.:27.0000   1st Qu.:0.0000   1st Qu.:0.0000   PC 17608:  6  \n",
              " Median :35.0000   Median :0.0000   Median :0.0000   113503  :  5  \n",
              " Mean   :36.1328   Mean   :0.4846   Mean   :0.4471   16966   :  5  \n",
              " 3rd Qu.:48.0000   3rd Qu.:1.0000   3rd Qu.:1.0000   113760  :  4  \n",
              " Max.   :80.0000   Max.   :3.0000   Max.   :4.0000   113781  :  4  \n",
              "                                                     (Other) :263  \n",
              "      fare                    cabin     embarked\n",
              " Min.   :  0.00   C23 C25 C27    :  6   C:118   \n",
              " 1st Qu.: 29.70   B57 B59 B63 B66:  5   Q:  5   \n",
              " Median : 56.93   G6             :  5   S:170   \n",
              " Mean   : 81.94   B96 B98        :  4           \n",
              " 3rd Qu.: 93.50   C22 C26        :  4           \n",
              " Max.   :512.33   C78            :  4           \n",
              "                  (Other)        :265           "
            ]
          },
          "metadata": {
            "tags": []
          }
        }
      ]
    },
    {
      "cell_type": "code",
      "metadata": {
        "id": "48mYyM7X_ubT",
        "colab_type": "code",
        "colab": {
          "base_uri": "https://localhost:8080/",
          "height": 437
        },
        "outputId": "167e42fa-69c1-4a2b-affd-5dca56e06e82"
      },
      "source": [
        "frq_embk <- table(titanic$embarked)\n",
        "barplot(frq_embk)"
      ],
      "execution_count": 87,
      "outputs": [
        {
          "output_type": "display_data",
          "data": {
            "image/png": "[encoded data removed]",
            "text/plain": [
              "plot without title"
            ]
          },
          "metadata": {
            "tags": [],
            "image/png": {
              "width": 420,
              "height": 420
            }
          }
        }
      ]
    },
    {
      "cell_type": "markdown",
      "metadata": {
        "id": "xl1kdc5SApY9",
        "colab_type": "text"
      },
      "source": [
        "승선객 나이에 대한 시각화"
      ]
    },
    {
      "cell_type": "code",
      "metadata": {
        "id": "U54_g8IDAo9y",
        "colab_type": "code",
        "colab": {
          "base_uri": "https://localhost:8080/",
          "height": 1000
        },
        "outputId": "8b7c023e-7ea2-4101-b408-22fc9c3a0f9a"
      },
      "source": [
        "boxplot(titanic$age) #세로\n",
        "boxplot(titanic$age,horizontal = T) #가로\n",
        "boxplot.stats(titanic$age)"
      ],
      "execution_count": 93,
      "outputs": [
        {
          "output_type": "display_data",
          "data": {
            "image/png": "[encoded data removed]",
            "text/plain": [
              "plot without title"
            ]
          },
          "metadata": {
            "tags": [],
            "image/png": {
              "width": 420,
              "height": 420
            }
          }
        },
        {
          "output_type": "display_data",
          "data": {
            "text/plain": [
              "$stats\n",
              "[1]  0.9167 27.0000 35.0000 48.0000 76.0000\n",
              "\n",
              "$n\n",
              "[1] 293\n",
              "\n",
              "$conf\n",
              "[1] 33.0616 36.9384\n",
              "\n",
              "$out\n",
              "[1] 80\n"
            ],
            "text/latex": "\\begin{description}\n\\item[\\$stats] \\begin{enumerate*}\n\\item 0.9167\n\\item 27\n\\item 35\n\\item 48\n\\item 76\n\\end{enumerate*}\n\n\\item[\\$n] 293\n\\item[\\$conf] \\begin{enumerate*}\n\\item 33.0616037028569\n\\item 36.9383962971431\n\\end{enumerate*}\n\n\\item[\\$out] 80\n\\end{description}\n",
            "text/markdown": "$stats\n:   1. 0.9167\n2. 27\n3. 35\n4. 48\n5. 76\n\n\n\n$n\n:   293\n$conf\n:   1. 33.0616037028569\n2. 36.9383962971431\n\n\n\n$out\n:   80\n\n\n",
            "text/html": [
              "<dl>\n",
              "\t<dt>$stats</dt>\n",
              "\t\t<dd><style>\n",
              ".list-inline {list-style: none; margin:0; padding: 0}\n",
              ".list-inline>li {display: inline-block}\n",
              ".list-inline>li:not(:last-child)::after {content: \"\\00b7\"; padding: 0 .5ex}\n",
              "</style>\n",
              "<ol class=list-inline><li>0.9167</li><li>27</li><li>35</li><li>48</li><li>76</li></ol>\n",
              "</dd>\n",
              "\t<dt>$n</dt>\n",
              "\t\t<dd>293</dd>\n",
              "\t<dt>$conf</dt>\n",
              "\t\t<dd><style>\n",
              ".list-inline {list-style: none; margin:0; padding: 0}\n",
              ".list-inline>li {display: inline-block}\n",
              ".list-inline>li:not(:last-child)::after {content: \"\\00b7\"; padding: 0 .5ex}\n",
              "</style>\n",
              "<ol class=list-inline><li>33.0616037028569</li><li>36.9383962971431</li></ol>\n",
              "</dd>\n",
              "\t<dt>$out</dt>\n",
              "\t\t<dd>80</dd>\n",
              "</dl>\n"
            ]
          },
          "metadata": {
            "tags": []
          }
        },
        {
          "output_type": "display_data",
          "data": {
            "image/png": "[encoded data removed]",
            "text/plain": [
              "plot without title"
            ]
          },
          "metadata": {
            "tags": [],
            "image/png": {
              "width": 420,
              "height": 420
            }
          }
        }
      ]
    },
    {
      "cell_type": "markdown",
      "metadata": {
        "id": "Uh1p--GY9yxw",
        "colab_type": "text"
      },
      "source": [
        "### 특정컬럼 제거 <br>\n",
        "\n",
        "하려면 컬럼명에 Null을 대입"
      ]
    },
    {
      "cell_type": "code",
      "metadata": {
        "id": "r5Pb1d9696YP",
        "colab_type": "code",
        "colab": {
          "base_uri": "https://localhost:8080/",
          "height": 437
        },
        "outputId": "7fb12b5c-8352-41dc-ea89-63304e640312"
      },
      "source": [
        "# cabin컬럼 제거해보기\n",
        "titanic_r <-titanic\n",
        "titanic_r$cabin <-NULL\n",
        "summary(titanic_r)"
      ],
      "execution_count": 68,
      "outputs": [
        {
          "output_type": "display_data",
          "data": {
            "text/plain": [
              "     pclass         survived                                name     \n",
              " Min.   :1.000   Min.   :0.000   Connolly, Miss. Kate         :   2  \n",
              " 1st Qu.:2.000   1st Qu.:0.000   Kelly, Mr. James             :   2  \n",
              " Median :3.000   Median :0.000                                :   1  \n",
              " Mean   :2.295   Mean   :0.382   Abbing, Mr. Anthony          :   1  \n",
              " 3rd Qu.:3.000   3rd Qu.:1.000   Abbott, Master. Eugene Joseph:   1  \n",
              " Max.   :3.000   Max.   :1.000   Abbott, Mr. Rossmore Edward  :   1  \n",
              " NA's   :1       NA's   :1       (Other)                      :1302  \n",
              "     sex           age              sibsp            parch      \n",
              "       :  1   Min.   : 0.1667   Min.   :0.0000   Min.   :0.000  \n",
              " female:466   1st Qu.:21.0000   1st Qu.:0.0000   1st Qu.:0.000  \n",
              " male  :843   Median :28.0000   Median :0.0000   Median :0.000  \n",
              "              Mean   :29.8811   Mean   :0.4989   Mean   :0.385  \n",
              "              3rd Qu.:39.0000   3rd Qu.:1.0000   3rd Qu.:0.000  \n",
              "              Max.   :80.0000   Max.   :8.0000   Max.   :9.000  \n",
              "              NA's   :264       NA's   :1        NA's   :1      \n",
              "      ticket          fare         embarked\n",
              " CA. 2343:  11   Min.   :  0.000    :  3   \n",
              " 1601    :   8   1st Qu.:  7.896   C:270   \n",
              " CA 2144 :   8   Median : 14.454   Q:123   \n",
              " 3101295 :   7   Mean   : 33.295   S:914   \n",
              " 347077  :   7   3rd Qu.: 31.275           \n",
              " 347082  :   7   Max.   :512.329           \n",
              " (Other) :1262   NA's   :2                 "
            ]
          },
          "metadata": {
            "tags": []
          }
        }
      ]
    },
    {
      "cell_type": "markdown",
      "metadata": {
        "id": "Zv0KcFbQCuGi",
        "colab_type": "text"
      },
      "source": [
        "## 데이터 전처리 (Data Wrangling)\n",
        "* 데이터를 조건에 따라 추출하고 원하는 형태로 가공하는 것을 의미\n",
        "* 각 원소를 추출하는 방법은 boolian indexing을 이용하거나 전처리 전문패키지인 dplr을 이용\n"
      ]
    },
    {
      "cell_type": "markdown",
      "metadata": {
        "id": "h8NXdzU3D2js",
        "colab_type": "text"
      },
      "source": [
        "### 정렬 (sort/order)\n",
        " + 백터 정렬 : sort(백터명)\n",
        " + 데이터프레임 정렬 : order(컬럼명)"
      ]
    },
    {
      "cell_type": "code",
      "metadata": {
        "id": "FAoxJfWm-Jyk",
        "colab_type": "code",
        "colab": {
          "base_uri": "https://localhost:8080/",
          "height": 50
        },
        "outputId": "5b1ed06a-1252-495b-9dbc-1a282ac08907"
      },
      "source": [
        "#sort 내림차순은 decreasing = T\n",
        "val <- c(11,7,6,8,2,3)\n",
        "sort(val)\n",
        "sort(val,decreasing = T) "
      ],
      "execution_count": 100,
      "outputs": [
        {
          "output_type": "display_data",
          "data": {
            "text/plain": [
              "[1]  2  3  6  7  8 11"
            ],
            "text/latex": "\\begin{enumerate*}\n\\item 2\n\\item 3\n\\item 6\n\\item 7\n\\item 8\n\\item 11\n\\end{enumerate*}\n",
            "text/markdown": "1. 2\n2. 3\n3. 6\n4. 7\n5. 8\n6. 11\n\n\n",
            "text/html": [
              "<style>\n",
              ".list-inline {list-style: none; margin:0; padding: 0}\n",
              ".list-inline>li {display: inline-block}\n",
              ".list-inline>li:not(:last-child)::after {content: \"\\00b7\"; padding: 0 .5ex}\n",
              "</style>\n",
              "<ol class=list-inline><li>2</li><li>3</li><li>6</li><li>7</li><li>8</li><li>11</li></ol>\n"
            ]
          },
          "metadata": {
            "tags": []
          }
        },
        {
          "output_type": "display_data",
          "data": {
            "text/plain": [
              "[1] 11  8  7  6  3  2"
            ],
            "text/latex": "\\begin{enumerate*}\n\\item 11\n\\item 8\n\\item 7\n\\item 6\n\\item 3\n\\item 2\n\\end{enumerate*}\n",
            "text/markdown": "1. 11\n2. 8\n3. 7\n4. 6\n5. 3\n6. 2\n\n\n",
            "text/html": [
              "<style>\n",
              ".list-inline {list-style: none; margin:0; padding: 0}\n",
              ".list-inline>li {display: inline-block}\n",
              ".list-inline>li:not(:last-child)::after {content: \"\\00b7\"; padding: 0 .5ex}\n",
              "</style>\n",
              "<ol class=list-inline><li>11</li><li>8</li><li>7</li><li>6</li><li>3</li><li>2</li></ol>\n"
            ]
          },
          "metadata": {
            "tags": []
          }
        }
      ]
    },
    {
      "cell_type": "markdown",
      "metadata": {
        "id": "QhKJtCfzDxdb",
        "colab_type": "text"
      },
      "source": [
        "미국 50개 주를 Income순으로 정렬해보자"
      ]
    },
    {
      "cell_type": "code",
      "metadata": {
        "id": "FmI-5SRXDu3d",
        "colab_type": "code",
        "colab": {
          "base_uri": "https://localhost:8080/",
          "height": 245
        },
        "outputId": "8393b00a-120e-4522-9611-83dde3514554"
      },
      "source": [
        "#order 내림차순은 마이너스를 붙임\n",
        "rn <- order(-state77$Income) \n",
        "head(state77[rn,],10)"
      ],
      "execution_count": 101,
      "outputs": [
        {
          "output_type": "display_data",
          "data": {
            "text/plain": [
              "             Population Income Illiteracy Life.Exp Murder HS.Grad Frost Area  \n",
              "Alaska         365      6315   1.5        69.31    11.3   66.7    152   566432\n",
              "Connecticut   3100      5348   1.1        72.48     3.1   56.0    139     4862\n",
              "Maryland      4122      5299   0.9        70.22     8.5   52.3    101     9891\n",
              "New Jersey    7333      5237   1.1        70.93     5.2   52.5    115     7521\n",
              "Nevada         590      5149   0.5        69.03    11.5   65.2    188   109889\n",
              "California   21198      5114   1.1        71.71    10.3   62.6     20   156361\n",
              "Illinois     11197      5107   0.9        70.14    10.3   52.6    127    55748\n",
              "North Dakota   637      5087   0.8        72.78     1.4   50.3    186    69273\n",
              "Hawaii         868      4963   1.9        73.60     6.2   61.9      0     6425\n",
              "New York     18076      4903   1.4        70.55    10.9   52.7     82    47831"
            ],
            "text/latex": "A data.frame: 10 × 8\n\\begin{tabular}{r|llllllll}\n  & Population & Income & Illiteracy & Life.Exp & Murder & HS.Grad & Frost & Area\\\\\n  & <dbl> & <dbl> & <dbl> & <dbl> & <dbl> & <dbl> & <dbl> & <dbl>\\\\\n\\hline\n\tAlaska &   365 & 6315 & 1.5 & 69.31 & 11.3 & 66.7 & 152 & 566432\\\\\n\tConnecticut &  3100 & 5348 & 1.1 & 72.48 &  3.1 & 56.0 & 139 &   4862\\\\\n\tMaryland &  4122 & 5299 & 0.9 & 70.22 &  8.5 & 52.3 & 101 &   9891\\\\\n\tNew Jersey &  7333 & 5237 & 1.1 & 70.93 &  5.2 & 52.5 & 115 &   7521\\\\\n\tNevada &   590 & 5149 & 0.5 & 69.03 & 11.5 & 65.2 & 188 & 109889\\\\\n\tCalifornia & 21198 & 5114 & 1.1 & 71.71 & 10.3 & 62.6 &  20 & 156361\\\\\n\tIllinois & 11197 & 5107 & 0.9 & 70.14 & 10.3 & 52.6 & 127 &  55748\\\\\n\tNorth Dakota &   637 & 5087 & 0.8 & 72.78 &  1.4 & 50.3 & 186 &  69273\\\\\n\tHawaii &   868 & 4963 & 1.9 & 73.60 &  6.2 & 61.9 &   0 &   6425\\\\\n\tNew York & 18076 & 4903 & 1.4 & 70.55 & 10.9 & 52.7 &  82 &  47831\\\\\n\\end{tabular}\n",
            "text/markdown": "\nA data.frame: 10 × 8\n\n| <!--/--> | Population &lt;dbl&gt; | Income &lt;dbl&gt; | Illiteracy &lt;dbl&gt; | Life.Exp &lt;dbl&gt; | Murder &lt;dbl&gt; | HS.Grad &lt;dbl&gt; | Frost &lt;dbl&gt; | Area &lt;dbl&gt; |\n|---|---|---|---|---|---|---|---|---|\n| Alaska |   365 | 6315 | 1.5 | 69.31 | 11.3 | 66.7 | 152 | 566432 |\n| Connecticut |  3100 | 5348 | 1.1 | 72.48 |  3.1 | 56.0 | 139 |   4862 |\n| Maryland |  4122 | 5299 | 0.9 | 70.22 |  8.5 | 52.3 | 101 |   9891 |\n| New Jersey |  7333 | 5237 | 1.1 | 70.93 |  5.2 | 52.5 | 115 |   7521 |\n| Nevada |   590 | 5149 | 0.5 | 69.03 | 11.5 | 65.2 | 188 | 109889 |\n| California | 21198 | 5114 | 1.1 | 71.71 | 10.3 | 62.6 |  20 | 156361 |\n| Illinois | 11197 | 5107 | 0.9 | 70.14 | 10.3 | 52.6 | 127 |  55748 |\n| North Dakota |   637 | 5087 | 0.8 | 72.78 |  1.4 | 50.3 | 186 |  69273 |\n| Hawaii |   868 | 4963 | 1.9 | 73.60 |  6.2 | 61.9 |   0 |   6425 |\n| New York | 18076 | 4903 | 1.4 | 70.55 | 10.9 | 52.7 |  82 |  47831 |\n\n",
            "text/html": [
              "<table>\n",
              "<caption>A data.frame: 10 × 8</caption>\n",
              "<thead>\n",
              "\t<tr><th></th><th scope=col>Population</th><th scope=col>Income</th><th scope=col>Illiteracy</th><th scope=col>Life.Exp</th><th scope=col>Murder</th><th scope=col>HS.Grad</th><th scope=col>Frost</th><th scope=col>Area</th></tr>\n",
              "\t<tr><th></th><th scope=col>&lt;dbl&gt;</th><th scope=col>&lt;dbl&gt;</th><th scope=col>&lt;dbl&gt;</th><th scope=col>&lt;dbl&gt;</th><th scope=col>&lt;dbl&gt;</th><th scope=col>&lt;dbl&gt;</th><th scope=col>&lt;dbl&gt;</th><th scope=col>&lt;dbl&gt;</th></tr>\n",
              "</thead>\n",
              "<tbody>\n",
              "\t<tr><th scope=row>Alaska</th><td>  365</td><td>6315</td><td>1.5</td><td>69.31</td><td>11.3</td><td>66.7</td><td>152</td><td>566432</td></tr>\n",
              "\t<tr><th scope=row>Connecticut</th><td> 3100</td><td>5348</td><td>1.1</td><td>72.48</td><td> 3.1</td><td>56.0</td><td>139</td><td>  4862</td></tr>\n",
              "\t<tr><th scope=row>Maryland</th><td> 4122</td><td>5299</td><td>0.9</td><td>70.22</td><td> 8.5</td><td>52.3</td><td>101</td><td>  9891</td></tr>\n",
              "\t<tr><th scope=row>New Jersey</th><td> 7333</td><td>5237</td><td>1.1</td><td>70.93</td><td> 5.2</td><td>52.5</td><td>115</td><td>  7521</td></tr>\n",
              "\t<tr><th scope=row>Nevada</th><td>  590</td><td>5149</td><td>0.5</td><td>69.03</td><td>11.5</td><td>65.2</td><td>188</td><td>109889</td></tr>\n",
              "\t<tr><th scope=row>California</th><td>21198</td><td>5114</td><td>1.1</td><td>71.71</td><td>10.3</td><td>62.6</td><td> 20</td><td>156361</td></tr>\n",
              "\t<tr><th scope=row>Illinois</th><td>11197</td><td>5107</td><td>0.9</td><td>70.14</td><td>10.3</td><td>52.6</td><td>127</td><td> 55748</td></tr>\n",
              "\t<tr><th scope=row>North Dakota</th><td>  637</td><td>5087</td><td>0.8</td><td>72.78</td><td> 1.4</td><td>50.3</td><td>186</td><td> 69273</td></tr>\n",
              "\t<tr><th scope=row>Hawaii</th><td>  868</td><td>4963</td><td>1.9</td><td>73.60</td><td> 6.2</td><td>61.9</td><td>  0</td><td>  6425</td></tr>\n",
              "\t<tr><th scope=row>New York</th><td>18076</td><td>4903</td><td>1.4</td><td>70.55</td><td>10.9</td><td>52.7</td><td> 82</td><td> 47831</td></tr>\n",
              "</tbody>\n",
              "</table>\n"
            ]
          },
          "metadata": {
            "tags": []
          }
        }
      ]
    },
    {
      "cell_type": "code",
      "metadata": {
        "id": "g5ADy57jEHZv",
        "colab_type": "code",
        "colab": {
          "base_uri": "https://localhost:8080/",
          "height": 245
        },
        "outputId": "e1c3a48b-3d3d-476b-db0b-de52f01effca"
      },
      "source": [
        "# 수입, 인구수, 살인율 순으로 정렬\n",
        "rn <- order(-state77$Income,\n",
        "-state77$Population,\n",
        "-state77$Murder)\n",
        "head(state77[rn,],10)"
      ],
      "execution_count": 102,
      "outputs": [
        {
          "output_type": "display_data",
          "data": {
            "text/plain": [
              "             Population Income Illiteracy Life.Exp Murder HS.Grad Frost Area  \n",
              "Alaska         365      6315   1.5        69.31    11.3   66.7    152   566432\n",
              "Connecticut   3100      5348   1.1        72.48     3.1   56.0    139     4862\n",
              "Maryland      4122      5299   0.9        70.22     8.5   52.3    101     9891\n",
              "New Jersey    7333      5237   1.1        70.93     5.2   52.5    115     7521\n",
              "Nevada         590      5149   0.5        69.03    11.5   65.2    188   109889\n",
              "California   21198      5114   1.1        71.71    10.3   62.6     20   156361\n",
              "Illinois     11197      5107   0.9        70.14    10.3   52.6    127    55748\n",
              "North Dakota   637      5087   0.8        72.78     1.4   50.3    186    69273\n",
              "Hawaii         868      4963   1.9        73.60     6.2   61.9      0     6425\n",
              "New York     18076      4903   1.4        70.55    10.9   52.7     82    47831"
            ],
            "text/latex": "A data.frame: 10 × 8\n\\begin{tabular}{r|llllllll}\n  & Population & Income & Illiteracy & Life.Exp & Murder & HS.Grad & Frost & Area\\\\\n  & <dbl> & <dbl> & <dbl> & <dbl> & <dbl> & <dbl> & <dbl> & <dbl>\\\\\n\\hline\n\tAlaska &   365 & 6315 & 1.5 & 69.31 & 11.3 & 66.7 & 152 & 566432\\\\\n\tConnecticut &  3100 & 5348 & 1.1 & 72.48 &  3.1 & 56.0 & 139 &   4862\\\\\n\tMaryland &  4122 & 5299 & 0.9 & 70.22 &  8.5 & 52.3 & 101 &   9891\\\\\n\tNew Jersey &  7333 & 5237 & 1.1 & 70.93 &  5.2 & 52.5 & 115 &   7521\\\\\n\tNevada &   590 & 5149 & 0.5 & 69.03 & 11.5 & 65.2 & 188 & 109889\\\\\n\tCalifornia & 21198 & 5114 & 1.1 & 71.71 & 10.3 & 62.6 &  20 & 156361\\\\\n\tIllinois & 11197 & 5107 & 0.9 & 70.14 & 10.3 & 52.6 & 127 &  55748\\\\\n\tNorth Dakota &   637 & 5087 & 0.8 & 72.78 &  1.4 & 50.3 & 186 &  69273\\\\\n\tHawaii &   868 & 4963 & 1.9 & 73.60 &  6.2 & 61.9 &   0 &   6425\\\\\n\tNew York & 18076 & 4903 & 1.4 & 70.55 & 10.9 & 52.7 &  82 &  47831\\\\\n\\end{tabular}\n",
            "text/markdown": "\nA data.frame: 10 × 8\n\n| <!--/--> | Population &lt;dbl&gt; | Income &lt;dbl&gt; | Illiteracy &lt;dbl&gt; | Life.Exp &lt;dbl&gt; | Murder &lt;dbl&gt; | HS.Grad &lt;dbl&gt; | Frost &lt;dbl&gt; | Area &lt;dbl&gt; |\n|---|---|---|---|---|---|---|---|---|\n| Alaska |   365 | 6315 | 1.5 | 69.31 | 11.3 | 66.7 | 152 | 566432 |\n| Connecticut |  3100 | 5348 | 1.1 | 72.48 |  3.1 | 56.0 | 139 |   4862 |\n| Maryland |  4122 | 5299 | 0.9 | 70.22 |  8.5 | 52.3 | 101 |   9891 |\n| New Jersey |  7333 | 5237 | 1.1 | 70.93 |  5.2 | 52.5 | 115 |   7521 |\n| Nevada |   590 | 5149 | 0.5 | 69.03 | 11.5 | 65.2 | 188 | 109889 |\n| California | 21198 | 5114 | 1.1 | 71.71 | 10.3 | 62.6 |  20 | 156361 |\n| Illinois | 11197 | 5107 | 0.9 | 70.14 | 10.3 | 52.6 | 127 |  55748 |\n| North Dakota |   637 | 5087 | 0.8 | 72.78 |  1.4 | 50.3 | 186 |  69273 |\n| Hawaii |   868 | 4963 | 1.9 | 73.60 |  6.2 | 61.9 |   0 |   6425 |\n| New York | 18076 | 4903 | 1.4 | 70.55 | 10.9 | 52.7 |  82 |  47831 |\n\n",
            "text/html": [
              "<table>\n",
              "<caption>A data.frame: 10 × 8</caption>\n",
              "<thead>\n",
              "\t<tr><th></th><th scope=col>Population</th><th scope=col>Income</th><th scope=col>Illiteracy</th><th scope=col>Life.Exp</th><th scope=col>Murder</th><th scope=col>HS.Grad</th><th scope=col>Frost</th><th scope=col>Area</th></tr>\n",
              "\t<tr><th></th><th scope=col>&lt;dbl&gt;</th><th scope=col>&lt;dbl&gt;</th><th scope=col>&lt;dbl&gt;</th><th scope=col>&lt;dbl&gt;</th><th scope=col>&lt;dbl&gt;</th><th scope=col>&lt;dbl&gt;</th><th scope=col>&lt;dbl&gt;</th><th scope=col>&lt;dbl&gt;</th></tr>\n",
              "</thead>\n",
              "<tbody>\n",
              "\t<tr><th scope=row>Alaska</th><td>  365</td><td>6315</td><td>1.5</td><td>69.31</td><td>11.3</td><td>66.7</td><td>152</td><td>566432</td></tr>\n",
              "\t<tr><th scope=row>Connecticut</th><td> 3100</td><td>5348</td><td>1.1</td><td>72.48</td><td> 3.1</td><td>56.0</td><td>139</td><td>  4862</td></tr>\n",
              "\t<tr><th scope=row>Maryland</th><td> 4122</td><td>5299</td><td>0.9</td><td>70.22</td><td> 8.5</td><td>52.3</td><td>101</td><td>  9891</td></tr>\n",
              "\t<tr><th scope=row>New Jersey</th><td> 7333</td><td>5237</td><td>1.1</td><td>70.93</td><td> 5.2</td><td>52.5</td><td>115</td><td>  7521</td></tr>\n",
              "\t<tr><th scope=row>Nevada</th><td>  590</td><td>5149</td><td>0.5</td><td>69.03</td><td>11.5</td><td>65.2</td><td>188</td><td>109889</td></tr>\n",
              "\t<tr><th scope=row>California</th><td>21198</td><td>5114</td><td>1.1</td><td>71.71</td><td>10.3</td><td>62.6</td><td> 20</td><td>156361</td></tr>\n",
              "\t<tr><th scope=row>Illinois</th><td>11197</td><td>5107</td><td>0.9</td><td>70.14</td><td>10.3</td><td>52.6</td><td>127</td><td> 55748</td></tr>\n",
              "\t<tr><th scope=row>North Dakota</th><td>  637</td><td>5087</td><td>0.8</td><td>72.78</td><td> 1.4</td><td>50.3</td><td>186</td><td> 69273</td></tr>\n",
              "\t<tr><th scope=row>Hawaii</th><td>  868</td><td>4963</td><td>1.9</td><td>73.60</td><td> 6.2</td><td>61.9</td><td>  0</td><td>  6425</td></tr>\n",
              "\t<tr><th scope=row>New York</th><td>18076</td><td>4903</td><td>1.4</td><td>70.55</td><td>10.9</td><td>52.7</td><td> 82</td><td> 47831</td></tr>\n",
              "</tbody>\n",
              "</table>\n"
            ]
          },
          "metadata": {
            "tags": []
          }
        }
      ]
    },
    {
      "cell_type": "code",
      "metadata": {
        "id": "XQqHwIiyIY8C",
        "colab_type": "code",
        "colab": {
          "base_uri": "https://localhost:8080/",
          "height": 140
        },
        "outputId": "0ce8fe42-5ee9-4f7f-dc94-044af397ed8d"
      },
      "source": [
        "load('sungjuk.rdata')\n",
        "sungjuk"
      ],
      "execution_count": 109,
      "outputs": [
        {
          "output_type": "display_data",
          "data": {
            "text/plain": [
              "  name eng mat sci\n",
              "1 John 90  85  90 \n",
              "2 Tom  95  96  80 \n",
              "3 Mark 69  49  70 \n",
              "4 Jane 78  95  60 "
            ],
            "text/latex": "A data.frame: 4 × 4\n\\begin{tabular}{llll}\n name & eng & mat & sci\\\\\n <fct> & <dbl> & <dbl> & <dbl>\\\\\n\\hline\n\t John & 90 & 85 & 90\\\\\n\t Tom  & 95 & 96 & 80\\\\\n\t Mark & 69 & 49 & 70\\\\\n\t Jane & 78 & 95 & 60\\\\\n\\end{tabular}\n",
            "text/markdown": "\nA data.frame: 4 × 4\n\n| name &lt;fct&gt; | eng &lt;dbl&gt; | mat &lt;dbl&gt; | sci &lt;dbl&gt; |\n|---|---|---|---|\n| John | 90 | 85 | 90 |\n| Tom  | 95 | 96 | 80 |\n| Mark | 69 | 49 | 70 |\n| Jane | 78 | 95 | 60 |\n\n",
            "text/html": [
              "<table>\n",
              "<caption>A data.frame: 4 × 4</caption>\n",
              "<thead>\n",
              "\t<tr><th scope=col>name</th><th scope=col>eng</th><th scope=col>mat</th><th scope=col>sci</th></tr>\n",
              "\t<tr><th scope=col>&lt;fct&gt;</th><th scope=col>&lt;dbl&gt;</th><th scope=col>&lt;dbl&gt;</th><th scope=col>&lt;dbl&gt;</th></tr>\n",
              "</thead>\n",
              "<tbody>\n",
              "\t<tr><td>John</td><td>90</td><td>85</td><td>90</td></tr>\n",
              "\t<tr><td>Tom </td><td>95</td><td>96</td><td>80</td></tr>\n",
              "\t<tr><td>Mark</td><td>69</td><td>49</td><td>70</td></tr>\n",
              "\t<tr><td>Jane</td><td>78</td><td>95</td><td>60</td></tr>\n",
              "</tbody>\n",
              "</table>\n"
            ]
          },
          "metadata": {
            "tags": []
          }
        }
      ]
    },
    {
      "cell_type": "code",
      "metadata": {
        "id": "RyOqoTTCJaNy",
        "colab_type": "code",
        "colab": {}
      },
      "source": [
        "#총점, 평균 컬럼 추가"
      ],
      "execution_count": null,
      "outputs": []
    },
    {
      "cell_type": "code",
      "metadata": {
        "id": "AwNnpHWpJn2g",
        "colab_type": "code",
        "colab": {}
      },
      "source": [
        "sungjuk <- within(sungjuk,{\n",
        "  tot <-eng + mat + sci\n",
        "  avg <- tot/3\n",
        "})"
      ],
      "execution_count": 110,
      "outputs": []
    },
    {
      "cell_type": "code",
      "metadata": {
        "id": "liHc3JypJ2XZ",
        "colab_type": "code",
        "colab": {}
      },
      "source": [
        "#평균을 기준으로 성적 정렬"
      ],
      "execution_count": 111,
      "outputs": []
    },
    {
      "cell_type": "code",
      "metadata": {
        "id": "fN_M_Du7J7AD",
        "colab_type": "code",
        "colab": {
          "base_uri": "https://localhost:8080/",
          "height": 140
        },
        "outputId": "e2931811-dc33-4cd4-b709-aa2cfd061050"
      },
      "source": [
        "rn <- order(-sungjuk$avg) \n",
        "sungjuk[rn,]"
      ],
      "execution_count": 113,
      "outputs": [
        {
          "output_type": "display_data",
          "data": {
            "text/plain": [
              "  name eng mat sci avg      tot\n",
              "2 Tom  95  96  80  90.33333 271\n",
              "1 John 90  85  90  88.33333 265\n",
              "4 Jane 78  95  60  77.66667 233\n",
              "3 Mark 69  49  70  62.66667 188"
            ],
            "text/latex": "A data.frame: 4 × 6\n\\begin{tabular}{r|llllll}\n  & name & eng & mat & sci & avg & tot\\\\\n  & <fct> & <dbl> & <dbl> & <dbl> & <dbl> & <dbl>\\\\\n\\hline\n\t2 & Tom  & 95 & 96 & 80 & 90.33333 & 271\\\\\n\t1 & John & 90 & 85 & 90 & 88.33333 & 265\\\\\n\t4 & Jane & 78 & 95 & 60 & 77.66667 & 233\\\\\n\t3 & Mark & 69 & 49 & 70 & 62.66667 & 188\\\\\n\\end{tabular}\n",
            "text/markdown": "\nA data.frame: 4 × 6\n\n| <!--/--> | name &lt;fct&gt; | eng &lt;dbl&gt; | mat &lt;dbl&gt; | sci &lt;dbl&gt; | avg &lt;dbl&gt; | tot &lt;dbl&gt; |\n|---|---|---|---|---|---|---|\n| 2 | Tom  | 95 | 96 | 80 | 90.33333 | 271 |\n| 1 | John | 90 | 85 | 90 | 88.33333 | 265 |\n| 4 | Jane | 78 | 95 | 60 | 77.66667 | 233 |\n| 3 | Mark | 69 | 49 | 70 | 62.66667 | 188 |\n\n",
            "text/html": [
              "<table>\n",
              "<caption>A data.frame: 4 × 6</caption>\n",
              "<thead>\n",
              "\t<tr><th></th><th scope=col>name</th><th scope=col>eng</th><th scope=col>mat</th><th scope=col>sci</th><th scope=col>avg</th><th scope=col>tot</th></tr>\n",
              "\t<tr><th></th><th scope=col>&lt;fct&gt;</th><th scope=col>&lt;dbl&gt;</th><th scope=col>&lt;dbl&gt;</th><th scope=col>&lt;dbl&gt;</th><th scope=col>&lt;dbl&gt;</th><th scope=col>&lt;dbl&gt;</th></tr>\n",
              "</thead>\n",
              "<tbody>\n",
              "\t<tr><th scope=row>2</th><td>Tom </td><td>95</td><td>96</td><td>80</td><td>90.33333</td><td>271</td></tr>\n",
              "\t<tr><th scope=row>1</th><td>John</td><td>90</td><td>85</td><td>90</td><td>88.33333</td><td>265</td></tr>\n",
              "\t<tr><th scope=row>4</th><td>Jane</td><td>78</td><td>95</td><td>60</td><td>77.66667</td><td>233</td></tr>\n",
              "\t<tr><th scope=row>3</th><td>Mark</td><td>69</td><td>49</td><td>70</td><td>62.66667</td><td>188</td></tr>\n",
              "</tbody>\n",
              "</table>\n"
            ]
          },
          "metadata": {
            "tags": []
          }
        }
      ]
    },
    {
      "cell_type": "markdown",
      "metadata": {
        "id": "NbWjnW5iKlfN",
        "colab_type": "text"
      },
      "source": [
        "### 집계하기(aggregate) <br>\n",
        "* SQL 의 group by 절과 유사\n",
        " + aggregate(객체, by = list(기준컬럼), FUN = 집계함수)\n"
      ]
    },
    {
      "cell_type": "code",
      "metadata": {
        "id": "jdaVv9GGKH9H",
        "colab_type": "code",
        "colab": {}
      },
      "source": [
        "#성적데이터에 클래스(반) 변수 추가\n",
        "sungjuk$class <-c(1,2,1,2)"
      ],
      "execution_count": 114,
      "outputs": []
    },
    {
      "cell_type": "code",
      "metadata": {
        "id": "5II6s8uRLHRX",
        "colab_type": "code",
        "colab": {
          "base_uri": "https://localhost:8080/",
          "height": 121
        },
        "outputId": "e91b488c-9a35-44ef-9c4a-2523cf94b7eb"
      },
      "source": [
        "#클래스 별 최고/최저 영어점수는?\n",
        "aggregate(sungjuk$eng,\n",
        "by=list(sungjuk$class),\n",
        "FUN = max)"
      ],
      "execution_count": 115,
      "outputs": [
        {
          "output_type": "display_data",
          "data": {
            "text/plain": [
              "  Group.1 x \n",
              "1 1       90\n",
              "2 2       95"
            ],
            "text/latex": "A data.frame: 2 × 2\n\\begin{tabular}{ll}\n Group.1 & x\\\\\n <dbl> & <dbl>\\\\\n\\hline\n\t 1 & 90\\\\\n\t 2 & 95\\\\\n\\end{tabular}\n",
            "text/markdown": "\nA data.frame: 2 × 2\n\n| Group.1 &lt;dbl&gt; | x &lt;dbl&gt; |\n|---|---|\n| 1 | 90 |\n| 2 | 95 |\n\n",
            "text/html": [
              "<table>\n",
              "<caption>A data.frame: 2 × 2</caption>\n",
              "<thead>\n",
              "\t<tr><th scope=col>Group.1</th><th scope=col>x</th></tr>\n",
              "\t<tr><th scope=col>&lt;dbl&gt;</th><th scope=col>&lt;dbl&gt;</th></tr>\n",
              "</thead>\n",
              "<tbody>\n",
              "\t<tr><td>1</td><td>90</td></tr>\n",
              "\t<tr><td>2</td><td>95</td></tr>\n",
              "</tbody>\n",
              "</table>\n"
            ]
          },
          "metadata": {
            "tags": []
          }
        }
      ]
    },
    {
      "cell_type": "code",
      "metadata": {
        "id": "rZYy1BnoLmsg",
        "colab_type": "code",
        "colab": {
          "base_uri": "https://localhost:8080/",
          "height": 121
        },
        "outputId": "31bdd86a-a9c5-4115-8813-7ba695aee510"
      },
      "source": [
        "#클래스 별 평균 과학점수는?\n",
        "aggregate(sungjuk$sci,\n",
        "by=list(sungjuk$class),\n",
        "FUN = mean)"
      ],
      "execution_count": 117,
      "outputs": [
        {
          "output_type": "display_data",
          "data": {
            "text/plain": [
              "  Group.1 x \n",
              "1 1       80\n",
              "2 2       70"
            ],
            "text/latex": "A data.frame: 2 × 2\n\\begin{tabular}{ll}\n Group.1 & x\\\\\n <dbl> & <dbl>\\\\\n\\hline\n\t 1 & 80\\\\\n\t 2 & 70\\\\\n\\end{tabular}\n",
            "text/markdown": "\nA data.frame: 2 × 2\n\n| Group.1 &lt;dbl&gt; | x &lt;dbl&gt; |\n|---|---|\n| 1 | 80 |\n| 2 | 70 |\n\n",
            "text/html": [
              "<table>\n",
              "<caption>A data.frame: 2 × 2</caption>\n",
              "<thead>\n",
              "\t<tr><th scope=col>Group.1</th><th scope=col>x</th></tr>\n",
              "\t<tr><th scope=col>&lt;dbl&gt;</th><th scope=col>&lt;dbl&gt;</th></tr>\n",
              "</thead>\n",
              "<tbody>\n",
              "\t<tr><td>1</td><td>80</td></tr>\n",
              "\t<tr><td>2</td><td>70</td></tr>\n",
              "</tbody>\n",
              "</table>\n"
            ]
          },
          "metadata": {
            "tags": []
          }
        }
      ]
    },
    {
      "cell_type": "code",
      "metadata": {
        "id": "OL0SkzsZLepW",
        "colab_type": "code",
        "colab": {
          "base_uri": "https://localhost:8080/",
          "height": 105
        },
        "outputId": "a5ee98e4-ee22-46f0-add0-0625cf1bdfe8"
      },
      "source": [
        "#클래스 별 평균 영어, 수학, 과학점수는?\n",
        "aggregate(sungjuk[,c(2:4)],\n",
        "by=list(sungjuk$class),\n",
        "FUN = mean)"
      ],
      "execution_count": 119,
      "outputs": [
        {
          "output_type": "display_data",
          "data": {
            "text/plain": [
              "  Group.1 eng  mat  sci\n",
              "1 1       79.5 67.0 80 \n",
              "2 2       86.5 95.5 70 "
            ],
            "text/latex": "A data.frame: 2 × 4\n\\begin{tabular}{llll}\n Group.1 & eng & mat & sci\\\\\n <dbl> & <dbl> & <dbl> & <dbl>\\\\\n\\hline\n\t 1 & 79.5 & 67.0 & 80\\\\\n\t 2 & 86.5 & 95.5 & 70\\\\\n\\end{tabular}\n",
            "text/markdown": "\nA data.frame: 2 × 4\n\n| Group.1 &lt;dbl&gt; | eng &lt;dbl&gt; | mat &lt;dbl&gt; | sci &lt;dbl&gt; |\n|---|---|---|---|\n| 1 | 79.5 | 67.0 | 80 |\n| 2 | 86.5 | 95.5 | 70 |\n\n",
            "text/html": [
              "<table>\n",
              "<caption>A data.frame: 2 × 4</caption>\n",
              "<thead>\n",
              "\t<tr><th scope=col>Group.1</th><th scope=col>eng</th><th scope=col>mat</th><th scope=col>sci</th></tr>\n",
              "\t<tr><th scope=col>&lt;dbl&gt;</th><th scope=col>&lt;dbl&gt;</th><th scope=col>&lt;dbl&gt;</th><th scope=col>&lt;dbl&gt;</th></tr>\n",
              "</thead>\n",
              "<tbody>\n",
              "\t<tr><td>1</td><td>79.5</td><td>67.0</td><td>80</td></tr>\n",
              "\t<tr><td>2</td><td>86.5</td><td>95.5</td><td>70</td></tr>\n",
              "</tbody>\n",
              "</table>\n"
            ]
          },
          "metadata": {
            "tags": []
          }
        }
      ]
    },
    {
      "cell_type": "markdown",
      "metadata": {
        "id": "jTeioa0iMdVI",
        "colab_type": "text"
      },
      "source": [
        "#### mtcars \n",
        "\n",
        "\n",
        "73-74년까지 대중적인 32종 차량 주행테스트 데이터"
      ]
    },
    {
      "cell_type": "code",
      "metadata": {
        "id": "Z5DFAUarMNc-",
        "colab_type": "code",
        "colab": {
          "base_uri": "https://localhost:8080/",
          "height": 630
        },
        "outputId": "5ec9d89e-3559-40d6-cabd-8b5574e6739e"
      },
      "source": [
        "?mtcars\n",
        "mtcars"
      ],
      "execution_count": 122,
      "outputs": [
        {
          "output_type": "display_data",
          "data": {
            "text/plain": [
              "                    mpg  cyl disp  hp  drat wt    qsec  vs am gear carb\n",
              "Mazda RX4           21.0 6   160.0 110 3.90 2.620 16.46 0  1  4    4   \n",
              "Mazda RX4 Wag       21.0 6   160.0 110 3.90 2.875 17.02 0  1  4    4   \n",
              "Datsun 710          22.8 4   108.0  93 3.85 2.320 18.61 1  1  4    1   \n",
              "Hornet 4 Drive      21.4 6   258.0 110 3.08 3.215 19.44 1  0  3    1   \n",
              "Hornet Sportabout   18.7 8   360.0 175 3.15 3.440 17.02 0  0  3    2   \n",
              "Valiant             18.1 6   225.0 105 2.76 3.460 20.22 1  0  3    1   \n",
              "Duster 360          14.3 8   360.0 245 3.21 3.570 15.84 0  0  3    4   \n",
              "Merc 240D           24.4 4   146.7  62 3.69 3.190 20.00 1  0  4    2   \n",
              "Merc 230            22.8 4   140.8  95 3.92 3.150 22.90 1  0  4    2   \n",
              "Merc 280            19.2 6   167.6 123 3.92 3.440 18.30 1  0  4    4   \n",
              "Merc 280C           17.8 6   167.6 123 3.92 3.440 18.90 1  0  4    4   \n",
              "Merc 450SE          16.4 8   275.8 180 3.07 4.070 17.40 0  0  3    3   \n",
              "Merc 450SL          17.3 8   275.8 180 3.07 3.730 17.60 0  0  3    3   \n",
              "Merc 450SLC         15.2 8   275.8 180 3.07 3.780 18.00 0  0  3    3   \n",
              "Cadillac Fleetwood  10.4 8   472.0 205 2.93 5.250 17.98 0  0  3    4   \n",
              "Lincoln Continental 10.4 8   460.0 215 3.00 5.424 17.82 0  0  3    4   \n",
              "Chrysler Imperial   14.7 8   440.0 230 3.23 5.345 17.42 0  0  3    4   \n",
              "Fiat 128            32.4 4    78.7  66 4.08 2.200 19.47 1  1  4    1   \n",
              "Honda Civic         30.4 4    75.7  52 4.93 1.615 18.52 1  1  4    2   \n",
              "Toyota Corolla      33.9 4    71.1  65 4.22 1.835 19.90 1  1  4    1   \n",
              "Toyota Corona       21.5 4   120.1  97 3.70 2.465 20.01 1  0  3    1   \n",
              "Dodge Challenger    15.5 8   318.0 150 2.76 3.520 16.87 0  0  3    2   \n",
              "AMC Javelin         15.2 8   304.0 150 3.15 3.435 17.30 0  0  3    2   \n",
              "Camaro Z28          13.3 8   350.0 245 3.73 3.840 15.41 0  0  3    4   \n",
              "Pontiac Firebird    19.2 8   400.0 175 3.08 3.845 17.05 0  0  3    2   \n",
              "Fiat X1-9           27.3 4    79.0  66 4.08 1.935 18.90 1  1  4    1   \n",
              "Porsche 914-2       26.0 4   120.3  91 4.43 2.140 16.70 0  1  5    2   \n",
              "Lotus Europa        30.4 4    95.1 113 3.77 1.513 16.90 1  1  5    2   \n",
              "Ford Pantera L      15.8 8   351.0 264 4.22 3.170 14.50 0  1  5    4   \n",
              "Ferrari Dino        19.7 6   145.0 175 3.62 2.770 15.50 0  1  5    6   \n",
              "Maserati Bora       15.0 8   301.0 335 3.54 3.570 14.60 0  1  5    8   \n",
              "Volvo 142E          21.4 4   121.0 109 4.11 2.780 18.60 1  1  4    2   "
            ],
            "text/latex": "A data.frame: 32 × 11\n\\begin{tabular}{r|lllllllllll}\n  & mpg & cyl & disp & hp & drat & wt & qsec & vs & am & gear & carb\\\\\n  & <dbl> & <dbl> & <dbl> & <dbl> & <dbl> & <dbl> & <dbl> & <dbl> & <dbl> & <dbl> & <dbl>\\\\\n\\hline\n\tMazda RX4 & 21.0 & 6 & 160.0 & 110 & 3.90 & 2.620 & 16.46 & 0 & 1 & 4 & 4\\\\\n\tMazda RX4 Wag & 21.0 & 6 & 160.0 & 110 & 3.90 & 2.875 & 17.02 & 0 & 1 & 4 & 4\\\\\n\tDatsun 710 & 22.8 & 4 & 108.0 &  93 & 3.85 & 2.320 & 18.61 & 1 & 1 & 4 & 1\\\\\n\tHornet 4 Drive & 21.4 & 6 & 258.0 & 110 & 3.08 & 3.215 & 19.44 & 1 & 0 & 3 & 1\\\\\n\tHornet Sportabout & 18.7 & 8 & 360.0 & 175 & 3.15 & 3.440 & 17.02 & 0 & 0 & 3 & 2\\\\\n\tValiant & 18.1 & 6 & 225.0 & 105 & 2.76 & 3.460 & 20.22 & 1 & 0 & 3 & 1\\\\\n\tDuster 360 & 14.3 & 8 & 360.0 & 245 & 3.21 & 3.570 & 15.84 & 0 & 0 & 3 & 4\\\\\n\tMerc 240D & 24.4 & 4 & 146.7 &  62 & 3.69 & 3.190 & 20.00 & 1 & 0 & 4 & 2\\\\\n\tMerc 230 & 22.8 & 4 & 140.8 &  95 & 3.92 & 3.150 & 22.90 & 1 & 0 & 4 & 2\\\\\n\tMerc 280 & 19.2 & 6 & 167.6 & 123 & 3.92 & 3.440 & 18.30 & 1 & 0 & 4 & 4\\\\\n\tMerc 280C & 17.8 & 6 & 167.6 & 123 & 3.92 & 3.440 & 18.90 & 1 & 0 & 4 & 4\\\\\n\tMerc 450SE & 16.4 & 8 & 275.8 & 180 & 3.07 & 4.070 & 17.40 & 0 & 0 & 3 & 3\\\\\n\tMerc 450SL & 17.3 & 8 & 275.8 & 180 & 3.07 & 3.730 & 17.60 & 0 & 0 & 3 & 3\\\\\n\tMerc 450SLC & 15.2 & 8 & 275.8 & 180 & 3.07 & 3.780 & 18.00 & 0 & 0 & 3 & 3\\\\\n\tCadillac Fleetwood & 10.4 & 8 & 472.0 & 205 & 2.93 & 5.250 & 17.98 & 0 & 0 & 3 & 4\\\\\n\tLincoln Continental & 10.4 & 8 & 460.0 & 215 & 3.00 & 5.424 & 17.82 & 0 & 0 & 3 & 4\\\\\n\tChrysler Imperial & 14.7 & 8 & 440.0 & 230 & 3.23 & 5.345 & 17.42 & 0 & 0 & 3 & 4\\\\\n\tFiat 128 & 32.4 & 4 &  78.7 &  66 & 4.08 & 2.200 & 19.47 & 1 & 1 & 4 & 1\\\\\n\tHonda Civic & 30.4 & 4 &  75.7 &  52 & 4.93 & 1.615 & 18.52 & 1 & 1 & 4 & 2\\\\\n\tToyota Corolla & 33.9 & 4 &  71.1 &  65 & 4.22 & 1.835 & 19.90 & 1 & 1 & 4 & 1\\\\\n\tToyota Corona & 21.5 & 4 & 120.1 &  97 & 3.70 & 2.465 & 20.01 & 1 & 0 & 3 & 1\\\\\n\tDodge Challenger & 15.5 & 8 & 318.0 & 150 & 2.76 & 3.520 & 16.87 & 0 & 0 & 3 & 2\\\\\n\tAMC Javelin & 15.2 & 8 & 304.0 & 150 & 3.15 & 3.435 & 17.30 & 0 & 0 & 3 & 2\\\\\n\tCamaro Z28 & 13.3 & 8 & 350.0 & 245 & 3.73 & 3.840 & 15.41 & 0 & 0 & 3 & 4\\\\\n\tPontiac Firebird & 19.2 & 8 & 400.0 & 175 & 3.08 & 3.845 & 17.05 & 0 & 0 & 3 & 2\\\\\n\tFiat X1-9 & 27.3 & 4 &  79.0 &  66 & 4.08 & 1.935 & 18.90 & 1 & 1 & 4 & 1\\\\\n\tPorsche 914-2 & 26.0 & 4 & 120.3 &  91 & 4.43 & 2.140 & 16.70 & 0 & 1 & 5 & 2\\\\\n\tLotus Europa & 30.4 & 4 &  95.1 & 113 & 3.77 & 1.513 & 16.90 & 1 & 1 & 5 & 2\\\\\n\tFord Pantera L & 15.8 & 8 & 351.0 & 264 & 4.22 & 3.170 & 14.50 & 0 & 1 & 5 & 4\\\\\n\tFerrari Dino & 19.7 & 6 & 145.0 & 175 & 3.62 & 2.770 & 15.50 & 0 & 1 & 5 & 6\\\\\n\tMaserati Bora & 15.0 & 8 & 301.0 & 335 & 3.54 & 3.570 & 14.60 & 0 & 1 & 5 & 8\\\\\n\tVolvo 142E & 21.4 & 4 & 121.0 & 109 & 4.11 & 2.780 & 18.60 & 1 & 1 & 4 & 2\\\\\n\\end{tabular}\n",
            "text/markdown": "\nA data.frame: 32 × 11\n\n| <!--/--> | mpg &lt;dbl&gt; | cyl &lt;dbl&gt; | disp &lt;dbl&gt; | hp &lt;dbl&gt; | drat &lt;dbl&gt; | wt &lt;dbl&gt; | qsec &lt;dbl&gt; | vs &lt;dbl&gt; | am &lt;dbl&gt; | gear &lt;dbl&gt; | carb &lt;dbl&gt; |\n|---|---|---|---|---|---|---|---|---|---|---|---|\n| Mazda RX4 | 21.0 | 6 | 160.0 | 110 | 3.90 | 2.620 | 16.46 | 0 | 1 | 4 | 4 |\n| Mazda RX4 Wag | 21.0 | 6 | 160.0 | 110 | 3.90 | 2.875 | 17.02 | 0 | 1 | 4 | 4 |\n| Datsun 710 | 22.8 | 4 | 108.0 |  93 | 3.85 | 2.320 | 18.61 | 1 | 1 | 4 | 1 |\n| Hornet 4 Drive | 21.4 | 6 | 258.0 | 110 | 3.08 | 3.215 | 19.44 | 1 | 0 | 3 | 1 |\n| Hornet Sportabout | 18.7 | 8 | 360.0 | 175 | 3.15 | 3.440 | 17.02 | 0 | 0 | 3 | 2 |\n| Valiant | 18.1 | 6 | 225.0 | 105 | 2.76 | 3.460 | 20.22 | 1 | 0 | 3 | 1 |\n| Duster 360 | 14.3 | 8 | 360.0 | 245 | 3.21 | 3.570 | 15.84 | 0 | 0 | 3 | 4 |\n| Merc 240D | 24.4 | 4 | 146.7 |  62 | 3.69 | 3.190 | 20.00 | 1 | 0 | 4 | 2 |\n| Merc 230 | 22.8 | 4 | 140.8 |  95 | 3.92 | 3.150 | 22.90 | 1 | 0 | 4 | 2 |\n| Merc 280 | 19.2 | 6 | 167.6 | 123 | 3.92 | 3.440 | 18.30 | 1 | 0 | 4 | 4 |\n| Merc 280C | 17.8 | 6 | 167.6 | 123 | 3.92 | 3.440 | 18.90 | 1 | 0 | 4 | 4 |\n| Merc 450SE | 16.4 | 8 | 275.8 | 180 | 3.07 | 4.070 | 17.40 | 0 | 0 | 3 | 3 |\n| Merc 450SL | 17.3 | 8 | 275.8 | 180 | 3.07 | 3.730 | 17.60 | 0 | 0 | 3 | 3 |\n| Merc 450SLC | 15.2 | 8 | 275.8 | 180 | 3.07 | 3.780 | 18.00 | 0 | 0 | 3 | 3 |\n| Cadillac Fleetwood | 10.4 | 8 | 472.0 | 205 | 2.93 | 5.250 | 17.98 | 0 | 0 | 3 | 4 |\n| Lincoln Continental | 10.4 | 8 | 460.0 | 215 | 3.00 | 5.424 | 17.82 | 0 | 0 | 3 | 4 |\n| Chrysler Imperial | 14.7 | 8 | 440.0 | 230 | 3.23 | 5.345 | 17.42 | 0 | 0 | 3 | 4 |\n| Fiat 128 | 32.4 | 4 |  78.7 |  66 | 4.08 | 2.200 | 19.47 | 1 | 1 | 4 | 1 |\n| Honda Civic | 30.4 | 4 |  75.7 |  52 | 4.93 | 1.615 | 18.52 | 1 | 1 | 4 | 2 |\n| Toyota Corolla | 33.9 | 4 |  71.1 |  65 | 4.22 | 1.835 | 19.90 | 1 | 1 | 4 | 1 |\n| Toyota Corona | 21.5 | 4 | 120.1 |  97 | 3.70 | 2.465 | 20.01 | 1 | 0 | 3 | 1 |\n| Dodge Challenger | 15.5 | 8 | 318.0 | 150 | 2.76 | 3.520 | 16.87 | 0 | 0 | 3 | 2 |\n| AMC Javelin | 15.2 | 8 | 304.0 | 150 | 3.15 | 3.435 | 17.30 | 0 | 0 | 3 | 2 |\n| Camaro Z28 | 13.3 | 8 | 350.0 | 245 | 3.73 | 3.840 | 15.41 | 0 | 0 | 3 | 4 |\n| Pontiac Firebird | 19.2 | 8 | 400.0 | 175 | 3.08 | 3.845 | 17.05 | 0 | 0 | 3 | 2 |\n| Fiat X1-9 | 27.3 | 4 |  79.0 |  66 | 4.08 | 1.935 | 18.90 | 1 | 1 | 4 | 1 |\n| Porsche 914-2 | 26.0 | 4 | 120.3 |  91 | 4.43 | 2.140 | 16.70 | 0 | 1 | 5 | 2 |\n| Lotus Europa | 30.4 | 4 |  95.1 | 113 | 3.77 | 1.513 | 16.90 | 1 | 1 | 5 | 2 |\n| Ford Pantera L | 15.8 | 8 | 351.0 | 264 | 4.22 | 3.170 | 14.50 | 0 | 1 | 5 | 4 |\n| Ferrari Dino | 19.7 | 6 | 145.0 | 175 | 3.62 | 2.770 | 15.50 | 0 | 1 | 5 | 6 |\n| Maserati Bora | 15.0 | 8 | 301.0 | 335 | 3.54 | 3.570 | 14.60 | 0 | 1 | 5 | 8 |\n| Volvo 142E | 21.4 | 4 | 121.0 | 109 | 4.11 | 2.780 | 18.60 | 1 | 1 | 4 | 2 |\n\n",
            "text/html": [
              "<table>\n",
              "<caption>A data.frame: 32 × 11</caption>\n",
              "<thead>\n",
              "\t<tr><th></th><th scope=col>mpg</th><th scope=col>cyl</th><th scope=col>disp</th><th scope=col>hp</th><th scope=col>drat</th><th scope=col>wt</th><th scope=col>qsec</th><th scope=col>vs</th><th scope=col>am</th><th scope=col>gear</th><th scope=col>carb</th></tr>\n",
              "\t<tr><th></th><th scope=col>&lt;dbl&gt;</th><th scope=col>&lt;dbl&gt;</th><th scope=col>&lt;dbl&gt;</th><th scope=col>&lt;dbl&gt;</th><th scope=col>&lt;dbl&gt;</th><th scope=col>&lt;dbl&gt;</th><th scope=col>&lt;dbl&gt;</th><th scope=col>&lt;dbl&gt;</th><th scope=col>&lt;dbl&gt;</th><th scope=col>&lt;dbl&gt;</th><th scope=col>&lt;dbl&gt;</th></tr>\n",
              "</thead>\n",
              "<tbody>\n",
              "\t<tr><th scope=row>Mazda RX4</th><td>21.0</td><td>6</td><td>160.0</td><td>110</td><td>3.90</td><td>2.620</td><td>16.46</td><td>0</td><td>1</td><td>4</td><td>4</td></tr>\n",
              "\t<tr><th scope=row>Mazda RX4 Wag</th><td>21.0</td><td>6</td><td>160.0</td><td>110</td><td>3.90</td><td>2.875</td><td>17.02</td><td>0</td><td>1</td><td>4</td><td>4</td></tr>\n",
              "\t<tr><th scope=row>Datsun 710</th><td>22.8</td><td>4</td><td>108.0</td><td> 93</td><td>3.85</td><td>2.320</td><td>18.61</td><td>1</td><td>1</td><td>4</td><td>1</td></tr>\n",
              "\t<tr><th scope=row>Hornet 4 Drive</th><td>21.4</td><td>6</td><td>258.0</td><td>110</td><td>3.08</td><td>3.215</td><td>19.44</td><td>1</td><td>0</td><td>3</td><td>1</td></tr>\n",
              "\t<tr><th scope=row>Hornet Sportabout</th><td>18.7</td><td>8</td><td>360.0</td><td>175</td><td>3.15</td><td>3.440</td><td>17.02</td><td>0</td><td>0</td><td>3</td><td>2</td></tr>\n",
              "\t<tr><th scope=row>Valiant</th><td>18.1</td><td>6</td><td>225.0</td><td>105</td><td>2.76</td><td>3.460</td><td>20.22</td><td>1</td><td>0</td><td>3</td><td>1</td></tr>\n",
              "\t<tr><th scope=row>Duster 360</th><td>14.3</td><td>8</td><td>360.0</td><td>245</td><td>3.21</td><td>3.570</td><td>15.84</td><td>0</td><td>0</td><td>3</td><td>4</td></tr>\n",
              "\t<tr><th scope=row>Merc 240D</th><td>24.4</td><td>4</td><td>146.7</td><td> 62</td><td>3.69</td><td>3.190</td><td>20.00</td><td>1</td><td>0</td><td>4</td><td>2</td></tr>\n",
              "\t<tr><th scope=row>Merc 230</th><td>22.8</td><td>4</td><td>140.8</td><td> 95</td><td>3.92</td><td>3.150</td><td>22.90</td><td>1</td><td>0</td><td>4</td><td>2</td></tr>\n",
              "\t<tr><th scope=row>Merc 280</th><td>19.2</td><td>6</td><td>167.6</td><td>123</td><td>3.92</td><td>3.440</td><td>18.30</td><td>1</td><td>0</td><td>4</td><td>4</td></tr>\n",
              "\t<tr><th scope=row>Merc 280C</th><td>17.8</td><td>6</td><td>167.6</td><td>123</td><td>3.92</td><td>3.440</td><td>18.90</td><td>1</td><td>0</td><td>4</td><td>4</td></tr>\n",
              "\t<tr><th scope=row>Merc 450SE</th><td>16.4</td><td>8</td><td>275.8</td><td>180</td><td>3.07</td><td>4.070</td><td>17.40</td><td>0</td><td>0</td><td>3</td><td>3</td></tr>\n",
              "\t<tr><th scope=row>Merc 450SL</th><td>17.3</td><td>8</td><td>275.8</td><td>180</td><td>3.07</td><td>3.730</td><td>17.60</td><td>0</td><td>0</td><td>3</td><td>3</td></tr>\n",
              "\t<tr><th scope=row>Merc 450SLC</th><td>15.2</td><td>8</td><td>275.8</td><td>180</td><td>3.07</td><td>3.780</td><td>18.00</td><td>0</td><td>0</td><td>3</td><td>3</td></tr>\n",
              "\t<tr><th scope=row>Cadillac Fleetwood</th><td>10.4</td><td>8</td><td>472.0</td><td>205</td><td>2.93</td><td>5.250</td><td>17.98</td><td>0</td><td>0</td><td>3</td><td>4</td></tr>\n",
              "\t<tr><th scope=row>Lincoln Continental</th><td>10.4</td><td>8</td><td>460.0</td><td>215</td><td>3.00</td><td>5.424</td><td>17.82</td><td>0</td><td>0</td><td>3</td><td>4</td></tr>\n",
              "\t<tr><th scope=row>Chrysler Imperial</th><td>14.7</td><td>8</td><td>440.0</td><td>230</td><td>3.23</td><td>5.345</td><td>17.42</td><td>0</td><td>0</td><td>3</td><td>4</td></tr>\n",
              "\t<tr><th scope=row>Fiat 128</th><td>32.4</td><td>4</td><td> 78.7</td><td> 66</td><td>4.08</td><td>2.200</td><td>19.47</td><td>1</td><td>1</td><td>4</td><td>1</td></tr>\n",
              "\t<tr><th scope=row>Honda Civic</th><td>30.4</td><td>4</td><td> 75.7</td><td> 52</td><td>4.93</td><td>1.615</td><td>18.52</td><td>1</td><td>1</td><td>4</td><td>2</td></tr>\n",
              "\t<tr><th scope=row>Toyota Corolla</th><td>33.9</td><td>4</td><td> 71.1</td><td> 65</td><td>4.22</td><td>1.835</td><td>19.90</td><td>1</td><td>1</td><td>4</td><td>1</td></tr>\n",
              "\t<tr><th scope=row>Toyota Corona</th><td>21.5</td><td>4</td><td>120.1</td><td> 97</td><td>3.70</td><td>2.465</td><td>20.01</td><td>1</td><td>0</td><td>3</td><td>1</td></tr>\n",
              "\t<tr><th scope=row>Dodge Challenger</th><td>15.5</td><td>8</td><td>318.0</td><td>150</td><td>2.76</td><td>3.520</td><td>16.87</td><td>0</td><td>0</td><td>3</td><td>2</td></tr>\n",
              "\t<tr><th scope=row>AMC Javelin</th><td>15.2</td><td>8</td><td>304.0</td><td>150</td><td>3.15</td><td>3.435</td><td>17.30</td><td>0</td><td>0</td><td>3</td><td>2</td></tr>\n",
              "\t<tr><th scope=row>Camaro Z28</th><td>13.3</td><td>8</td><td>350.0</td><td>245</td><td>3.73</td><td>3.840</td><td>15.41</td><td>0</td><td>0</td><td>3</td><td>4</td></tr>\n",
              "\t<tr><th scope=row>Pontiac Firebird</th><td>19.2</td><td>8</td><td>400.0</td><td>175</td><td>3.08</td><td>3.845</td><td>17.05</td><td>0</td><td>0</td><td>3</td><td>2</td></tr>\n",
              "\t<tr><th scope=row>Fiat X1-9</th><td>27.3</td><td>4</td><td> 79.0</td><td> 66</td><td>4.08</td><td>1.935</td><td>18.90</td><td>1</td><td>1</td><td>4</td><td>1</td></tr>\n",
              "\t<tr><th scope=row>Porsche 914-2</th><td>26.0</td><td>4</td><td>120.3</td><td> 91</td><td>4.43</td><td>2.140</td><td>16.70</td><td>0</td><td>1</td><td>5</td><td>2</td></tr>\n",
              "\t<tr><th scope=row>Lotus Europa</th><td>30.4</td><td>4</td><td> 95.1</td><td>113</td><td>3.77</td><td>1.513</td><td>16.90</td><td>1</td><td>1</td><td>5</td><td>2</td></tr>\n",
              "\t<tr><th scope=row>Ford Pantera L</th><td>15.8</td><td>8</td><td>351.0</td><td>264</td><td>4.22</td><td>3.170</td><td>14.50</td><td>0</td><td>1</td><td>5</td><td>4</td></tr>\n",
              "\t<tr><th scope=row>Ferrari Dino</th><td>19.7</td><td>6</td><td>145.0</td><td>175</td><td>3.62</td><td>2.770</td><td>15.50</td><td>0</td><td>1</td><td>5</td><td>6</td></tr>\n",
              "\t<tr><th scope=row>Maserati Bora</th><td>15.0</td><td>8</td><td>301.0</td><td>335</td><td>3.54</td><td>3.570</td><td>14.60</td><td>0</td><td>1</td><td>5</td><td>8</td></tr>\n",
              "\t<tr><th scope=row>Volvo 142E</th><td>21.4</td><td>4</td><td>121.0</td><td>109</td><td>4.11</td><td>2.780</td><td>18.60</td><td>1</td><td>1</td><td>4</td><td>2</td></tr>\n",
              "</tbody>\n",
              "</table>\n"
            ]
          },
          "metadata": {
            "tags": []
          }
        }
      ]
    },
    {
      "cell_type": "code",
      "metadata": {
        "id": "wfHfOCUINvMO",
        "colab_type": "code",
        "colab": {
          "base_uri": "https://localhost:8080/",
          "height": 437
        },
        "outputId": "5b92d5f7-0994-4795-cf94-a7d0a4c95240"
      },
      "source": [
        "mtcars <-data.frame(mtcars)\n",
        "boxplot(mtcars)"
      ],
      "execution_count": 129,
      "outputs": [
        {
          "output_type": "display_data",
          "data": {
            "image/png": "[encoded data removed]",
            "text/plain": [
              "plot without title"
            ]
          },
          "metadata": {
            "tags": [],
            "image/png": {
              "width": 420,
              "height": 420
            }
          }
        }
      ]
    },
    {
      "cell_type": "markdown",
      "metadata": {
        "id": "LXEdGPXxMqPu",
        "colab_type": "text"
      },
      "source": [
        "실린더 컬럼을 기준으로 평균/최대 최소 연비를 구해보자"
      ]
    },
    {
      "cell_type": "code",
      "metadata": {
        "id": "-q806wx5M6Rv",
        "colab_type": "code",
        "colab": {
          "base_uri": "https://localhost:8080/",
          "height": 138
        },
        "outputId": "1add1d08-465e-44b7-f49b-b3c66d2522ae"
      },
      "source": [
        "#평균 구하기\n",
        "aggregate(mtcars$mpg,\n",
        "by=list(mtcars$cyl),\n",
        "FUN = mean)"
      ],
      "execution_count": 126,
      "outputs": [
        {
          "output_type": "display_data",
          "data": {
            "text/plain": [
              "  Group.1 x       \n",
              "1 4       26.66364\n",
              "2 6       19.74286\n",
              "3 8       15.10000"
            ],
            "text/latex": "A data.frame: 3 × 2\n\\begin{tabular}{ll}\n Group.1 & x\\\\\n <dbl> & <dbl>\\\\\n\\hline\n\t 4 & 26.66364\\\\\n\t 6 & 19.74286\\\\\n\t 8 & 15.10000\\\\\n\\end{tabular}\n",
            "text/markdown": "\nA data.frame: 3 × 2\n\n| Group.1 &lt;dbl&gt; | x &lt;dbl&gt; |\n|---|---|\n| 4 | 26.66364 |\n| 6 | 19.74286 |\n| 8 | 15.10000 |\n\n",
            "text/html": [
              "<table>\n",
              "<caption>A data.frame: 3 × 2</caption>\n",
              "<thead>\n",
              "\t<tr><th scope=col>Group.1</th><th scope=col>x</th></tr>\n",
              "\t<tr><th scope=col>&lt;dbl&gt;</th><th scope=col>&lt;dbl&gt;</th></tr>\n",
              "</thead>\n",
              "<tbody>\n",
              "\t<tr><td>4</td><td>26.66364</td></tr>\n",
              "\t<tr><td>6</td><td>19.74286</td></tr>\n",
              "\t<tr><td>8</td><td>15.10000</td></tr>\n",
              "</tbody>\n",
              "</table>\n"
            ]
          },
          "metadata": {
            "tags": []
          }
        }
      ]
    },
    {
      "cell_type": "code",
      "metadata": {
        "id": "iwkzDBm3NpQt",
        "colab_type": "code",
        "colab": {
          "base_uri": "https://localhost:8080/",
          "height": 138
        },
        "outputId": "e2762d87-ad47-4c1f-dbe2-d2f1562fa5a3"
      },
      "source": [
        "#최대값 구하기\n",
        "aggregate(mtcars$mpg,\n",
        "by=list(mtcars$cyl),\n",
        "FUN = max)"
      ],
      "execution_count": 127,
      "outputs": [
        {
          "output_type": "display_data",
          "data": {
            "text/plain": [
              "  Group.1 x   \n",
              "1 4       33.9\n",
              "2 6       21.4\n",
              "3 8       19.2"
            ],
            "text/latex": "A data.frame: 3 × 2\n\\begin{tabular}{ll}\n Group.1 & x\\\\\n <dbl> & <dbl>\\\\\n\\hline\n\t 4 & 33.9\\\\\n\t 6 & 21.4\\\\\n\t 8 & 19.2\\\\\n\\end{tabular}\n",
            "text/markdown": "\nA data.frame: 3 × 2\n\n| Group.1 &lt;dbl&gt; | x &lt;dbl&gt; |\n|---|---|\n| 4 | 33.9 |\n| 6 | 21.4 |\n| 8 | 19.2 |\n\n",
            "text/html": [
              "<table>\n",
              "<caption>A data.frame: 3 × 2</caption>\n",
              "<thead>\n",
              "\t<tr><th scope=col>Group.1</th><th scope=col>x</th></tr>\n",
              "\t<tr><th scope=col>&lt;dbl&gt;</th><th scope=col>&lt;dbl&gt;</th></tr>\n",
              "</thead>\n",
              "<tbody>\n",
              "\t<tr><td>4</td><td>33.9</td></tr>\n",
              "\t<tr><td>6</td><td>21.4</td></tr>\n",
              "\t<tr><td>8</td><td>19.2</td></tr>\n",
              "</tbody>\n",
              "</table>\n"
            ]
          },
          "metadata": {
            "tags": []
          }
        }
      ]
    },
    {
      "cell_type": "markdown",
      "metadata": {
        "id": "Vy9sHf1wPS7k",
        "colab_type": "text"
      },
      "source": [
        "### dplyr <br>\n",
        "* 데이터프레임을 대상으로 데이터랭글링 작업에 빠른 속도와 많은 유용한 기능을 활용\n",
        "* 전처리 작업에 사용하는 함수들\n",
        " + select : 열선택\n",
        " + filter : 조건 검색\n",
        " + group_by : 데이터 그룹화\n",
        " + mutate : 행/열 추가\n",
        " + summarize : 데이터 집계\n",
        " + arrange : 데이터 정렬\n",
        "* 이러한 함수들을 marittr 패키지에 의해 구현된 파이프(>) 패러다임을 이용하여<br>\n",
        " 체인형식으로 연산을 수행할 수 있음\n",
        "  + 즉, 먼저 계산한 함수의 결과를 다음 실행할 함수의 입력으로 보낼 수 있음"
      ]
    },
    {
      "cell_type": "code",
      "metadata": {
        "id": "tbU4IKeYNysT",
        "colab_type": "code",
        "colab": {
          "base_uri": "https://localhost:8080/",
          "height": 70
        },
        "outputId": "8b3187c9-bbc4-4133-f19b-6f3295b48293"
      },
      "source": [
        "#install.packages('dplyr')\n",
        "library(dplyr)"
      ],
      "execution_count": 136,
      "outputs": [
        {
          "output_type": "stream",
          "text": [
            "Installing package into ‘/usr/local/lib/R/site-library’\n",
            "(as ‘lib’ is unspecified)\n",
            "\n"
          ],
          "name": "stderr"
        }
      ]
    },
    {
      "cell_type": "code",
      "metadata": {
        "id": "djLEFDL9QqD4",
        "colab_type": "code",
        "colab": {
          "base_uri": "https://localhost:8080/",
          "height": 172
        },
        "outputId": "12b773dc-352e-4956-b369-4f0776cba512"
      },
      "source": [
        "# 영어점수 출력\n",
        "sungjuk %>% select(eng)"
      ],
      "execution_count": 137,
      "outputs": [
        {
          "output_type": "display_data",
          "data": {
            "text/plain": [
              "  eng\n",
              "1 90 \n",
              "2 95 \n",
              "3 69 \n",
              "4 78 "
            ],
            "text/latex": "A data.frame: 4 × 1\n\\begin{tabular}{l}\n eng\\\\\n <dbl>\\\\\n\\hline\n\t 90\\\\\n\t 95\\\\\n\t 69\\\\\n\t 78\\\\\n\\end{tabular}\n",
            "text/markdown": "\nA data.frame: 4 × 1\n\n| eng &lt;dbl&gt; |\n|---|\n| 90 |\n| 95 |\n| 69 |\n| 78 |\n\n",
            "text/html": [
              "<table>\n",
              "<caption>A data.frame: 4 × 1</caption>\n",
              "<thead>\n",
              "\t<tr><th scope=col>eng</th></tr>\n",
              "\t<tr><th scope=col>&lt;dbl&gt;</th></tr>\n",
              "</thead>\n",
              "<tbody>\n",
              "\t<tr><td>90</td></tr>\n",
              "\t<tr><td>95</td></tr>\n",
              "\t<tr><td>69</td></tr>\n",
              "\t<tr><td>78</td></tr>\n",
              "</tbody>\n",
              "</table>\n"
            ]
          },
          "metadata": {
            "tags": []
          }
        }
      ]
    },
    {
      "cell_type": "code",
      "metadata": {
        "id": "PaSMEuS3QyS5",
        "colab_type": "code",
        "colab": {
          "base_uri": "https://localhost:8080/",
          "height": 140
        },
        "outputId": "74cfbb6f-07b5-49eb-ca0d-f7f3b867da3e"
      },
      "source": [
        "# 영/수/과학 출력\n",
        "sungjuk %>% select(eng,mat,sci)"
      ],
      "execution_count": 138,
      "outputs": [
        {
          "output_type": "display_data",
          "data": {
            "text/plain": [
              "  eng mat sci\n",
              "1 90  85  90 \n",
              "2 95  96  80 \n",
              "3 69  49  70 \n",
              "4 78  95  60 "
            ],
            "text/latex": "A data.frame: 4 × 3\n\\begin{tabular}{lll}\n eng & mat & sci\\\\\n <dbl> & <dbl> & <dbl>\\\\\n\\hline\n\t 90 & 85 & 90\\\\\n\t 95 & 96 & 80\\\\\n\t 69 & 49 & 70\\\\\n\t 78 & 95 & 60\\\\\n\\end{tabular}\n",
            "text/markdown": "\nA data.frame: 4 × 3\n\n| eng &lt;dbl&gt; | mat &lt;dbl&gt; | sci &lt;dbl&gt; |\n|---|---|---|\n| 90 | 85 | 90 |\n| 95 | 96 | 80 |\n| 69 | 49 | 70 |\n| 78 | 95 | 60 |\n\n",
            "text/html": [
              "<table>\n",
              "<caption>A data.frame: 4 × 3</caption>\n",
              "<thead>\n",
              "\t<tr><th scope=col>eng</th><th scope=col>mat</th><th scope=col>sci</th></tr>\n",
              "\t<tr><th scope=col>&lt;dbl&gt;</th><th scope=col>&lt;dbl&gt;</th><th scope=col>&lt;dbl&gt;</th></tr>\n",
              "</thead>\n",
              "<tbody>\n",
              "\t<tr><td>90</td><td>85</td><td>90</td></tr>\n",
              "\t<tr><td>95</td><td>96</td><td>80</td></tr>\n",
              "\t<tr><td>69</td><td>49</td><td>70</td></tr>\n",
              "\t<tr><td>78</td><td>95</td><td>60</td></tr>\n",
              "</tbody>\n",
              "</table>\n"
            ]
          },
          "metadata": {
            "tags": []
          }
        }
      ]
    },
    {
      "cell_type": "code",
      "metadata": {
        "id": "YI4Izm96RVyB",
        "colab_type": "code",
        "colab": {
          "base_uri": "https://localhost:8080/",
          "height": 105
        },
        "outputId": "9198e32c-ca43-462c-c79a-9f7ecd477c76"
      },
      "source": [
        "# filter : 조건검색\n",
        "sungjuk %>% filter(class==1)"
      ],
      "execution_count": 140,
      "outputs": [
        {
          "output_type": "display_data",
          "data": {
            "text/plain": [
              "  name eng mat sci avg      tot class\n",
              "1 John 90  85  90  88.33333 265 1    \n",
              "2 Mark 69  49  70  62.66667 188 1    "
            ],
            "text/latex": "A data.frame: 2 × 7\n\\begin{tabular}{lllllll}\n name & eng & mat & sci & avg & tot & class\\\\\n <fct> & <dbl> & <dbl> & <dbl> & <dbl> & <dbl> & <dbl>\\\\\n\\hline\n\t John & 90 & 85 & 90 & 88.33333 & 265 & 1\\\\\n\t Mark & 69 & 49 & 70 & 62.66667 & 188 & 1\\\\\n\\end{tabular}\n",
            "text/markdown": "\nA data.frame: 2 × 7\n\n| name &lt;fct&gt; | eng &lt;dbl&gt; | mat &lt;dbl&gt; | sci &lt;dbl&gt; | avg &lt;dbl&gt; | tot &lt;dbl&gt; | class &lt;dbl&gt; |\n|---|---|---|---|---|---|---|\n| John | 90 | 85 | 90 | 88.33333 | 265 | 1 |\n| Mark | 69 | 49 | 70 | 62.66667 | 188 | 1 |\n\n",
            "text/html": [
              "<table>\n",
              "<caption>A data.frame: 2 × 7</caption>\n",
              "<thead>\n",
              "\t<tr><th scope=col>name</th><th scope=col>eng</th><th scope=col>mat</th><th scope=col>sci</th><th scope=col>avg</th><th scope=col>tot</th><th scope=col>class</th></tr>\n",
              "\t<tr><th scope=col>&lt;fct&gt;</th><th scope=col>&lt;dbl&gt;</th><th scope=col>&lt;dbl&gt;</th><th scope=col>&lt;dbl&gt;</th><th scope=col>&lt;dbl&gt;</th><th scope=col>&lt;dbl&gt;</th><th scope=col>&lt;dbl&gt;</th></tr>\n",
              "</thead>\n",
              "<tbody>\n",
              "\t<tr><td>John</td><td>90</td><td>85</td><td>90</td><td>88.33333</td><td>265</td><td>1</td></tr>\n",
              "\t<tr><td>Mark</td><td>69</td><td>49</td><td>70</td><td>62.66667</td><td>188</td><td>1</td></tr>\n",
              "</tbody>\n",
              "</table>\n"
            ]
          },
          "metadata": {
            "tags": []
          }
        }
      ]
    },
    {
      "cell_type": "code",
      "metadata": {
        "id": "IpHeiq1wRgU0",
        "colab_type": "code",
        "colab": {
          "base_uri": "https://localhost:8080/",
          "height": 122
        },
        "outputId": "73d6f67c-e76e-4612-8ac9-1013b77be356"
      },
      "source": [
        "# 영어점수가 70이상이고 수학점수가 80이상인 학생 출력\n",
        "sungjuk %>% filter(eng>70) %>% filter(mat>80) "
      ],
      "execution_count": 142,
      "outputs": [
        {
          "output_type": "display_data",
          "data": {
            "text/plain": [
              "  name eng mat sci avg      tot class\n",
              "1 John 90  85  90  88.33333 265 1    \n",
              "2 Tom  95  96  80  90.33333 271 2    \n",
              "3 Jane 78  95  60  77.66667 233 2    "
            ],
            "text/latex": "A data.frame: 3 × 7\n\\begin{tabular}{lllllll}\n name & eng & mat & sci & avg & tot & class\\\\\n <fct> & <dbl> & <dbl> & <dbl> & <dbl> & <dbl> & <dbl>\\\\\n\\hline\n\t John & 90 & 85 & 90 & 88.33333 & 265 & 1\\\\\n\t Tom  & 95 & 96 & 80 & 90.33333 & 271 & 2\\\\\n\t Jane & 78 & 95 & 60 & 77.66667 & 233 & 2\\\\\n\\end{tabular}\n",
            "text/markdown": "\nA data.frame: 3 × 7\n\n| name &lt;fct&gt; | eng &lt;dbl&gt; | mat &lt;dbl&gt; | sci &lt;dbl&gt; | avg &lt;dbl&gt; | tot &lt;dbl&gt; | class &lt;dbl&gt; |\n|---|---|---|---|---|---|---|\n| John | 90 | 85 | 90 | 88.33333 | 265 | 1 |\n| Tom  | 95 | 96 | 80 | 90.33333 | 271 | 2 |\n| Jane | 78 | 95 | 60 | 77.66667 | 233 | 2 |\n\n",
            "text/html": [
              "<table>\n",
              "<caption>A data.frame: 3 × 7</caption>\n",
              "<thead>\n",
              "\t<tr><th scope=col>name</th><th scope=col>eng</th><th scope=col>mat</th><th scope=col>sci</th><th scope=col>avg</th><th scope=col>tot</th><th scope=col>class</th></tr>\n",
              "\t<tr><th scope=col>&lt;fct&gt;</th><th scope=col>&lt;dbl&gt;</th><th scope=col>&lt;dbl&gt;</th><th scope=col>&lt;dbl&gt;</th><th scope=col>&lt;dbl&gt;</th><th scope=col>&lt;dbl&gt;</th><th scope=col>&lt;dbl&gt;</th></tr>\n",
              "</thead>\n",
              "<tbody>\n",
              "\t<tr><td>John</td><td>90</td><td>85</td><td>90</td><td>88.33333</td><td>265</td><td>1</td></tr>\n",
              "\t<tr><td>Tom </td><td>95</td><td>96</td><td>80</td><td>90.33333</td><td>271</td><td>2</td></tr>\n",
              "\t<tr><td>Jane</td><td>78</td><td>95</td><td>60</td><td>77.66667</td><td>233</td><td>2</td></tr>\n",
              "</tbody>\n",
              "</table>\n"
            ]
          },
          "metadata": {
            "tags": []
          }
        }
      ]
    },
    {
      "cell_type": "code",
      "metadata": {
        "id": "zF-J69OsRz3M",
        "colab_type": "code",
        "colab": {}
      },
      "source": [
        ""
      ],
      "execution_count": null,
      "outputs": []
    }
  ]
}
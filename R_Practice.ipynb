{
  "nbformat": 4,
  "nbformat_minor": 0,
  "metadata": {
    "colab": {
      "name": "R Practice.ipynb",
      "provenance": [],
      "collapsed_sections": [],
      "authorship_tag": "ABX9TyOHoFO8p7gFmwZmQbFhiMnz",
      "include_colab_link": true
    },
    "kernelspec": {
      "name": "ir",
      "display_name": "R"
    }
  },
  "cells": [
    {
      "cell_type": "markdown",
      "metadata": {
        "id": "view-in-github",
        "colab_type": "text"
      },
      "source": [
        "<a href=\"https://colab.research.google.com/github/jeong-wooseok/R_Practice/blob/master/R_Practice.ipynb\" target=\"_parent\"><img src=\"https://colab.research.google.com/assets/colab-badge.svg\" alt=\"Open In Colab\"/></a>"
      ]
    },
    {
      "cell_type": "markdown",
      "metadata": {
        "id": "vpb8j101t8Qy",
        "colab_type": "text"
      },
      "source": [
        "[R코랩 만들기](http://url.kr/HgKcpW)"
      ]
    },
    {
      "cell_type": "code",
      "metadata": {
        "id": "ec7MTzZOYFgk",
        "colab_type": "code",
        "colab": {}
      },
      "source": [
        "# 자료형\n",
        "a<-123 #정수\n",
        "b<-456.78 #실수\n",
        "c<-'Hello World' #문자\n",
        "d<-T #논리\n",
        "e<-NULL\n",
        "f<-NA"
      ],
      "execution_count": null,
      "outputs": []
    },
    {
      "cell_type": "code",
      "metadata": {
        "id": "F1K9tHQ6ZwCo",
        "colab_type": "code",
        "colab": {
          "base_uri": "https://localhost:8080/",
          "height": 52
        },
        "outputId": "f9568f95-f1fb-4ea9-c084-cfbbb3d9db03"
      },
      "source": [
        "# 1~100까지 정수를 num이라는 벡터로 선언하려면\n",
        "num <- c(1:100)\n",
        "num"
      ],
      "execution_count": null,
      "outputs": [
        {
          "output_type": "display_data",
          "data": {
            "text/plain": [
              "  [1]   1   2   3   4   5   6   7   8   9  10  11  12  13  14  15  16  17  18\n",
              " [19]  19  20  21  22  23  24  25  26  27  28  29  30  31  32  33  34  35  36\n",
              " [37]  37  38  39  40  41  42  43  44  45  46  47  48  49  50  51  52  53  54\n",
              " [55]  55  56  57  58  59  60  61  62  63  64  65  66  67  68  69  70  71  72\n",
              " [73]  73  74  75  76  77  78  79  80  81  82  83  84  85  86  87  88  89  90\n",
              " [91]  91  92  93  94  95  96  97  98  99 100"
            ],
            "text/latex": "\\begin{enumerate*}\n\\item 1\n\\item 2\n\\item 3\n\\item 4\n\\item 5\n\\item 6\n\\item 7\n\\item 8\n\\item 9\n\\item 10\n\\item 11\n\\item 12\n\\item 13\n\\item 14\n\\item 15\n\\item 16\n\\item 17\n\\item 18\n\\item 19\n\\item 20\n\\item 21\n\\item 22\n\\item 23\n\\item 24\n\\item 25\n\\item 26\n\\item 27\n\\item 28\n\\item 29\n\\item 30\n\\item 31\n\\item 32\n\\item 33\n\\item 34\n\\item 35\n\\item 36\n\\item 37\n\\item 38\n\\item 39\n\\item 40\n\\item 41\n\\item 42\n\\item 43\n\\item 44\n\\item 45\n\\item 46\n\\item 47\n\\item 48\n\\item 49\n\\item 50\n\\item 51\n\\item 52\n\\item 53\n\\item 54\n\\item 55\n\\item 56\n\\item 57\n\\item 58\n\\item 59\n\\item 60\n\\item 61\n\\item 62\n\\item 63\n\\item 64\n\\item 65\n\\item 66\n\\item 67\n\\item 68\n\\item 69\n\\item 70\n\\item 71\n\\item 72\n\\item 73\n\\item 74\n\\item 75\n\\item 76\n\\item 77\n\\item 78\n\\item 79\n\\item 80\n\\item 81\n\\item 82\n\\item 83\n\\item 84\n\\item 85\n\\item 86\n\\item 87\n\\item 88\n\\item 89\n\\item 90\n\\item 91\n\\item 92\n\\item 93\n\\item 94\n\\item 95\n\\item 96\n\\item 97\n\\item 98\n\\item 99\n\\item 100\n\\end{enumerate*}\n",
            "text/markdown": "1. 1\n2. 2\n3. 3\n4. 4\n5. 5\n6. 6\n7. 7\n8. 8\n9. 9\n10. 10\n11. 11\n12. 12\n13. 13\n14. 14\n15. 15\n16. 16\n17. 17\n18. 18\n19. 19\n20. 20\n21. 21\n22. 22\n23. 23\n24. 24\n25. 25\n26. 26\n27. 27\n28. 28\n29. 29\n30. 30\n31. 31\n32. 32\n33. 33\n34. 34\n35. 35\n36. 36\n37. 37\n38. 38\n39. 39\n40. 40\n41. 41\n42. 42\n43. 43\n44. 44\n45. 45\n46. 46\n47. 47\n48. 48\n49. 49\n50. 50\n51. 51\n52. 52\n53. 53\n54. 54\n55. 55\n56. 56\n57. 57\n58. 58\n59. 59\n60. 60\n61. 61\n62. 62\n63. 63\n64. 64\n65. 65\n66. 66\n67. 67\n68. 68\n69. 69\n70. 70\n71. 71\n72. 72\n73. 73\n74. 74\n75. 75\n76. 76\n77. 77\n78. 78\n79. 79\n80. 80\n81. 81\n82. 82\n83. 83\n84. 84\n85. 85\n86. 86\n87. 87\n88. 88\n89. 89\n90. 90\n91. 91\n92. 92\n93. 93\n94. 94\n95. 95\n96. 96\n97. 97\n98. 98\n99. 99\n100. 100\n\n\n",
            "text/html": [
              "<style>\n",
              ".list-inline {list-style: none; margin:0; padding: 0}\n",
              ".list-inline>li {display: inline-block}\n",
              ".list-inline>li:not(:last-child)::after {content: \"\\00b7\"; padding: 0 .5ex}\n",
              "</style>\n",
              "<ol class=list-inline><li>1</li><li>2</li><li>3</li><li>4</li><li>5</li><li>6</li><li>7</li><li>8</li><li>9</li><li>10</li><li>11</li><li>12</li><li>13</li><li>14</li><li>15</li><li>16</li><li>17</li><li>18</li><li>19</li><li>20</li><li>21</li><li>22</li><li>23</li><li>24</li><li>25</li><li>26</li><li>27</li><li>28</li><li>29</li><li>30</li><li>31</li><li>32</li><li>33</li><li>34</li><li>35</li><li>36</li><li>37</li><li>38</li><li>39</li><li>40</li><li>41</li><li>42</li><li>43</li><li>44</li><li>45</li><li>46</li><li>47</li><li>48</li><li>49</li><li>50</li><li>51</li><li>52</li><li>53</li><li>54</li><li>55</li><li>56</li><li>57</li><li>58</li><li>59</li><li>60</li><li>61</li><li>62</li><li>63</li><li>64</li><li>65</li><li>66</li><li>67</li><li>68</li><li>69</li><li>70</li><li>71</li><li>72</li><li>73</li><li>74</li><li>75</li><li>76</li><li>77</li><li>78</li><li>79</li><li>80</li><li>81</li><li>82</li><li>83</li><li>84</li><li>85</li><li>86</li><li>87</li><li>88</li><li>89</li><li>90</li><li>91</li><li>92</li><li>93</li><li>94</li><li>95</li><li>96</li><li>97</li><li>98</li><li>99</li><li>100</li></ol>\n"
            ]
          },
          "metadata": {
            "tags": []
          }
        }
      ]
    },
    {
      "cell_type": "code",
      "metadata": {
        "id": "UugoO-EhaCHY",
        "colab_type": "code",
        "colab": {
          "base_uri": "https://localhost:8080/",
          "height": 52
        },
        "outputId": "e49f7529-7adf-4c86-cdea-93e3f971beee"
      },
      "source": [
        "num <- seq(1,100,1) # seq(시작,끝,간격)\n",
        "num"
      ],
      "execution_count": null,
      "outputs": [
        {
          "output_type": "display_data",
          "data": {
            "text/plain": [
              "  [1]   1   2   3   4   5   6   7   8   9  10  11  12  13  14  15  16  17  18\n",
              " [19]  19  20  21  22  23  24  25  26  27  28  29  30  31  32  33  34  35  36\n",
              " [37]  37  38  39  40  41  42  43  44  45  46  47  48  49  50  51  52  53  54\n",
              " [55]  55  56  57  58  59  60  61  62  63  64  65  66  67  68  69  70  71  72\n",
              " [73]  73  74  75  76  77  78  79  80  81  82  83  84  85  86  87  88  89  90\n",
              " [91]  91  92  93  94  95  96  97  98  99 100"
            ],
            "text/latex": "\\begin{enumerate*}\n\\item 1\n\\item 2\n\\item 3\n\\item 4\n\\item 5\n\\item 6\n\\item 7\n\\item 8\n\\item 9\n\\item 10\n\\item 11\n\\item 12\n\\item 13\n\\item 14\n\\item 15\n\\item 16\n\\item 17\n\\item 18\n\\item 19\n\\item 20\n\\item 21\n\\item 22\n\\item 23\n\\item 24\n\\item 25\n\\item 26\n\\item 27\n\\item 28\n\\item 29\n\\item 30\n\\item 31\n\\item 32\n\\item 33\n\\item 34\n\\item 35\n\\item 36\n\\item 37\n\\item 38\n\\item 39\n\\item 40\n\\item 41\n\\item 42\n\\item 43\n\\item 44\n\\item 45\n\\item 46\n\\item 47\n\\item 48\n\\item 49\n\\item 50\n\\item 51\n\\item 52\n\\item 53\n\\item 54\n\\item 55\n\\item 56\n\\item 57\n\\item 58\n\\item 59\n\\item 60\n\\item 61\n\\item 62\n\\item 63\n\\item 64\n\\item 65\n\\item 66\n\\item 67\n\\item 68\n\\item 69\n\\item 70\n\\item 71\n\\item 72\n\\item 73\n\\item 74\n\\item 75\n\\item 76\n\\item 77\n\\item 78\n\\item 79\n\\item 80\n\\item 81\n\\item 82\n\\item 83\n\\item 84\n\\item 85\n\\item 86\n\\item 87\n\\item 88\n\\item 89\n\\item 90\n\\item 91\n\\item 92\n\\item 93\n\\item 94\n\\item 95\n\\item 96\n\\item 97\n\\item 98\n\\item 99\n\\item 100\n\\end{enumerate*}\n",
            "text/markdown": "1. 1\n2. 2\n3. 3\n4. 4\n5. 5\n6. 6\n7. 7\n8. 8\n9. 9\n10. 10\n11. 11\n12. 12\n13. 13\n14. 14\n15. 15\n16. 16\n17. 17\n18. 18\n19. 19\n20. 20\n21. 21\n22. 22\n23. 23\n24. 24\n25. 25\n26. 26\n27. 27\n28. 28\n29. 29\n30. 30\n31. 31\n32. 32\n33. 33\n34. 34\n35. 35\n36. 36\n37. 37\n38. 38\n39. 39\n40. 40\n41. 41\n42. 42\n43. 43\n44. 44\n45. 45\n46. 46\n47. 47\n48. 48\n49. 49\n50. 50\n51. 51\n52. 52\n53. 53\n54. 54\n55. 55\n56. 56\n57. 57\n58. 58\n59. 59\n60. 60\n61. 61\n62. 62\n63. 63\n64. 64\n65. 65\n66. 66\n67. 67\n68. 68\n69. 69\n70. 70\n71. 71\n72. 72\n73. 73\n74. 74\n75. 75\n76. 76\n77. 77\n78. 78\n79. 79\n80. 80\n81. 81\n82. 82\n83. 83\n84. 84\n85. 85\n86. 86\n87. 87\n88. 88\n89. 89\n90. 90\n91. 91\n92. 92\n93. 93\n94. 94\n95. 95\n96. 96\n97. 97\n98. 98\n99. 99\n100. 100\n\n\n",
            "text/html": [
              "<style>\n",
              ".list-inline {list-style: none; margin:0; padding: 0}\n",
              ".list-inline>li {display: inline-block}\n",
              ".list-inline>li:not(:last-child)::after {content: \"\\00b7\"; padding: 0 .5ex}\n",
              "</style>\n",
              "<ol class=list-inline><li>1</li><li>2</li><li>3</li><li>4</li><li>5</li><li>6</li><li>7</li><li>8</li><li>9</li><li>10</li><li>11</li><li>12</li><li>13</li><li>14</li><li>15</li><li>16</li><li>17</li><li>18</li><li>19</li><li>20</li><li>21</li><li>22</li><li>23</li><li>24</li><li>25</li><li>26</li><li>27</li><li>28</li><li>29</li><li>30</li><li>31</li><li>32</li><li>33</li><li>34</li><li>35</li><li>36</li><li>37</li><li>38</li><li>39</li><li>40</li><li>41</li><li>42</li><li>43</li><li>44</li><li>45</li><li>46</li><li>47</li><li>48</li><li>49</li><li>50</li><li>51</li><li>52</li><li>53</li><li>54</li><li>55</li><li>56</li><li>57</li><li>58</li><li>59</li><li>60</li><li>61</li><li>62</li><li>63</li><li>64</li><li>65</li><li>66</li><li>67</li><li>68</li><li>69</li><li>70</li><li>71</li><li>72</li><li>73</li><li>74</li><li>75</li><li>76</li><li>77</li><li>78</li><li>79</li><li>80</li><li>81</li><li>82</li><li>83</li><li>84</li><li>85</li><li>86</li><li>87</li><li>88</li><li>89</li><li>90</li><li>91</li><li>92</li><li>93</li><li>94</li><li>95</li><li>96</li><li>97</li><li>98</li><li>99</li><li>100</li></ol>\n"
            ]
          },
          "metadata": {
            "tags": []
          }
        }
      ]
    },
    {
      "cell_type": "code",
      "metadata": {
        "id": "jEdML0i1aC9p",
        "colab_type": "code",
        "colab": {
          "base_uri": "https://localhost:8080/",
          "height": 52
        },
        "outputId": "b2c7016d-f262-4af3-f1ec-4d95e751757f"
      },
      "source": [
        "num_even <- seq(2,100,2)\n",
        "num_odd <- seq(1,100,2)\n",
        "num_even\n",
        "num_odd"
      ],
      "execution_count": null,
      "outputs": [
        {
          "output_type": "display_data",
          "data": {
            "text/plain": [
              " [1]   2   4   6   8  10  12  14  16  18  20  22  24  26  28  30  32  34  36  38\n",
              "[20]  40  42  44  46  48  50  52  54  56  58  60  62  64  66  68  70  72  74  76\n",
              "[39]  78  80  82  84  86  88  90  92  94  96  98 100"
            ],
            "text/latex": "\\begin{enumerate*}\n\\item 2\n\\item 4\n\\item 6\n\\item 8\n\\item 10\n\\item 12\n\\item 14\n\\item 16\n\\item 18\n\\item 20\n\\item 22\n\\item 24\n\\item 26\n\\item 28\n\\item 30\n\\item 32\n\\item 34\n\\item 36\n\\item 38\n\\item 40\n\\item 42\n\\item 44\n\\item 46\n\\item 48\n\\item 50\n\\item 52\n\\item 54\n\\item 56\n\\item 58\n\\item 60\n\\item 62\n\\item 64\n\\item 66\n\\item 68\n\\item 70\n\\item 72\n\\item 74\n\\item 76\n\\item 78\n\\item 80\n\\item 82\n\\item 84\n\\item 86\n\\item 88\n\\item 90\n\\item 92\n\\item 94\n\\item 96\n\\item 98\n\\item 100\n\\end{enumerate*}\n",
            "text/markdown": "1. 2\n2. 4\n3. 6\n4. 8\n5. 10\n6. 12\n7. 14\n8. 16\n9. 18\n10. 20\n11. 22\n12. 24\n13. 26\n14. 28\n15. 30\n16. 32\n17. 34\n18. 36\n19. 38\n20. 40\n21. 42\n22. 44\n23. 46\n24. 48\n25. 50\n26. 52\n27. 54\n28. 56\n29. 58\n30. 60\n31. 62\n32. 64\n33. 66\n34. 68\n35. 70\n36. 72\n37. 74\n38. 76\n39. 78\n40. 80\n41. 82\n42. 84\n43. 86\n44. 88\n45. 90\n46. 92\n47. 94\n48. 96\n49. 98\n50. 100\n\n\n",
            "text/html": [
              "<style>\n",
              ".list-inline {list-style: none; margin:0; padding: 0}\n",
              ".list-inline>li {display: inline-block}\n",
              ".list-inline>li:not(:last-child)::after {content: \"\\00b7\"; padding: 0 .5ex}\n",
              "</style>\n",
              "<ol class=list-inline><li>2</li><li>4</li><li>6</li><li>8</li><li>10</li><li>12</li><li>14</li><li>16</li><li>18</li><li>20</li><li>22</li><li>24</li><li>26</li><li>28</li><li>30</li><li>32</li><li>34</li><li>36</li><li>38</li><li>40</li><li>42</li><li>44</li><li>46</li><li>48</li><li>50</li><li>52</li><li>54</li><li>56</li><li>58</li><li>60</li><li>62</li><li>64</li><li>66</li><li>68</li><li>70</li><li>72</li><li>74</li><li>76</li><li>78</li><li>80</li><li>82</li><li>84</li><li>86</li><li>88</li><li>90</li><li>92</li><li>94</li><li>96</li><li>98</li><li>100</li></ol>\n"
            ]
          },
          "metadata": {
            "tags": []
          }
        },
        {
          "output_type": "display_data",
          "data": {
            "text/plain": [
              " [1]  1  3  5  7  9 11 13 15 17 19 21 23 25 27 29 31 33 35 37 39 41 43 45 47 49\n",
              "[26] 51 53 55 57 59 61 63 65 67 69 71 73 75 77 79 81 83 85 87 89 91 93 95 97 99"
            ],
            "text/latex": "\\begin{enumerate*}\n\\item 1\n\\item 3\n\\item 5\n\\item 7\n\\item 9\n\\item 11\n\\item 13\n\\item 15\n\\item 17\n\\item 19\n\\item 21\n\\item 23\n\\item 25\n\\item 27\n\\item 29\n\\item 31\n\\item 33\n\\item 35\n\\item 37\n\\item 39\n\\item 41\n\\item 43\n\\item 45\n\\item 47\n\\item 49\n\\item 51\n\\item 53\n\\item 55\n\\item 57\n\\item 59\n\\item 61\n\\item 63\n\\item 65\n\\item 67\n\\item 69\n\\item 71\n\\item 73\n\\item 75\n\\item 77\n\\item 79\n\\item 81\n\\item 83\n\\item 85\n\\item 87\n\\item 89\n\\item 91\n\\item 93\n\\item 95\n\\item 97\n\\item 99\n\\end{enumerate*}\n",
            "text/markdown": "1. 1\n2. 3\n3. 5\n4. 7\n5. 9\n6. 11\n7. 13\n8. 15\n9. 17\n10. 19\n11. 21\n12. 23\n13. 25\n14. 27\n15. 29\n16. 31\n17. 33\n18. 35\n19. 37\n20. 39\n21. 41\n22. 43\n23. 45\n24. 47\n25. 49\n26. 51\n27. 53\n28. 55\n29. 57\n30. 59\n31. 61\n32. 63\n33. 65\n34. 67\n35. 69\n36. 71\n37. 73\n38. 75\n39. 77\n40. 79\n41. 81\n42. 83\n43. 85\n44. 87\n45. 89\n46. 91\n47. 93\n48. 95\n49. 97\n50. 99\n\n\n",
            "text/html": [
              "<style>\n",
              ".list-inline {list-style: none; margin:0; padding: 0}\n",
              ".list-inline>li {display: inline-block}\n",
              ".list-inline>li:not(:last-child)::after {content: \"\\00b7\"; padding: 0 .5ex}\n",
              "</style>\n",
              "<ol class=list-inline><li>1</li><li>3</li><li>5</li><li>7</li><li>9</li><li>11</li><li>13</li><li>15</li><li>17</li><li>19</li><li>21</li><li>23</li><li>25</li><li>27</li><li>29</li><li>31</li><li>33</li><li>35</li><li>37</li><li>39</li><li>41</li><li>43</li><li>45</li><li>47</li><li>49</li><li>51</li><li>53</li><li>55</li><li>57</li><li>59</li><li>61</li><li>63</li><li>65</li><li>67</li><li>69</li><li>71</li><li>73</li><li>75</li><li>77</li><li>79</li><li>81</li><li>83</li><li>85</li><li>87</li><li>89</li><li>91</li><li>93</li><li>95</li><li>97</li><li>99</li></ol>\n"
            ]
          },
          "metadata": {
            "tags": []
          }
        }
      ]
    },
    {
      "cell_type": "code",
      "metadata": {
        "id": "uhQhjG_0abW7",
        "colab_type": "code",
        "colab": {
          "base_uri": "https://localhost:8080/",
          "height": 35
        },
        "outputId": "20c55ec9-a391-4afe-8405-174e87ebea3d"
      },
      "source": [
        "# 반복\n",
        "rep(2,5)"
      ],
      "execution_count": null,
      "outputs": [
        {
          "output_type": "display_data",
          "data": {
            "text/plain": [
              "[1] 2 2 2 2 2"
            ],
            "text/latex": "\\begin{enumerate*}\n\\item 2\n\\item 2\n\\item 2\n\\item 2\n\\item 2\n\\end{enumerate*}\n",
            "text/markdown": "1. 2\n2. 2\n3. 2\n4. 2\n5. 2\n\n\n",
            "text/html": [
              "<style>\n",
              ".list-inline {list-style: none; margin:0; padding: 0}\n",
              ".list-inline>li {display: inline-block}\n",
              ".list-inline>li:not(:last-child)::after {content: \"\\00b7\"; padding: 0 .5ex}\n",
              "</style>\n",
              "<ol class=list-inline><li>2</li><li>2</li><li>2</li><li>2</li><li>2</li></ol>\n"
            ]
          },
          "metadata": {
            "tags": []
          }
        }
      ]
    },
    {
      "cell_type": "code",
      "metadata": {
        "id": "NGdQ9EEdYLpw",
        "colab_type": "code",
        "colab": {}
      },
      "source": [
        "# 성적을 계산해보기"
      ],
      "execution_count": null,
      "outputs": []
    },
    {
      "cell_type": "code",
      "metadata": {
        "id": "R7xq0ABKYNoD",
        "colab_type": "code",
        "colab": {}
      },
      "source": [
        "# 1명일 때\n",
        "name <- '혜교'\n",
        "kor <-99\n",
        "eng<-98\n",
        "mat <-78"
      ],
      "execution_count": null,
      "outputs": []
    },
    {
      "cell_type": "code",
      "metadata": {
        "id": "spMPRYxbYUwW",
        "colab_type": "code",
        "colab": {}
      },
      "source": [
        "tot <- sum(kor,eng,mat)\n",
        "avg <- tot/3"
      ],
      "execution_count": null,
      "outputs": []
    },
    {
      "cell_type": "code",
      "metadata": {
        "id": "y0KbQXrxYnyX",
        "colab_type": "code",
        "colab": {}
      },
      "source": [
        "# 다수일 때: 벡터 활용\n",
        "names <- c('혜교','민수','현빈','원식','대열')\n",
        "kors <- c(99,75,89,70,80)\n",
        "engs <- c(98,67,92,65,80)\n",
        "mats <- c(78,99,91,80,85)"
      ],
      "execution_count": null,
      "outputs": []
    },
    {
      "cell_type": "code",
      "metadata": {
        "id": "SwkQws6fdmGq",
        "colab_type": "code",
        "colab": {
          "base_uri": "https://localhost:8080/",
          "height": 52
        },
        "outputId": "dbd6432e-ad1f-4718-9405-ed39006307ad"
      },
      "source": [
        "tots <- kors + engs + mats\n",
        "means <- kors/3 + engs/3 + mats/3\n",
        "tots\n",
        "means"
      ],
      "execution_count": null,
      "outputs": [
        {
          "output_type": "display_data",
          "data": {
            "text/plain": [
              "[1] 275 241 272 215 245"
            ],
            "text/latex": "\\begin{enumerate*}\n\\item 275\n\\item 241\n\\item 272\n\\item 215\n\\item 245\n\\end{enumerate*}\n",
            "text/markdown": "1. 275\n2. 241\n3. 272\n4. 215\n5. 245\n\n\n",
            "text/html": [
              "<style>\n",
              ".list-inline {list-style: none; margin:0; padding: 0}\n",
              ".list-inline>li {display: inline-block}\n",
              ".list-inline>li:not(:last-child)::after {content: \"\\00b7\"; padding: 0 .5ex}\n",
              "</style>\n",
              "<ol class=list-inline><li>275</li><li>241</li><li>272</li><li>215</li><li>245</li></ol>\n"
            ]
          },
          "metadata": {
            "tags": []
          }
        },
        {
          "output_type": "display_data",
          "data": {
            "text/plain": [
              "[1] 91.66667 80.33333 90.66667 71.66667 81.66667"
            ],
            "text/latex": "\\begin{enumerate*}\n\\item 91.6666666666667\n\\item 80.3333333333333\n\\item 90.6666666666667\n\\item 71.6666666666667\n\\item 81.6666666666667\n\\end{enumerate*}\n",
            "text/markdown": "1. 91.6666666666667\n2. 80.3333333333333\n3. 90.6666666666667\n4. 71.6666666666667\n5. 81.6666666666667\n\n\n",
            "text/html": [
              "<style>\n",
              ".list-inline {list-style: none; margin:0; padding: 0}\n",
              ".list-inline>li {display: inline-block}\n",
              ".list-inline>li:not(:last-child)::after {content: \"\\00b7\"; padding: 0 .5ex}\n",
              "</style>\n",
              "<ol class=list-inline><li>91.6666666666667</li><li>80.3333333333333</li><li>90.6666666666667</li><li>71.6666666666667</li><li>81.6666666666667</li></ol>\n"
            ]
          },
          "metadata": {
            "tags": []
          }
        }
      ]
    },
    {
      "cell_type": "code",
      "metadata": {
        "id": "9VjktjP8ZGzM",
        "colab_type": "code",
        "colab": {
          "base_uri": "https://localhost:8080/",
          "height": 145
        },
        "outputId": "fa3ef433-3a90-48dc-cf70-7306cbc44c80"
      },
      "source": [
        "sj <- data.frame(names,kors,engs,mats) # data.frame(벡터,벡터...,옵션)\n",
        "summary(sj)"
      ],
      "execution_count": null,
      "outputs": [
        {
          "output_type": "display_data",
          "data": {
            "text/plain": [
              "  names        kors           engs           mats     \n",
              " 대열:1   Min.   :70.0   Min.   :65.0   Min.   :78.0  \n",
              " 민수:1   1st Qu.:75.0   1st Qu.:67.0   1st Qu.:80.0  \n",
              " 원식:1   Median :80.0   Median :80.0   Median :85.0  \n",
              " 현빈:1   Mean   :82.6   Mean   :80.4   Mean   :86.6  \n",
              " 혜교:1   3rd Qu.:89.0   3rd Qu.:92.0   3rd Qu.:91.0  \n",
              "          Max.   :99.0   Max.   :98.0   Max.   :99.0  "
            ]
          },
          "metadata": {
            "tags": []
          }
        }
      ]
    },
    {
      "cell_type": "code",
      "metadata": {
        "id": "6Kyto1koiwpB",
        "colab_type": "code",
        "colab": {
          "base_uri": "https://localhost:8080/",
          "height": 108
        },
        "outputId": "5fb9eb4d-cda7-404c-e0a7-bdb5c0356cc3"
      },
      "source": [
        "# 문자는 범주형(factor)데이터로 자동 변환됨을 알수 있음\n",
        "str(sj)"
      ],
      "execution_count": null,
      "outputs": [
        {
          "output_type": "stream",
          "text": [
            "'data.frame':\t5 obs. of  4 variables:\n",
            " $ names: Factor w/ 5 levels \"대열\",\"민수\",..: 5 2 4 3 1\n",
            " $ kors : num  99 75 89 70 80\n",
            " $ engs : num  98 67 92 65 80\n",
            " $ mats : num  78 99 91 80 85\n"
          ],
          "name": "stdout"
        }
      ]
    },
    {
      "cell_type": "code",
      "metadata": {
        "id": "19epoH3Jizr0",
        "colab_type": "code",
        "colab": {
          "base_uri": "https://localhost:8080/",
          "height": 108
        },
        "outputId": "c0a312d0-8b30-43b8-f8a1-af8e44dc28f2"
      },
      "source": [
        "# 팩터를 문자형으로 변경하려면...\n",
        "sj_chr1$names <- as.character(sj$names)\n",
        "str(sj_chr1)"
      ],
      "execution_count": null,
      "outputs": [
        {
          "output_type": "stream",
          "text": [
            "'data.frame':\t5 obs. of  4 variables:\n",
            " $ names: chr  \"혜교\" \"민수\" \"현빈\" \"원식\" ...\n",
            " $ kors : num  99 75 89 70 80\n",
            " $ engs : num  98 67 92 65 80\n",
            " $ mats : num  78 99 91 80 85\n"
          ],
          "name": "stdout"
        }
      ]
    },
    {
      "cell_type": "code",
      "metadata": {
        "id": "WnDsFXEmi8n7",
        "colab_type": "code",
        "colab": {
          "base_uri": "https://localhost:8080/",
          "height": 108
        },
        "outputId": "2166244c-ad1b-4bf8-a696-9faa3dd3c484"
      },
      "source": [
        "# 생성시 옵션을 넣어주는 방식도 있음\n",
        "sj_chr2 <- data.frame(names,kors,engs,mats,stringsAsFactors = F)\n",
        "str(sj_chr2)"
      ],
      "execution_count": null,
      "outputs": [
        {
          "output_type": "stream",
          "text": [
            "'data.frame':\t5 obs. of  4 variables:\n",
            " $ names: chr  \"혜교\" \"민수\" \"현빈\" \"원식\" ...\n",
            " $ kors : num  99 75 89 70 80\n",
            " $ engs : num  98 67 92 65 80\n",
            " $ mats : num  78 99 91 80 85\n"
          ],
          "name": "stdout"
        }
      ]
    },
    {
      "cell_type": "code",
      "metadata": {
        "id": "TpIZk4RvjlSu",
        "colab_type": "code",
        "colab": {
          "base_uri": "https://localhost:8080/",
          "height": 72
        },
        "outputId": "060cdd1c-6283-492a-8821-b5f61a4f0763"
      },
      "source": [
        "# 신생아 월별 몸무게 변화\n",
        "age_b <- c(01,03,05,02,11,09,03,09,12,03)\n",
        "weight_b <- c(4.4,5.3,7.2,5.2,8.5,7.3,6.0,10.4,10.2,6.1)\n",
        "baby <- data.frame(age_b,weight_b)\n",
        "str(baby)"
      ],
      "execution_count": null,
      "outputs": [
        {
          "output_type": "stream",
          "text": [
            "'data.frame':\t10 obs. of  2 variables:\n",
            " $ age_b   : num  1 3 5 2 11 9 3 9 12 3\n",
            " $ weight_b: num  4.4 5.3 7.2 5.2 8.5 7.3 6 10.4 10.2 6.1\n"
          ],
          "name": "stdout"
        }
      ]
    },
    {
      "cell_type": "code",
      "metadata": {
        "id": "2FWg26k-sAig",
        "colab_type": "code",
        "colab": {
          "base_uri": "https://localhost:8080/",
          "height": 305
        },
        "outputId": "ac84c9c5-561a-455f-b51a-833224e4d481"
      },
      "source": [
        "baby"
      ],
      "execution_count": null,
      "outputs": [
        {
          "output_type": "display_data",
          "data": {
            "text/plain": [
              "   age_b weight_b\n",
              "1   1     4.4    \n",
              "2   3     5.3    \n",
              "3   5     7.2    \n",
              "4   2     5.2    \n",
              "5  11     8.5    \n",
              "6   9     7.3    \n",
              "7   3     6.0    \n",
              "8   9    10.4    \n",
              "9  12    10.2    \n",
              "10  3     6.1    "
            ],
            "text/latex": "A data.frame: 10 × 2\n\\begin{tabular}{ll}\n age\\_b & weight\\_b\\\\\n <dbl> & <dbl>\\\\\n\\hline\n\t  1 &  4.4\\\\\n\t  3 &  5.3\\\\\n\t  5 &  7.2\\\\\n\t  2 &  5.2\\\\\n\t 11 &  8.5\\\\\n\t  9 &  7.3\\\\\n\t  3 &  6.0\\\\\n\t  9 & 10.4\\\\\n\t 12 & 10.2\\\\\n\t  3 &  6.1\\\\\n\\end{tabular}\n",
            "text/markdown": "\nA data.frame: 10 × 2\n\n| age_b &lt;dbl&gt; | weight_b &lt;dbl&gt; |\n|---|---|\n|  1 |  4.4 |\n|  3 |  5.3 |\n|  5 |  7.2 |\n|  2 |  5.2 |\n| 11 |  8.5 |\n|  9 |  7.3 |\n|  3 |  6.0 |\n|  9 | 10.4 |\n| 12 | 10.2 |\n|  3 |  6.1 |\n\n",
            "text/html": [
              "<table>\n",
              "<caption>A data.frame: 10 × 2</caption>\n",
              "<thead>\n",
              "\t<tr><th scope=col>age_b</th><th scope=col>weight_b</th></tr>\n",
              "\t<tr><th scope=col>&lt;dbl&gt;</th><th scope=col>&lt;dbl&gt;</th></tr>\n",
              "</thead>\n",
              "<tbody>\n",
              "\t<tr><td> 1</td><td> 4.4</td></tr>\n",
              "\t<tr><td> 3</td><td> 5.3</td></tr>\n",
              "\t<tr><td> 5</td><td> 7.2</td></tr>\n",
              "\t<tr><td> 2</td><td> 5.2</td></tr>\n",
              "\t<tr><td>11</td><td> 8.5</td></tr>\n",
              "\t<tr><td> 9</td><td> 7.3</td></tr>\n",
              "\t<tr><td> 3</td><td> 6.0</td></tr>\n",
              "\t<tr><td> 9</td><td>10.4</td></tr>\n",
              "\t<tr><td>12</td><td>10.2</td></tr>\n",
              "\t<tr><td> 3</td><td> 6.1</td></tr>\n",
              "</tbody>\n",
              "</table>\n"
            ]
          },
          "metadata": {
            "tags": []
          }
        }
      ]
    },
    {
      "cell_type": "code",
      "metadata": {
        "id": "tuD7cR3GqTJ7",
        "colab_type": "code",
        "colab": {
          "base_uri": "https://localhost:8080/",
          "height": 437
        },
        "outputId": "a6f4d4ba-e715-4fe2-9574-230415a64f24"
      },
      "source": [
        "plot(age_b, weight_b)"
      ],
      "execution_count": null,
      "outputs": [
        {
          "output_type": "display_data",
          "data": {
            "image/png": "[encoded data removed]",
            "text/plain": [
              "plot without title"
            ]
          },
          "metadata": {
            "tags": [],
            "image/png": {
              "width": 420,
              "height": 420
            }
          }
        }
      ]
    },
    {
      "cell_type": "code",
      "metadata": {
        "id": "oAaelhJSqzmJ",
        "colab_type": "code",
        "colab": {
          "base_uri": "https://localhost:8080/",
          "height": 145
        },
        "outputId": "16649a4e-7a79-40a2-f6ef-a59ec7b23263"
      },
      "source": [
        "# 회기모형 y = a + bx + e \n",
        "m <- lm(weight_b~age_b,baby)\n",
        "m"
      ],
      "execution_count": null,
      "outputs": [
        {
          "output_type": "display_data",
          "data": {
            "text/plain": [
              "\n",
              "Call:\n",
              "lm(formula = weight_b ~ age_b, data = baby)\n",
              "\n",
              "Coefficients:\n",
              "(Intercept)        age_b  \n",
              "     4.3596       0.4656  \n"
            ]
          },
          "metadata": {
            "tags": []
          }
        }
      ]
    },
    {
      "cell_type": "code",
      "metadata": {
        "id": "oOkbPK9suLcc",
        "colab_type": "code",
        "colab": {
          "base_uri": "https://localhost:8080/",
          "height": 437
        },
        "outputId": "0e2cbbe3-f46d-4cb4-8d9b-d7816656d794"
      },
      "source": [
        "# 회기선 시각화 \n",
        "plot(weight_b~age_b) + abline(m)"
      ],
      "execution_count": null,
      "outputs": [
        {
          "output_type": "display_data",
          "data": {
            "text/plain": [
              "integer(0)"
            ],
            "text/latex": "",
            "text/markdown": "",
            "text/html": [
              ""
            ]
          },
          "metadata": {
            "tags": []
          }
        },
        {
          "output_type": "display_data",
          "data": {
            "image/png": "[encoded data removed]",
            "text/plain": [
              "plot without title"
            ]
          },
          "metadata": {
            "tags": [],
            "image/png": {
              "width": 420,
              "height": 420
            }
          }
        }
      ]
    },
    {
      "cell_type": "code",
      "metadata": {
        "id": "48cc8UyVm9i-",
        "colab_type": "code",
        "colab": {
          "base_uri": "https://localhost:8080/",
          "height": 381
        },
        "outputId": "42a28d4f-89f6-408a-9ff3-a2aecfe506f9"
      },
      "source": [
        "# 매니저 평점 분석\n",
        "Manager <- c('1','2','3','4','5')\n",
        "Date <- c('2014-10-24','2014-10-28','2014-01-10','2014-10-12','2014-05-01')\n",
        "Country <- c('US','US','UK','UK','UK')\n",
        "Gender <- c('M','F','F','M','F')\n",
        "Age <- c(32,45,25,39,99)\n",
        "q1 = c(5,3,3,3,2)\n",
        "q2 <- c(4,5,5,3,2)\n",
        "q3 <- c(5,2,5,4,1)\n",
        "q4 <- c(5,5,5,NA,2)\n",
        "q5 <- c(5,5,2,NA,1)\n",
        "\n",
        "managers <- data.frame(Manager, Date,Country,Age,q1,q2,q3,q4,q5)\n",
        "managers$Date <- as.Date(managers$Date)\n",
        "managers_chr <- data.frame(Manager, Date,Country,Age,q1,q2,q3,q4,q5,stringsAsFactors = F)\n",
        "str(managers)\n",
        "str(managers_chr)"
      ],
      "execution_count": null,
      "outputs": [
        {
          "output_type": "stream",
          "text": [
            "'data.frame':\t5 obs. of  9 variables:\n",
            " $ Manager: Factor w/ 5 levels \"1\",\"2\",\"3\",\"4\",..: 1 2 3 4 5\n",
            " $ Date   : Date, format: \"2014-10-24\" \"2014-10-28\" ...\n",
            " $ Country: Factor w/ 2 levels \"UK\",\"US\": 2 2 1 1 1\n",
            " $ Age    : num  32 45 25 39 99\n",
            " $ q1     : num  5 3 3 3 2\n",
            " $ q2     : num  4 5 5 3 2\n",
            " $ q3     : num  5 2 5 4 1\n",
            " $ q4     : num  5 5 5 NA 2\n",
            " $ q5     : num  5 5 2 NA 1\n",
            "'data.frame':\t5 obs. of  9 variables:\n",
            " $ Manager: chr  \"1\" \"2\" \"3\" \"4\" ...\n",
            " $ Date   : chr  \"2014-10-24\" \"2014-10-28\" \"2014-01-10\" \"2014-10-12\" ...\n",
            " $ Country: chr  \"US\" \"US\" \"UK\" \"UK\" ...\n",
            " $ Age    : num  32 45 25 39 99\n",
            " $ q1     : num  5 3 3 3 2\n",
            " $ q2     : num  4 5 5 3 2\n",
            " $ q3     : num  5 2 5 4 1\n",
            " $ q4     : num  5 5 5 NA 2\n",
            " $ q5     : num  5 5 2 NA 1\n"
          ],
          "name": "stdout"
        }
      ]
    },
    {
      "cell_type": "code",
      "metadata": {
        "id": "YBEhrdPgvbLc",
        "colab_type": "code",
        "colab": {
          "base_uri": "https://localhost:8080/",
          "height": 52
        },
        "outputId": "d1fe2735-1a3f-4921-ab18-b469e33e5645"
      },
      "source": [
        "qsum <- q1 + q2 + q3 + q4 + q5\n",
        "qmean <- qsum/5\n",
        "qsum\n",
        "qmean"
      ],
      "execution_count": null,
      "outputs": [
        {
          "output_type": "display_data",
          "data": {
            "text/plain": [
              "[1] 24 20 20 NA  8"
            ],
            "text/latex": "\\begin{enumerate*}\n\\item 24\n\\item 20\n\\item 20\n\\item <NA>\n\\item 8\n\\end{enumerate*}\n",
            "text/markdown": "1. 24\n2. 20\n3. 20\n4. &lt;NA&gt;\n5. 8\n\n\n",
            "text/html": [
              "<style>\n",
              ".list-inline {list-style: none; margin:0; padding: 0}\n",
              ".list-inline>li {display: inline-block}\n",
              ".list-inline>li:not(:last-child)::after {content: \"\\00b7\"; padding: 0 .5ex}\n",
              "</style>\n",
              "<ol class=list-inline><li>24</li><li>20</li><li>20</li><li>&lt;NA&gt;</li><li>8</li></ol>\n"
            ]
          },
          "metadata": {
            "tags": []
          }
        },
        {
          "output_type": "display_data",
          "data": {
            "text/plain": [
              "[1] 4.8 4.0 4.0  NA 1.6"
            ],
            "text/latex": "\\begin{enumerate*}\n\\item 4.8\n\\item 4\n\\item 4\n\\item <NA>\n\\item 1.6\n\\end{enumerate*}\n",
            "text/markdown": "1. 4.8\n2. 4\n3. 4\n4. &lt;NA&gt;\n5. 1.6\n\n\n",
            "text/html": [
              "<style>\n",
              ".list-inline {list-style: none; margin:0; padding: 0}\n",
              ".list-inline>li {display: inline-block}\n",
              ".list-inline>li:not(:last-child)::after {content: \"\\00b7\"; padding: 0 .5ex}\n",
              "</style>\n",
              "<ol class=list-inline><li>4.8</li><li>4</li><li>4</li><li>&lt;NA&gt;</li><li>1.6</li></ol>\n"
            ]
          },
          "metadata": {
            "tags": []
          }
        }
      ]
    },
    {
      "cell_type": "code",
      "metadata": {
        "id": "gQGN_oJ4wbyZ",
        "colab_type": "code",
        "colab": {}
      },
      "source": [
        "# 결측치 처리하기"
      ],
      "execution_count": null,
      "outputs": []
    },
    {
      "cell_type": "code",
      "metadata": {
        "id": "P4NE1vfXwfDT",
        "colab_type": "code",
        "colab": {
          "base_uri": "https://localhost:8080/",
          "height": 35
        },
        "outputId": "0e50bba6-1240-4b6c-ef2d-8b757ed998f8"
      },
      "source": [
        "qmean_narm <- mean(q4,na.rm = T)\n",
        "qmean_narm"
      ],
      "execution_count": null,
      "outputs": [
        {
          "output_type": "display_data",
          "data": {
            "text/plain": [
              "[1] 4.25"
            ],
            "text/latex": "4.25",
            "text/markdown": "4.25",
            "text/html": [
              "4.25"
            ]
          },
          "metadata": {
            "tags": []
          }
        }
      ]
    },
    {
      "cell_type": "code",
      "metadata": {
        "id": "LE3pi2PHxKd7",
        "colab_type": "code",
        "colab": {
          "base_uri": "https://localhost:8080/",
          "height": 162
        },
        "outputId": "480be503-f063-45ee-e22e-ea3c639a1944"
      },
      "source": [
        "is.na(managers)"
      ],
      "execution_count": null,
      "outputs": [
        {
          "output_type": "display_data",
          "data": {
            "text/plain": [
              "     Manager Date  Country Age   q1    q2    q3    q4    q5   \n",
              "[1,] FALSE   FALSE FALSE   FALSE FALSE FALSE FALSE FALSE FALSE\n",
              "[2,] FALSE   FALSE FALSE   FALSE FALSE FALSE FALSE FALSE FALSE\n",
              "[3,] FALSE   FALSE FALSE   FALSE FALSE FALSE FALSE FALSE FALSE\n",
              "[4,] FALSE   FALSE FALSE   FALSE FALSE FALSE FALSE  TRUE  TRUE\n",
              "[5,] FALSE   FALSE FALSE   FALSE FALSE FALSE FALSE FALSE FALSE"
            ],
            "text/latex": "A matrix: 5 × 9 of type lgl\n\\begin{tabular}{lllllllll}\n Manager & Date & Country & Age & q1 & q2 & q3 & q4 & q5\\\\\n\\hline\n\t FALSE & FALSE & FALSE & FALSE & FALSE & FALSE & FALSE & FALSE & FALSE\\\\\n\t FALSE & FALSE & FALSE & FALSE & FALSE & FALSE & FALSE & FALSE & FALSE\\\\\n\t FALSE & FALSE & FALSE & FALSE & FALSE & FALSE & FALSE & FALSE & FALSE\\\\\n\t FALSE & FALSE & FALSE & FALSE & FALSE & FALSE & FALSE &  TRUE &  TRUE\\\\\n\t FALSE & FALSE & FALSE & FALSE & FALSE & FALSE & FALSE & FALSE & FALSE\\\\\n\\end{tabular}\n",
            "text/markdown": "\nA matrix: 5 × 9 of type lgl\n\n| Manager | Date | Country | Age | q1 | q2 | q3 | q4 | q5 |\n|---|---|---|---|---|---|---|---|---|\n| FALSE | FALSE | FALSE | FALSE | FALSE | FALSE | FALSE | FALSE | FALSE |\n| FALSE | FALSE | FALSE | FALSE | FALSE | FALSE | FALSE | FALSE | FALSE |\n| FALSE | FALSE | FALSE | FALSE | FALSE | FALSE | FALSE | FALSE | FALSE |\n| FALSE | FALSE | FALSE | FALSE | FALSE | FALSE | FALSE |  TRUE |  TRUE |\n| FALSE | FALSE | FALSE | FALSE | FALSE | FALSE | FALSE | FALSE | FALSE |\n\n",
            "text/html": [
              "<table>\n",
              "<caption>A matrix: 5 × 9 of type lgl</caption>\n",
              "<thead>\n",
              "\t<tr><th scope=col>Manager</th><th scope=col>Date</th><th scope=col>Country</th><th scope=col>Age</th><th scope=col>q1</th><th scope=col>q2</th><th scope=col>q3</th><th scope=col>q4</th><th scope=col>q5</th></tr>\n",
              "</thead>\n",
              "<tbody>\n",
              "\t<tr><td>FALSE</td><td>FALSE</td><td>FALSE</td><td>FALSE</td><td>FALSE</td><td>FALSE</td><td>FALSE</td><td>FALSE</td><td>FALSE</td></tr>\n",
              "\t<tr><td>FALSE</td><td>FALSE</td><td>FALSE</td><td>FALSE</td><td>FALSE</td><td>FALSE</td><td>FALSE</td><td>FALSE</td><td>FALSE</td></tr>\n",
              "\t<tr><td>FALSE</td><td>FALSE</td><td>FALSE</td><td>FALSE</td><td>FALSE</td><td>FALSE</td><td>FALSE</td><td>FALSE</td><td>FALSE</td></tr>\n",
              "\t<tr><td>FALSE</td><td>FALSE</td><td>FALSE</td><td>FALSE</td><td>FALSE</td><td>FALSE</td><td>FALSE</td><td> TRUE</td><td> TRUE</td></tr>\n",
              "\t<tr><td>FALSE</td><td>FALSE</td><td>FALSE</td><td>FALSE</td><td>FALSE</td><td>FALSE</td><td>FALSE</td><td>FALSE</td><td>FALSE</td></tr>\n",
              "</tbody>\n",
              "</table>\n"
            ]
          },
          "metadata": {
            "tags": []
          }
        }
      ]
    },
    {
      "cell_type": "code",
      "metadata": {
        "id": "4EFggR_exXIc",
        "colab_type": "code",
        "colab": {
          "base_uri": "https://localhost:8080/",
          "height": 52
        },
        "outputId": "74ab64d3-46fc-412c-9cb9-b250bd5e05b7"
      },
      "source": [
        "colSums(is.na(managers)) # 컬럼 별 몇개의 결측치 있는지 확인\n",
        "rowSums(is.na(managers)) # 개체 별 몇개의 결측치 있는지 확인"
      ],
      "execution_count": null,
      "outputs": [
        {
          "output_type": "display_data",
          "data": {
            "text/plain": [
              "Manager    Date Country     Age      q1      q2      q3      q4      q5 \n",
              "      0       0       0       0       0       0       0       1       1 "
            ],
            "text/latex": "\\begin{description*}\n\\item[Manager] 0\n\\item[Date] 0\n\\item[Country] 0\n\\item[Age] 0\n\\item[q1] 0\n\\item[q2] 0\n\\item[q3] 0\n\\item[q4] 1\n\\item[q5] 1\n\\end{description*}\n",
            "text/markdown": "Manager\n:   0Date\n:   0Country\n:   0Age\n:   0q1\n:   0q2\n:   0q3\n:   0q4\n:   1q5\n:   1\n\n",
            "text/html": [
              "<style>\n",
              ".dl-inline {width: auto; margin:0; padding: 0}\n",
              ".dl-inline>dt, .dl-inline>dd {float: none; width: auto; display: inline-block}\n",
              ".dl-inline>dt::after {content: \":\\0020\"; padding-right: .5ex}\n",
              ".dl-inline>dt:not(:first-of-type) {padding-left: .5ex}\n",
              "</style><dl class=dl-inline><dt>Manager</dt><dd>0</dd><dt>Date</dt><dd>0</dd><dt>Country</dt><dd>0</dd><dt>Age</dt><dd>0</dd><dt>q1</dt><dd>0</dd><dt>q2</dt><dd>0</dd><dt>q3</dt><dd>0</dd><dt>q4</dt><dd>1</dd><dt>q5</dt><dd>1</dd></dl>\n"
            ]
          },
          "metadata": {
            "tags": []
          }
        },
        {
          "output_type": "display_data",
          "data": {
            "text/plain": [
              "[1] 0 0 0 2 0"
            ],
            "text/latex": "\\begin{enumerate*}\n\\item 0\n\\item 0\n\\item 0\n\\item 2\n\\item 0\n\\end{enumerate*}\n",
            "text/markdown": "1. 0\n2. 0\n3. 0\n4. 2\n5. 0\n\n\n",
            "text/html": [
              "<style>\n",
              ".list-inline {list-style: none; margin:0; padding: 0}\n",
              ".list-inline>li {display: inline-block}\n",
              ".list-inline>li:not(:last-child)::after {content: \"\\00b7\"; padding: 0 .5ex}\n",
              "</style>\n",
              "<ol class=list-inline><li>0</li><li>0</li><li>0</li><li>2</li><li>0</li></ol>\n"
            ]
          },
          "metadata": {
            "tags": []
          }
        }
      ]
    },
    {
      "cell_type": "code",
      "metadata": {
        "id": "ihL3jL1jn9SQ",
        "colab_type": "code",
        "colab": {
          "base_uri": "https://localhost:8080/",
          "height": 126
        },
        "outputId": "db290e39-5e75-4861-f8ae-128e35298dcb"
      },
      "source": [
        "# 환자별 약물 투여 결과\n",
        "patientID <- c('1','2','3','4')\n",
        "AdmDate <- c('2014-10-15','2014-11-01','2014-10-21','2014-10-28')\n",
        "Age_p <- c(25,34,28,52)\n",
        "Diabetes <- c('Type1','Type2','Type3','Type4')\n",
        "Status <- c('Poor','Improved','Excellent','Poor')\n",
        "\n",
        "Patient <- data.frame(patientID,AdmDate,Age_p,Diabetes,Status)\n",
        "str(Patient)"
      ],
      "execution_count": null,
      "outputs": [
        {
          "output_type": "stream",
          "text": [
            "'data.frame':\t4 obs. of  5 variables:\n",
            " $ patientID: Factor w/ 4 levels \"1\",\"2\",\"3\",\"4\": 1 2 3 4\n",
            " $ AdmDate  : Factor w/ 4 levels \"2014-10-15\",\"2014-10-21\",..: 1 4 2 3\n",
            " $ Age_p    : num  25 34 28 52\n",
            " $ Diabetes : Factor w/ 4 levels \"Type1\",\"Type2\",..: 1 2 3 4\n",
            " $ Status   : Factor w/ 3 levels \"Excellent\",\"Improved\",..: 3 2 1 3\n"
          ],
          "name": "stdout"
        }
      ]
    },
    {
      "cell_type": "code",
      "metadata": {
        "id": "NXklVK00qQC2",
        "colab_type": "code",
        "colab": {
          "base_uri": "https://localhost:8080/",
          "height": 235
        },
        "outputId": "cf3d8acb-3cba-49ca-ee8a-19d5b79f4662"
      },
      "source": [
        "titanic <- read.csv('https://raw.githubusercontent.com/jeong-wooseok/R_stastics/master/datasets/titanic.csv')\n",
        "str(titanic)"
      ],
      "execution_count": null,
      "outputs": [
        {
          "output_type": "stream",
          "text": [
            "'data.frame':\t1310 obs. of  11 variables:\n",
            " $ pclass  : int  1 1 1 1 1 1 1 1 1 1 ...\n",
            " $ survived: int  1 1 0 0 0 1 1 0 1 0 ...\n",
            " $ name    : Factor w/ 1308 levels \"\",\"Abbing, Mr. Anthony\",..: 23 25 26 27 28 32 47 48 52 56 ...\n",
            " $ sex     : Factor w/ 3 levels \"\",\"female\",\"male\": 2 3 2 3 2 3 2 3 2 3 ...\n",
            " $ age     : num  29 0.917 2 30 25 ...\n",
            " $ sibsp   : int  0 1 1 1 1 0 1 0 2 0 ...\n",
            " $ parch   : int  0 2 2 2 2 0 0 0 0 0 ...\n",
            " $ ticket  : Factor w/ 930 levels \"\",\"110152\",\"110413\",..: 189 51 51 51 51 126 94 17 78 827 ...\n",
            " $ fare    : num  211 152 152 152 152 ...\n",
            " $ cabin   : Factor w/ 187 levels \"\",\"A10\",\"A11\",..: 45 81 81 81 81 151 147 17 63 1 ...\n",
            " $ embarked: Factor w/ 4 levels \"\",\"C\",\"Q\",\"S\": 4 4 4 4 4 4 4 4 4 2 ...\n"
          ],
          "name": "stdout"
        }
      ]
    },
    {
      "cell_type": "code",
      "metadata": {
        "id": "5nV2NECp0920",
        "colab_type": "code",
        "colab": {
          "base_uri": "https://localhost:8080/",
          "height": 35
        },
        "outputId": "4ba9b2c4-bacf-420b-b81c-b4a76a9f0313"
      },
      "source": [
        "colSums(is.na(titanic))"
      ],
      "execution_count": null,
      "outputs": [
        {
          "output_type": "display_data",
          "data": {
            "text/plain": [
              "  pclass survived     name      sex      age    sibsp    parch   ticket \n",
              "       1        1        0        0      264        1        1        0 \n",
              "    fare    cabin embarked \n",
              "       2        0        0 "
            ],
            "text/latex": "\\begin{description*}\n\\item[pclass] 1\n\\item[survived] 1\n\\item[name] 0\n\\item[sex] 0\n\\item[age] 264\n\\item[sibsp] 1\n\\item[parch] 1\n\\item[ticket] 0\n\\item[fare] 2\n\\item[cabin] 0\n\\item[embarked] 0\n\\end{description*}\n",
            "text/markdown": "pclass\n:   1survived\n:   1name\n:   0sex\n:   0age\n:   264sibsp\n:   1parch\n:   1ticket\n:   0fare\n:   2cabin\n:   0embarked\n:   0\n\n",
            "text/html": [
              "<style>\n",
              ".dl-inline {width: auto; margin:0; padding: 0}\n",
              ".dl-inline>dt, .dl-inline>dd {float: none; width: auto; display: inline-block}\n",
              ".dl-inline>dt::after {content: \":\\0020\"; padding-right: .5ex}\n",
              ".dl-inline>dt:not(:first-of-type) {padding-left: .5ex}\n",
              "</style><dl class=dl-inline><dt>pclass</dt><dd>1</dd><dt>survived</dt><dd>1</dd><dt>name</dt><dd>0</dd><dt>sex</dt><dd>0</dd><dt>age</dt><dd>264</dd><dt>sibsp</dt><dd>1</dd><dt>parch</dt><dd>1</dd><dt>ticket</dt><dd>0</dd><dt>fare</dt><dd>2</dd><dt>cabin</dt><dd>0</dd><dt>embarked</dt><dd>0</dd></dl>\n"
            ]
          },
          "metadata": {
            "tags": []
          }
        }
      ]
    },
    {
      "cell_type": "code",
      "metadata": {
        "id": "lbeNYNIw03d5",
        "colab_type": "code",
        "colab": {
          "base_uri": "https://localhost:8080/",
          "height": 454
        },
        "outputId": "5bcfb1d5-03f0-4f7b-88c4-7f1c9f52961c"
      },
      "source": [
        "summary(titanic)"
      ],
      "execution_count": null,
      "outputs": [
        {
          "output_type": "display_data",
          "data": {
            "text/plain": [
              "     pclass         survived                                name     \n",
              " Min.   :1.000   Min.   :0.000   Connolly, Miss. Kate         :   2  \n",
              " 1st Qu.:2.000   1st Qu.:0.000   Kelly, Mr. James             :   2  \n",
              " Median :3.000   Median :0.000                                :   1  \n",
              " Mean   :2.295   Mean   :0.382   Abbing, Mr. Anthony          :   1  \n",
              " 3rd Qu.:3.000   3rd Qu.:1.000   Abbott, Master. Eugene Joseph:   1  \n",
              " Max.   :3.000   Max.   :1.000   Abbott, Mr. Rossmore Edward  :   1  \n",
              " NA's   :1       NA's   :1       (Other)                      :1302  \n",
              "     sex           age              sibsp            parch      \n",
              "       :  1   Min.   : 0.1667   Min.   :0.0000   Min.   :0.000  \n",
              " female:466   1st Qu.:21.0000   1st Qu.:0.0000   1st Qu.:0.000  \n",
              " male  :843   Median :28.0000   Median :0.0000   Median :0.000  \n",
              "              Mean   :29.8811   Mean   :0.4989   Mean   :0.385  \n",
              "              3rd Qu.:39.0000   3rd Qu.:1.0000   3rd Qu.:0.000  \n",
              "              Max.   :80.0000   Max.   :8.0000   Max.   :9.000  \n",
              "              NA's   :264       NA's   :1        NA's   :1      \n",
              "      ticket          fare                     cabin      embarked\n",
              " CA. 2343:  11   Min.   :  0.000                  :1015    :  3   \n",
              " 1601    :   8   1st Qu.:  7.896   C23 C25 C27    :   6   C:270   \n",
              " CA 2144 :   8   Median : 14.454   B57 B59 B63 B66:   5   Q:123   \n",
              " 3101295 :   7   Mean   : 33.295   G6             :   5   S:914   \n",
              " 347077  :   7   3rd Qu.: 31.275   B96 B98        :   4           \n",
              " 347082  :   7   Max.   :512.329   C22 C26        :   4           \n",
              " (Other) :1262   NA's   :2         (Other)        : 271           "
            ]
          },
          "metadata": {
            "tags": []
          }
        }
      ]
    },
    {
      "cell_type": "code",
      "metadata": {
        "id": "2PnXUpUK1LMz",
        "colab_type": "code",
        "colab": {
          "base_uri": "https://localhost:8080/",
          "height": 72
        },
        "outputId": "88d3d6c3-ccf5-40fd-8aa1-21ec79978586"
      },
      "source": [
        "# 승선객 중 사망/생존 현황\n",
        "table(titanic$survived)"
      ],
      "execution_count": null,
      "outputs": [
        {
          "output_type": "display_data",
          "data": {
            "text/plain": [
              "\n",
              "  0   1 \n",
              "809 500 "
            ]
          },
          "metadata": {
            "tags": []
          }
        }
      ]
    },
    {
      "cell_type": "code",
      "metadata": {
        "id": "8nNeGUwx1e6m",
        "colab_type": "code",
        "colab": {
          "base_uri": "https://localhost:8080/",
          "height": 437
        },
        "outputId": "0b6b95a1-d2fb-483c-cca6-49323ccce02a"
      },
      "source": [
        "# 승선객중 성별 현황 시각화\n",
        "plot(titanic$sex)"
      ],
      "execution_count": null,
      "outputs": [
        {
          "output_type": "display_data",
          "data": {
            "image/png": "[encoded data removed]",
            "text/plain": [
              "plot without title"
            ]
          },
          "metadata": {
            "tags": [],
            "image/png": {
              "width": 420,
              "height": 420
            }
          }
        }
      ]
    },
    {
      "cell_type": "code",
      "metadata": {
        "id": "vybLsBj82ALi",
        "colab_type": "code",
        "colab": {
          "base_uri": "https://localhost:8080/",
          "height": 437
        },
        "outputId": "29278d3d-f815-4efb-ddb5-fde686f3e13d"
      },
      "source": [
        "# 승선객 중 승선위치(embarked) 현황 시각화\n",
        "plot(titanic$embarked)"
      ],
      "execution_count": null,
      "outputs": [
        {
          "output_type": "display_data",
          "data": {
            "image/png": "[encoded data removed]",
            "text/plain": [
              "plot without title"
            ]
          },
          "metadata": {
            "tags": [],
            "image/png": {
              "width": 420,
              "height": 420
            }
          }
        }
      ]
    },
    {
      "cell_type": "code",
      "metadata": {
        "id": "ivhhc5DR2VRr",
        "colab_type": "code",
        "colab": {
          "base_uri": "https://localhost:8080/",
          "height": 437
        },
        "outputId": "394bc630-112c-43c4-cb58-7c8e57d3d020"
      },
      "source": [
        "# 승선객 중 나이 현황 시각화\n",
        "age = table(titanic$age)\n",
        "hist(age,col = rainbow(10))"
      ],
      "execution_count": null,
      "outputs": [
        {
          "output_type": "display_data",
          "data": {
            "image/png": "[encoded data removed]",
            "text/plain": [
              "Plot with title “Histogram of age”"
            ]
          },
          "metadata": {
            "tags": [],
            "image/png": {
              "width": 420,
              "height": 420
            }
          }
        }
      ]
    },
    {
      "cell_type": "code",
      "metadata": {
        "id": "CSjBBjVrH2oE",
        "colab_type": "code",
        "colab": {
          "base_uri": "https://localhost:8080/",
          "height": 363
        },
        "outputId": "fc5935a3-c5ef-4bc4-ca8d-6195f03a51c6"
      },
      "source": [
        "table(titanic$age)"
      ],
      "execution_count": null,
      "outputs": [
        {
          "output_type": "display_data",
          "data": {
            "text/plain": [
              "\n",
              "0.1667 0.3333 0.4167 0.6667   0.75 0.8333 0.9167      1      2      3      4 \n",
              "     1      1      1      1      3      3      2     10     12      7     10 \n",
              "     5      6      7      8      9     10     11   11.5     12     13     14 \n",
              "     5      6      4      6     10      4      4      1      3      5      8 \n",
              "  14.5     15     16     17     18   18.5     19     20   20.5     21     22 \n",
              "     2      6     19     20     39      3     29     23      1     41     43 \n",
              "  22.5     23   23.5     24   24.5     25     26   26.5     27     28   28.5 \n",
              "     1     26      1     47      1     34     30      1     30     32      3 \n",
              "    29     30   30.5     31     32   32.5     33     34   34.5     35     36 \n",
              "    30     40      2     23     24      4     21     16      2     23     31 \n",
              "  36.5     37     38   38.5     39     40   40.5     41     42     43     44 \n",
              "     2      9     14      1     20     18      3     11     18      9     10 \n",
              "    45   45.5     46     47     48     49     50     51     52     53     54 \n",
              "    21      2      6     14     14      9     15      8      6      4     10 \n",
              "    55   55.5     56     57     58     59     60   60.5     61     62     63 \n",
              "     8      1      4      5      6      3      7      1      5      5      4 \n",
              "    64     65     66     67     70   70.5     71     74     76     80 \n",
              "     5      3      1      1      2      1      2      1      1      1 "
            ]
          },
          "metadata": {
            "tags": []
          }
        }
      ]
    },
    {
      "cell_type": "code",
      "metadata": {
        "id": "mk_T0kRgH8zR",
        "colab_type": "code",
        "colab": {
          "base_uri": "https://localhost:8080/",
          "height": 173
        },
        "outputId": "cf59f244-5727-4041-852e-898b9cf4f5de"
      },
      "source": [
        "titanic$age"
      ],
      "execution_count": null,
      "outputs": [
        {
          "output_type": "display_data",
          "data": {
            "text/plain": [
              "   [1] 29.0000  0.9167  2.0000 30.0000 25.0000 48.0000 63.0000 39.0000 53.0000\n",
              "  [10] 71.0000 47.0000 18.0000 24.0000 26.0000 80.0000      NA 24.0000 50.0000\n",
              "  [19] 32.0000 36.0000 37.0000 47.0000 26.0000 42.0000 29.0000 25.0000 25.0000\n",
              "  [28] 19.0000 35.0000 28.0000 45.0000 40.0000 30.0000 58.0000 42.0000 45.0000\n",
              "  [37] 22.0000      NA 41.0000 48.0000      NA 44.0000 59.0000 60.0000 41.0000\n",
              "  [46] 45.0000      NA 42.0000 53.0000 36.0000 58.0000 33.0000 28.0000 17.0000\n",
              "  [55] 11.0000 14.0000 36.0000 36.0000 49.0000      NA 36.0000 76.0000 46.0000\n",
              "  [64] 47.0000 27.0000 33.0000 36.0000 30.0000 45.0000      NA      NA 27.0000\n",
              "  [73] 26.0000 22.0000      NA 47.0000 39.0000 37.0000 64.0000 55.0000      NA\n",
              "  [82] 70.0000 36.0000 64.0000 39.0000 38.0000 51.0000 27.0000 33.0000 31.0000\n",
              "  [91] 27.0000 31.0000 17.0000 53.0000  4.0000 54.0000 50.0000 27.0000 48.0000\n",
              " [100] 48.0000 49.0000 39.0000 23.0000 38.0000 54.0000 36.0000      NA      NA\n",
              " [109]      NA 36.0000 30.0000 24.0000 28.0000 23.0000 19.0000 64.0000 60.0000\n",
              " [118] 30.0000      NA 50.0000 43.0000      NA 22.0000 60.0000 48.0000      NA\n",
              " [127] 37.0000 35.0000 47.0000 35.0000 22.0000 45.0000 24.0000 49.0000      NA\n",
              " [136] 71.0000 53.0000 19.0000 38.0000 58.0000 23.0000 45.0000 46.0000 25.0000\n",
              " [145] 25.0000 48.0000 49.0000      NA 45.0000 35.0000 40.0000 27.0000      NA\n",
              " [154] 24.0000 55.0000 52.0000 42.0000      NA 55.0000 16.0000 44.0000 51.0000\n",
              " [163] 42.0000 35.0000 35.0000 38.0000      NA 35.0000 38.0000 50.0000 49.0000\n",
              " [172] 46.0000 50.0000 32.5000 58.0000 41.0000      NA 42.0000 45.0000      NA\n",
              " [181] 39.0000 49.0000 30.0000 35.0000      NA 42.0000 55.0000 16.0000 51.0000\n",
              " [190] 29.0000 21.0000 30.0000 58.0000 15.0000 30.0000 16.0000      NA 19.0000\n",
              " [199] 18.0000 24.0000 46.0000 54.0000 36.0000 28.0000      NA 65.0000 44.0000\n",
              " [208] 33.0000 37.0000 30.0000 55.0000 47.0000 37.0000 31.0000 23.0000 58.0000\n",
              " [217] 19.0000 64.0000 39.0000      NA 22.0000 65.0000 28.5000      NA 45.5000\n",
              " [226] 23.0000 29.0000 22.0000 18.0000 17.0000 30.0000 52.0000 47.0000 56.0000\n",
              " [235] 38.0000      NA 22.0000      NA 43.0000 31.0000 45.0000      NA 33.0000\n",
              " [244] 46.0000 36.0000 33.0000 55.0000 54.0000 33.0000 13.0000 18.0000 21.0000\n",
              " [253] 61.0000 48.0000      NA 24.0000      NA 35.0000 30.0000 34.0000 40.0000\n",
              " [262] 35.0000 50.0000 39.0000 56.0000 28.0000 56.0000 56.0000 24.0000      NA\n",
              " [271] 18.0000 24.0000 23.0000  6.0000 45.0000 40.0000 57.0000      NA 32.0000\n",
              " [280] 62.0000 54.0000 43.0000 52.0000      NA 62.0000 67.0000 63.0000 61.0000\n",
              " [289] 48.0000 18.0000 52.0000 39.0000 48.0000      NA 49.0000 17.0000 39.0000\n",
              " [298]      NA 31.0000 40.0000 61.0000 47.0000 35.0000 64.0000 60.0000 60.0000\n",
              " [307] 54.0000 21.0000 55.0000 31.0000 57.0000 45.0000 50.0000 27.0000 50.0000\n",
              " [316] 21.0000 51.0000 21.0000      NA 31.0000      NA 62.0000 36.0000 30.0000\n",
              " [325] 28.0000 30.0000 18.0000 25.0000 34.0000 36.0000 57.0000 18.0000 23.0000\n",
              " [334] 36.0000 28.0000 51.0000 32.0000 19.0000 28.0000  1.0000  4.0000 12.0000\n",
              " [343] 36.0000 34.0000 19.0000 23.0000 26.0000 42.0000 27.0000 24.0000 15.0000\n",
              " [352] 60.0000 40.0000 20.0000 25.0000 36.0000 25.0000 42.0000 42.0000  0.8333\n",
              " [361] 26.0000 22.0000 35.0000      NA 19.0000 44.0000 54.0000 52.0000 37.0000\n",
              " [370] 29.0000 25.0000 45.0000 29.0000 28.0000 29.0000 28.0000 24.0000  8.0000\n",
              " [379] 31.0000 31.0000 22.0000 30.0000      NA 21.0000      NA  8.0000 18.0000\n",
              " [388] 48.0000 28.0000 32.0000 17.0000 29.0000 24.0000 25.0000 18.0000 18.0000\n",
              " [397] 34.0000 54.0000  8.0000 42.0000 34.0000 27.0000 30.0000 23.0000 21.0000\n",
              " [406] 18.0000 40.0000 29.0000 18.0000 36.0000      NA 38.0000 35.0000 38.0000\n",
              " [415] 34.0000 34.0000 16.0000 26.0000 47.0000 21.0000 21.0000 24.0000 24.0000\n",
              " [424] 34.0000 30.0000 52.0000 30.0000  0.6667 24.0000 44.0000  6.0000 28.0000\n",
              " [433] 62.0000 30.0000  7.0000 43.0000 45.0000 24.0000 24.0000 49.0000 48.0000\n",
              " [442] 55.0000 24.0000 32.0000 21.0000 18.0000 20.0000 23.0000 36.0000 54.0000\n",
              " [451] 50.0000 44.0000 29.0000 21.0000 42.0000 63.0000 60.0000 33.0000 17.0000\n",
              " [460] 42.0000 24.0000 47.0000 24.0000 22.0000 32.0000 23.0000 34.0000 24.0000\n",
              " [469] 22.0000      NA 35.0000 45.0000 57.0000      NA 31.0000 26.0000 30.0000\n",
              " [478]      NA  1.0000  3.0000 25.0000 22.0000 17.0000      NA 34.0000 36.0000\n",
              " [487] 24.0000 61.0000 50.0000 42.0000 57.0000      NA  1.0000 31.0000 24.0000\n",
              " [496]      NA 30.0000 40.0000 32.0000 30.0000 46.0000 13.0000 41.0000 19.0000\n",
              " [505] 39.0000 48.0000 70.0000 27.0000 54.0000 39.0000 16.0000 62.0000 32.5000\n",
              " [514] 14.0000  2.0000  3.0000 36.5000 26.0000 19.0000 28.0000 20.0000 29.0000\n",
              " [523] 39.0000 22.0000      NA 23.0000 29.0000 28.0000      NA 50.0000 19.0000\n",
              " [532]      NA 41.0000 21.0000 19.0000 43.0000 32.0000 34.0000 30.0000 27.0000\n",
              " [541]  2.0000  8.0000 33.0000 36.0000 34.0000 30.0000 28.0000 23.0000  0.8333\n",
              " [550]  3.0000 24.0000 50.0000 19.0000 21.0000 26.0000 25.0000 27.0000 25.0000\n",
              " [559] 18.0000 20.0000 30.0000 59.0000 30.0000 35.0000 40.0000 25.0000 41.0000\n",
              " [568] 25.0000 18.5000 14.0000 50.0000 23.0000 28.0000 27.0000 29.0000 27.0000\n",
              " [577] 40.0000 31.0000 30.0000 23.0000 31.0000      NA 12.0000 40.0000 32.5000\n",
              " [586] 27.0000 29.0000  2.0000  4.0000 29.0000  0.9167  5.0000 36.0000 33.0000\n",
              " [595] 66.0000      NA 31.0000      NA 26.0000 24.0000 42.0000 13.0000 16.0000\n",
              " [604] 35.0000 16.0000 25.0000 20.0000 18.0000 30.0000 26.0000 40.0000  0.8333\n",
              " [613] 18.0000 26.0000 26.0000 20.0000 24.0000 25.0000 35.0000 18.0000 32.0000\n",
              " [622] 19.0000  4.0000  6.0000  2.0000 17.0000 38.0000  9.0000 11.0000 39.0000\n",
              " [631] 27.0000 26.0000 39.0000 20.0000 26.0000 25.0000 18.0000 24.0000 35.0000\n",
              " [640]  5.0000  9.0000  3.0000 13.0000  5.0000 40.0000 23.0000 38.0000 45.0000\n",
              " [649] 21.0000 23.0000 17.0000 30.0000 23.0000 13.0000 20.0000 32.0000 33.0000\n",
              " [658]  0.7500  0.7500  5.0000 24.0000 18.0000 40.0000 26.0000 20.0000 18.0000\n",
              " [667] 45.0000 27.0000 22.0000 19.0000 26.0000 22.0000      NA 20.0000 32.0000\n",
              " [676] 21.0000 18.0000 26.0000  6.0000  9.0000      NA      NA      NA 40.0000\n",
              " [685] 32.0000 21.0000 22.0000 20.0000 29.0000 22.0000 22.0000 35.0000 18.5000\n",
              " [694] 21.0000 19.0000 18.0000 21.0000 30.0000 18.0000 38.0000 17.0000 17.0000\n",
              " [703] 21.0000 21.0000 21.0000      NA      NA 28.0000 24.0000 16.0000 37.0000\n",
              " [712] 28.0000 24.0000 21.0000 32.0000 29.0000 26.0000 18.0000 20.0000 18.0000\n",
              " [721] 24.0000 36.0000 24.0000 31.0000 31.0000 22.0000 30.0000 70.5000 43.0000\n",
              " [730] 35.0000 27.0000 19.0000 30.0000  9.0000  3.0000 36.0000 59.0000 19.0000\n",
              " [739] 17.0000 44.0000 17.0000 22.5000 45.0000 22.0000 19.0000 30.0000 29.0000\n",
              " [748]  0.3333 34.0000 28.0000 27.0000 25.0000 24.0000 22.0000 21.0000 17.0000\n",
              " [757]      NA      NA 36.5000 36.0000 30.0000 16.0000  1.0000  0.1667 26.0000\n",
              " [766] 33.0000 25.0000      NA      NA 22.0000 36.0000 19.0000 17.0000 42.0000\n",
              " [775] 43.0000      NA 32.0000 19.0000 30.0000 24.0000 23.0000 33.0000 65.0000\n",
              " [784] 24.0000 23.0000 22.0000 18.0000 16.0000 45.0000      NA 39.0000 17.0000\n",
              " [793] 15.0000 47.0000  5.0000      NA 40.5000 40.5000      NA 18.0000      NA\n",
              " [802]      NA      NA 26.0000      NA      NA 21.0000  9.0000      NA 18.0000\n",
              " [811] 16.0000 48.0000      NA      NA 25.0000      NA      NA 22.0000 16.0000\n",
              " [820]      NA  9.0000 33.0000 41.0000 31.0000 38.0000  9.0000  1.0000 11.0000\n",
              " [829] 10.0000 16.0000 14.0000 40.0000 43.0000 51.0000 32.0000      NA 20.0000\n",
              " [838] 37.0000 28.0000 19.0000 24.0000 17.0000      NA      NA 28.0000 24.0000\n",
              " [847] 20.0000 23.5000 41.0000 26.0000 21.0000 45.0000      NA 25.0000      NA\n",
              " [856] 11.0000      NA 27.0000      NA 18.0000 26.0000 23.0000 22.0000 28.0000\n",
              " [865] 28.0000      NA  2.0000 22.0000 43.0000 28.0000 27.0000      NA      NA\n",
              " [874] 42.0000      NA 30.0000      NA 27.0000 25.0000      NA 29.0000 21.0000\n",
              " [883]      NA 20.0000 48.0000 17.0000      NA      NA 34.0000 26.0000 22.0000\n",
              " [892] 33.0000 31.0000 29.0000  4.0000  1.0000 49.0000 33.0000 19.0000 27.0000\n",
              " [901]      NA      NA      NA      NA 23.0000 32.0000 27.0000 20.0000 21.0000\n",
              " [910] 32.0000 17.0000 21.0000 30.0000 21.0000 33.0000 22.0000  4.0000 39.0000\n",
              " [919]      NA 18.5000      NA      NA      NA      NA 34.5000 44.0000      NA\n",
              " [928]      NA      NA      NA      NA      NA 22.0000 26.0000  4.0000 29.0000\n",
              " [937] 26.0000  1.0000 18.0000 36.0000      NA 25.0000      NA 37.0000      NA\n",
              " [946]      NA      NA 22.0000      NA 26.0000 29.0000 29.0000 22.0000 22.0000\n",
              " [955]      NA      NA      NA      NA      NA 32.0000 34.5000      NA      NA\n",
              " [964] 36.0000 39.0000 24.0000 25.0000 45.0000 36.0000 30.0000 20.0000      NA\n",
              " [973] 28.0000      NA 30.0000 26.0000      NA 20.5000 27.0000 51.0000 23.0000\n",
              " [982] 32.0000      NA      NA      NA 24.0000 22.0000      NA      NA      NA\n",
              " [991] 29.0000      NA 30.5000      NA      NA 35.0000 33.0000      NA      NA\n",
              "[1000]      NA      NA      NA      NA      NA      NA      NA      NA 15.0000\n",
              "[1009] 35.0000      NA 24.0000 19.0000      NA      NA      NA 55.5000      NA\n",
              "[1018] 21.0000      NA 24.0000 21.0000 28.0000      NA      NA 25.0000  6.0000\n",
              "[1027] 27.0000      NA      NA      NA      NA 34.0000      NA      NA      NA\n",
              "[1036]      NA      NA      NA      NA      NA 24.0000      NA      NA      NA\n",
              "[1045]      NA 18.0000 22.0000 15.0000  1.0000 20.0000 19.0000 33.0000      NA\n",
              "[1054]      NA      NA      NA 12.0000 14.0000 29.0000 28.0000 18.0000 26.0000\n",
              "[1063] 21.0000 41.0000 39.0000 21.0000 28.5000 22.0000 61.0000      NA      NA\n",
              "[1072]      NA      NA      NA      NA 23.0000      NA      NA      NA 22.0000\n",
              "[1081]      NA      NA  9.0000 28.0000 42.0000      NA 31.0000 28.0000 32.0000\n",
              "[1090] 20.0000 23.0000 20.0000 20.0000 16.0000 31.0000      NA  2.0000  6.0000\n",
              "[1099]  3.0000  8.0000 29.0000  1.0000  7.0000  2.0000 16.0000 14.0000 41.0000\n",
              "[1108] 21.0000 19.0000      NA 32.0000  0.7500  3.0000 26.0000      NA      NA\n",
              "[1117]      NA 21.0000 25.0000 22.0000 25.0000      NA      NA      NA      NA\n",
              "[1126] 24.0000 28.0000 19.0000      NA 25.0000 18.0000 32.0000      NA 17.0000\n",
              "[1135] 24.0000      NA      NA      NA      NA 38.0000 21.0000 10.0000  4.0000\n",
              "[1144]  7.0000  2.0000  8.0000 39.0000 22.0000 35.0000      NA      NA      NA\n",
              "[1153] 50.0000 47.0000      NA      NA  2.0000 18.0000 41.0000      NA 50.0000\n",
              "[1162] 16.0000      NA      NA      NA 25.0000      NA      NA      NA 38.5000\n",
              "[1171]      NA 14.5000      NA      NA      NA      NA      NA      NA      NA\n",
              "[1180]      NA      NA 24.0000 21.0000 39.0000      NA      NA      NA  1.0000\n",
              "[1189] 24.0000  4.0000 25.0000 20.0000 24.5000      NA      NA      NA 29.0000\n",
              "[1198]      NA      NA      NA      NA 22.0000      NA 40.0000 21.0000 18.0000\n",
              "[1207]  4.0000 10.0000  9.0000  2.0000 40.0000 45.0000      NA      NA      NA\n",
              "[1216]      NA      NA 19.0000 30.0000      NA 32.0000      NA 33.0000 23.0000\n",
              "[1225] 21.0000 60.5000 19.0000 22.0000 31.0000 27.0000  2.0000 29.0000 16.0000\n",
              "[1234] 44.0000 25.0000 74.0000 14.0000 24.0000 25.0000 34.0000  0.4167      NA\n",
              "[1243]      NA      NA 16.0000      NA      NA      NA 32.0000      NA      NA\n",
              "[1252] 30.5000 44.0000      NA 25.0000      NA  7.0000  9.0000 29.0000 36.0000\n",
              "[1261] 18.0000 63.0000      NA 11.5000 40.5000 10.0000 36.0000 30.0000      NA\n",
              "[1270] 33.0000 28.0000 28.0000 47.0000 18.0000 31.0000 16.0000 31.0000 22.0000\n",
              "[1279] 20.0000 14.0000 22.0000 22.0000      NA      NA      NA 32.5000 38.0000\n",
              "[1288] 51.0000 18.0000 21.0000 47.0000      NA      NA      NA 28.5000 21.0000\n",
              "[1297] 27.0000      NA 36.0000 27.0000 15.0000 45.5000      NA      NA 14.5000\n",
              "[1306]      NA 26.5000 27.0000 29.0000      NA"
            ],
            "text/latex": "\\begin{enumerate*}\n\\item 29\n\\item 0.9167\n\\item 2\n\\item 30\n\\item 25\n\\item 48\n\\item 63\n\\item 39\n\\item 53\n\\item 71\n\\item 47\n\\item 18\n\\item 24\n\\item 26\n\\item 80\n\\item <NA>\n\\item 24\n\\item 50\n\\item 32\n\\item 36\n\\item 37\n\\item 47\n\\item 26\n\\item 42\n\\item 29\n\\item 25\n\\item 25\n\\item 19\n\\item 35\n\\item 28\n\\item 45\n\\item 40\n\\item 30\n\\item 58\n\\item 42\n\\item 45\n\\item 22\n\\item <NA>\n\\item 41\n\\item 48\n\\item <NA>\n\\item 44\n\\item 59\n\\item 60\n\\item 41\n\\item 45\n\\item <NA>\n\\item 42\n\\item 53\n\\item 36\n\\item 58\n\\item 33\n\\item 28\n\\item 17\n\\item 11\n\\item 14\n\\item 36\n\\item 36\n\\item 49\n\\item <NA>\n\\item 36\n\\item 76\n\\item 46\n\\item 47\n\\item 27\n\\item 33\n\\item 36\n\\item 30\n\\item 45\n\\item <NA>\n\\item <NA>\n\\item 27\n\\item 26\n\\item 22\n\\item <NA>\n\\item 47\n\\item 39\n\\item 37\n\\item 64\n\\item 55\n\\item <NA>\n\\item 70\n\\item 36\n\\item 64\n\\item 39\n\\item 38\n\\item 51\n\\item 27\n\\item 33\n\\item 31\n\\item 27\n\\item 31\n\\item 17\n\\item 53\n\\item 4\n\\item 54\n\\item 50\n\\item 27\n\\item 48\n\\item 48\n\\item 49\n\\item 39\n\\item 23\n\\item 38\n\\item 54\n\\item 36\n\\item <NA>\n\\item <NA>\n\\item <NA>\n\\item 36\n\\item 30\n\\item 24\n\\item 28\n\\item 23\n\\item 19\n\\item 64\n\\item 60\n\\item 30\n\\item <NA>\n\\item 50\n\\item 43\n\\item <NA>\n\\item 22\n\\item 60\n\\item 48\n\\item <NA>\n\\item 37\n\\item 35\n\\item 47\n\\item 35\n\\item 22\n\\item 45\n\\item 24\n\\item 49\n\\item <NA>\n\\item 71\n\\item 53\n\\item 19\n\\item 38\n\\item 58\n\\item 23\n\\item 45\n\\item 46\n\\item 25\n\\item 25\n\\item 48\n\\item 49\n\\item <NA>\n\\item 45\n\\item 35\n\\item 40\n\\item 27\n\\item <NA>\n\\item 24\n\\item 55\n\\item 52\n\\item 42\n\\item <NA>\n\\item 55\n\\item 16\n\\item 44\n\\item 51\n\\item 42\n\\item 35\n\\item 35\n\\item 38\n\\item <NA>\n\\item 35\n\\item 38\n\\item 50\n\\item 49\n\\item 46\n\\item 50\n\\item 32.5\n\\item 58\n\\item 41\n\\item <NA>\n\\item 42\n\\item 45\n\\item <NA>\n\\item 39\n\\item 49\n\\item 30\n\\item 35\n\\item <NA>\n\\item 42\n\\item 55\n\\item 16\n\\item 51\n\\item 29\n\\item 21\n\\item 30\n\\item 58\n\\item 15\n\\item 30\n\\item 16\n\\item <NA>\n\\item 19\n\\item 18\n\\item 24\n\\item ⋯\n\\item 32\n\\item 0.75\n\\item 3\n\\item 26\n\\item <NA>\n\\item <NA>\n\\item <NA>\n\\item 21\n\\item 25\n\\item 22\n\\item 25\n\\item <NA>\n\\item <NA>\n\\item <NA>\n\\item <NA>\n\\item 24\n\\item 28\n\\item 19\n\\item <NA>\n\\item 25\n\\item 18\n\\item 32\n\\item <NA>\n\\item 17\n\\item 24\n\\item <NA>\n\\item <NA>\n\\item <NA>\n\\item <NA>\n\\item 38\n\\item 21\n\\item 10\n\\item 4\n\\item 7\n\\item 2\n\\item 8\n\\item 39\n\\item 22\n\\item 35\n\\item <NA>\n\\item <NA>\n\\item <NA>\n\\item 50\n\\item 47\n\\item <NA>\n\\item <NA>\n\\item 2\n\\item 18\n\\item 41\n\\item <NA>\n\\item 50\n\\item 16\n\\item <NA>\n\\item <NA>\n\\item <NA>\n\\item 25\n\\item <NA>\n\\item <NA>\n\\item <NA>\n\\item 38.5\n\\item <NA>\n\\item 14.5\n\\item <NA>\n\\item <NA>\n\\item <NA>\n\\item <NA>\n\\item <NA>\n\\item <NA>\n\\item <NA>\n\\item <NA>\n\\item <NA>\n\\item 24\n\\item 21\n\\item 39\n\\item <NA>\n\\item <NA>\n\\item <NA>\n\\item 1\n\\item 24\n\\item 4\n\\item 25\n\\item 20\n\\item 24.5\n\\item <NA>\n\\item <NA>\n\\item <NA>\n\\item 29\n\\item <NA>\n\\item <NA>\n\\item <NA>\n\\item <NA>\n\\item 22\n\\item <NA>\n\\item 40\n\\item 21\n\\item 18\n\\item 4\n\\item 10\n\\item 9\n\\item 2\n\\item 40\n\\item 45\n\\item <NA>\n\\item <NA>\n\\item <NA>\n\\item <NA>\n\\item <NA>\n\\item 19\n\\item 30\n\\item <NA>\n\\item 32\n\\item <NA>\n\\item 33\n\\item 23\n\\item 21\n\\item 60.5\n\\item 19\n\\item 22\n\\item 31\n\\item 27\n\\item 2\n\\item 29\n\\item 16\n\\item 44\n\\item 25\n\\item 74\n\\item 14\n\\item 24\n\\item 25\n\\item 34\n\\item 0.4167\n\\item <NA>\n\\item <NA>\n\\item <NA>\n\\item 16\n\\item <NA>\n\\item <NA>\n\\item <NA>\n\\item 32\n\\item <NA>\n\\item <NA>\n\\item 30.5\n\\item 44\n\\item <NA>\n\\item 25\n\\item <NA>\n\\item 7\n\\item 9\n\\item 29\n\\item 36\n\\item 18\n\\item 63\n\\item <NA>\n\\item 11.5\n\\item 40.5\n\\item 10\n\\item 36\n\\item 30\n\\item <NA>\n\\item 33\n\\item 28\n\\item 28\n\\item 47\n\\item 18\n\\item 31\n\\item 16\n\\item 31\n\\item 22\n\\item 20\n\\item 14\n\\item 22\n\\item 22\n\\item <NA>\n\\item <NA>\n\\item <NA>\n\\item 32.5\n\\item 38\n\\item 51\n\\item 18\n\\item 21\n\\item 47\n\\item <NA>\n\\item <NA>\n\\item <NA>\n\\item 28.5\n\\item 21\n\\item 27\n\\item <NA>\n\\item 36\n\\item 27\n\\item 15\n\\item 45.5\n\\item <NA>\n\\item <NA>\n\\item 14.5\n\\item <NA>\n\\item 26.5\n\\item 27\n\\item 29\n\\item <NA>\n\\end{enumerate*}\n",
            "text/markdown": "1. 29\n2. 0.9167\n3. 2\n4. 30\n5. 25\n6. 48\n7. 63\n8. 39\n9. 53\n10. 71\n11. 47\n12. 18\n13. 24\n14. 26\n15. 80\n16. &lt;NA&gt;\n17. 24\n18. 50\n19. 32\n20. 36\n21. 37\n22. 47\n23. 26\n24. 42\n25. 29\n26. 25\n27. 25\n28. 19\n29. 35\n30. 28\n31. 45\n32. 40\n33. 30\n34. 58\n35. 42\n36. 45\n37. 22\n38. &lt;NA&gt;\n39. 41\n40. 48\n41. &lt;NA&gt;\n42. 44\n43. 59\n44. 60\n45. 41\n46. 45\n47. &lt;NA&gt;\n48. 42\n49. 53\n50. 36\n51. 58\n52. 33\n53. 28\n54. 17\n55. 11\n56. 14\n57. 36\n58. 36\n59. 49\n60. &lt;NA&gt;\n61. 36\n62. 76\n63. 46\n64. 47\n65. 27\n66. 33\n67. 36\n68. 30\n69. 45\n70. &lt;NA&gt;\n71. &lt;NA&gt;\n72. 27\n73. 26\n74. 22\n75. &lt;NA&gt;\n76. 47\n77. 39\n78. 37\n79. 64\n80. 55\n81. &lt;NA&gt;\n82. 70\n83. 36\n84. 64\n85. 39\n86. 38\n87. 51\n88. 27\n89. 33\n90. 31\n91. 27\n92. 31\n93. 17\n94. 53\n95. 4\n96. 54\n97. 50\n98. 27\n99. 48\n100. 48\n101. 49\n102. 39\n103. 23\n104. 38\n105. 54\n106. 36\n107. &lt;NA&gt;\n108. &lt;NA&gt;\n109. &lt;NA&gt;\n110. 36\n111. 30\n112. 24\n113. 28\n114. 23\n115. 19\n116. 64\n117. 60\n118. 30\n119. &lt;NA&gt;\n120. 50\n121. 43\n122. &lt;NA&gt;\n123. 22\n124. 60\n125. 48\n126. &lt;NA&gt;\n127. 37\n128. 35\n129. 47\n130. 35\n131. 22\n132. 45\n133. 24\n134. 49\n135. &lt;NA&gt;\n136. 71\n137. 53\n138. 19\n139. 38\n140. 58\n141. 23\n142. 45\n143. 46\n144. 25\n145. 25\n146. 48\n147. 49\n148. &lt;NA&gt;\n149. 45\n150. 35\n151. 40\n152. 27\n153. &lt;NA&gt;\n154. 24\n155. 55\n156. 52\n157. 42\n158. &lt;NA&gt;\n159. 55\n160. 16\n161. 44\n162. 51\n163. 42\n164. 35\n165. 35\n166. 38\n167. &lt;NA&gt;\n168. 35\n169. 38\n170. 50\n171. 49\n172. 46\n173. 50\n174. 32.5\n175. 58\n176. 41\n177. &lt;NA&gt;\n178. 42\n179. 45\n180. &lt;NA&gt;\n181. 39\n182. 49\n183. 30\n184. 35\n185. &lt;NA&gt;\n186. 42\n187. 55\n188. 16\n189. 51\n190. 29\n191. 21\n192. 30\n193. 58\n194. 15\n195. 30\n196. 16\n197. &lt;NA&gt;\n198. 19\n199. 18\n200. 24\n201. ⋯\n202. 32\n203. 0.75\n204. 3\n205. 26\n206. &lt;NA&gt;\n207. &lt;NA&gt;\n208. &lt;NA&gt;\n209. 21\n210. 25\n211. 22\n212. 25\n213. &lt;NA&gt;\n214. &lt;NA&gt;\n215. &lt;NA&gt;\n216. &lt;NA&gt;\n217. 24\n218. 28\n219. 19\n220. &lt;NA&gt;\n221. 25\n222. 18\n223. 32\n224. &lt;NA&gt;\n225. 17\n226. 24\n227. &lt;NA&gt;\n228. &lt;NA&gt;\n229. &lt;NA&gt;\n230. &lt;NA&gt;\n231. 38\n232. 21\n233. 10\n234. 4\n235. 7\n236. 2\n237. 8\n238. 39\n239. 22\n240. 35\n241. &lt;NA&gt;\n242. &lt;NA&gt;\n243. &lt;NA&gt;\n244. 50\n245. 47\n246. &lt;NA&gt;\n247. &lt;NA&gt;\n248. 2\n249. 18\n250. 41\n251. &lt;NA&gt;\n252. 50\n253. 16\n254. &lt;NA&gt;\n255. &lt;NA&gt;\n256. &lt;NA&gt;\n257. 25\n258. &lt;NA&gt;\n259. &lt;NA&gt;\n260. &lt;NA&gt;\n261. 38.5\n262. &lt;NA&gt;\n263. 14.5\n264. &lt;NA&gt;\n265. &lt;NA&gt;\n266. &lt;NA&gt;\n267. &lt;NA&gt;\n268. &lt;NA&gt;\n269. &lt;NA&gt;\n270. &lt;NA&gt;\n271. &lt;NA&gt;\n272. &lt;NA&gt;\n273. 24\n274. 21\n275. 39\n276. &lt;NA&gt;\n277. &lt;NA&gt;\n278. &lt;NA&gt;\n279. 1\n280. 24\n281. 4\n282. 25\n283. 20\n284. 24.5\n285. &lt;NA&gt;\n286. &lt;NA&gt;\n287. &lt;NA&gt;\n288. 29\n289. &lt;NA&gt;\n290. &lt;NA&gt;\n291. &lt;NA&gt;\n292. &lt;NA&gt;\n293. 22\n294. &lt;NA&gt;\n295. 40\n296. 21\n297. 18\n298. 4\n299. 10\n300. 9\n301. 2\n302. 40\n303. 45\n304. &lt;NA&gt;\n305. &lt;NA&gt;\n306. &lt;NA&gt;\n307. &lt;NA&gt;\n308. &lt;NA&gt;\n309. 19\n310. 30\n311. &lt;NA&gt;\n312. 32\n313. &lt;NA&gt;\n314. 33\n315. 23\n316. 21\n317. 60.5\n318. 19\n319. 22\n320. 31\n321. 27\n322. 2\n323. 29\n324. 16\n325. 44\n326. 25\n327. 74\n328. 14\n329. 24\n330. 25\n331. 34\n332. 0.4167\n333. &lt;NA&gt;\n334. &lt;NA&gt;\n335. &lt;NA&gt;\n336. 16\n337. &lt;NA&gt;\n338. &lt;NA&gt;\n339. &lt;NA&gt;\n340. 32\n341. &lt;NA&gt;\n342. &lt;NA&gt;\n343. 30.5\n344. 44\n345. &lt;NA&gt;\n346. 25\n347. &lt;NA&gt;\n348. 7\n349. 9\n350. 29\n351. 36\n352. 18\n353. 63\n354. &lt;NA&gt;\n355. 11.5\n356. 40.5\n357. 10\n358. 36\n359. 30\n360. &lt;NA&gt;\n361. 33\n362. 28\n363. 28\n364. 47\n365. 18\n366. 31\n367. 16\n368. 31\n369. 22\n370. 20\n371. 14\n372. 22\n373. 22\n374. &lt;NA&gt;\n375. &lt;NA&gt;\n376. &lt;NA&gt;\n377. 32.5\n378. 38\n379. 51\n380. 18\n381. 21\n382. 47\n383. &lt;NA&gt;\n384. &lt;NA&gt;\n385. &lt;NA&gt;\n386. 28.5\n387. 21\n388. 27\n389. &lt;NA&gt;\n390. 36\n391. 27\n392. 15\n393. 45.5\n394. &lt;NA&gt;\n395. &lt;NA&gt;\n396. 14.5\n397. &lt;NA&gt;\n398. 26.5\n399. 27\n400. 29\n401. &lt;NA&gt;\n\n\n",
            "text/html": [
              "<style>\n",
              ".list-inline {list-style: none; margin:0; padding: 0}\n",
              ".list-inline>li {display: inline-block}\n",
              ".list-inline>li:not(:last-child)::after {content: \"\\00b7\"; padding: 0 .5ex}\n",
              "</style>\n",
              "<ol class=list-inline><li>29</li><li>0.9167</li><li>2</li><li>30</li><li>25</li><li>48</li><li>63</li><li>39</li><li>53</li><li>71</li><li>47</li><li>18</li><li>24</li><li>26</li><li>80</li><li>&lt;NA&gt;</li><li>24</li><li>50</li><li>32</li><li>36</li><li>37</li><li>47</li><li>26</li><li>42</li><li>29</li><li>25</li><li>25</li><li>19</li><li>35</li><li>28</li><li>45</li><li>40</li><li>30</li><li>58</li><li>42</li><li>45</li><li>22</li><li>&lt;NA&gt;</li><li>41</li><li>48</li><li>&lt;NA&gt;</li><li>44</li><li>59</li><li>60</li><li>41</li><li>45</li><li>&lt;NA&gt;</li><li>42</li><li>53</li><li>36</li><li>58</li><li>33</li><li>28</li><li>17</li><li>11</li><li>14</li><li>36</li><li>36</li><li>49</li><li>&lt;NA&gt;</li><li>36</li><li>76</li><li>46</li><li>47</li><li>27</li><li>33</li><li>36</li><li>30</li><li>45</li><li>&lt;NA&gt;</li><li>&lt;NA&gt;</li><li>27</li><li>26</li><li>22</li><li>&lt;NA&gt;</li><li>47</li><li>39</li><li>37</li><li>64</li><li>55</li><li>&lt;NA&gt;</li><li>70</li><li>36</li><li>64</li><li>39</li><li>38</li><li>51</li><li>27</li><li>33</li><li>31</li><li>27</li><li>31</li><li>17</li><li>53</li><li>4</li><li>54</li><li>50</li><li>27</li><li>48</li><li>48</li><li>49</li><li>39</li><li>23</li><li>38</li><li>54</li><li>36</li><li>&lt;NA&gt;</li><li>&lt;NA&gt;</li><li>&lt;NA&gt;</li><li>36</li><li>30</li><li>24</li><li>28</li><li>23</li><li>19</li><li>64</li><li>60</li><li>30</li><li>&lt;NA&gt;</li><li>50</li><li>43</li><li>&lt;NA&gt;</li><li>22</li><li>60</li><li>48</li><li>&lt;NA&gt;</li><li>37</li><li>35</li><li>47</li><li>35</li><li>22</li><li>45</li><li>24</li><li>49</li><li>&lt;NA&gt;</li><li>71</li><li>53</li><li>19</li><li>38</li><li>58</li><li>23</li><li>45</li><li>46</li><li>25</li><li>25</li><li>48</li><li>49</li><li>&lt;NA&gt;</li><li>45</li><li>35</li><li>40</li><li>27</li><li>&lt;NA&gt;</li><li>24</li><li>55</li><li>52</li><li>42</li><li>&lt;NA&gt;</li><li>55</li><li>16</li><li>44</li><li>51</li><li>42</li><li>35</li><li>35</li><li>38</li><li>&lt;NA&gt;</li><li>35</li><li>38</li><li>50</li><li>49</li><li>46</li><li>50</li><li>32.5</li><li>58</li><li>41</li><li>&lt;NA&gt;</li><li>42</li><li>45</li><li>&lt;NA&gt;</li><li>39</li><li>49</li><li>30</li><li>35</li><li>&lt;NA&gt;</li><li>42</li><li>55</li><li>16</li><li>51</li><li>29</li><li>21</li><li>30</li><li>58</li><li>15</li><li>30</li><li>16</li><li>&lt;NA&gt;</li><li>19</li><li>18</li><li>24</li><li>⋯</li><li>32</li><li>0.75</li><li>3</li><li>26</li><li>&lt;NA&gt;</li><li>&lt;NA&gt;</li><li>&lt;NA&gt;</li><li>21</li><li>25</li><li>22</li><li>25</li><li>&lt;NA&gt;</li><li>&lt;NA&gt;</li><li>&lt;NA&gt;</li><li>&lt;NA&gt;</li><li>24</li><li>28</li><li>19</li><li>&lt;NA&gt;</li><li>25</li><li>18</li><li>32</li><li>&lt;NA&gt;</li><li>17</li><li>24</li><li>&lt;NA&gt;</li><li>&lt;NA&gt;</li><li>&lt;NA&gt;</li><li>&lt;NA&gt;</li><li>38</li><li>21</li><li>10</li><li>4</li><li>7</li><li>2</li><li>8</li><li>39</li><li>22</li><li>35</li><li>&lt;NA&gt;</li><li>&lt;NA&gt;</li><li>&lt;NA&gt;</li><li>50</li><li>47</li><li>&lt;NA&gt;</li><li>&lt;NA&gt;</li><li>2</li><li>18</li><li>41</li><li>&lt;NA&gt;</li><li>50</li><li>16</li><li>&lt;NA&gt;</li><li>&lt;NA&gt;</li><li>&lt;NA&gt;</li><li>25</li><li>&lt;NA&gt;</li><li>&lt;NA&gt;</li><li>&lt;NA&gt;</li><li>38.5</li><li>&lt;NA&gt;</li><li>14.5</li><li>&lt;NA&gt;</li><li>&lt;NA&gt;</li><li>&lt;NA&gt;</li><li>&lt;NA&gt;</li><li>&lt;NA&gt;</li><li>&lt;NA&gt;</li><li>&lt;NA&gt;</li><li>&lt;NA&gt;</li><li>&lt;NA&gt;</li><li>24</li><li>21</li><li>39</li><li>&lt;NA&gt;</li><li>&lt;NA&gt;</li><li>&lt;NA&gt;</li><li>1</li><li>24</li><li>4</li><li>25</li><li>20</li><li>24.5</li><li>&lt;NA&gt;</li><li>&lt;NA&gt;</li><li>&lt;NA&gt;</li><li>29</li><li>&lt;NA&gt;</li><li>&lt;NA&gt;</li><li>&lt;NA&gt;</li><li>&lt;NA&gt;</li><li>22</li><li>&lt;NA&gt;</li><li>40</li><li>21</li><li>18</li><li>4</li><li>10</li><li>9</li><li>2</li><li>40</li><li>45</li><li>&lt;NA&gt;</li><li>&lt;NA&gt;</li><li>&lt;NA&gt;</li><li>&lt;NA&gt;</li><li>&lt;NA&gt;</li><li>19</li><li>30</li><li>&lt;NA&gt;</li><li>32</li><li>&lt;NA&gt;</li><li>33</li><li>23</li><li>21</li><li>60.5</li><li>19</li><li>22</li><li>31</li><li>27</li><li>2</li><li>29</li><li>16</li><li>44</li><li>25</li><li>74</li><li>14</li><li>24</li><li>25</li><li>34</li><li>0.4167</li><li>&lt;NA&gt;</li><li>&lt;NA&gt;</li><li>&lt;NA&gt;</li><li>16</li><li>&lt;NA&gt;</li><li>&lt;NA&gt;</li><li>&lt;NA&gt;</li><li>32</li><li>&lt;NA&gt;</li><li>&lt;NA&gt;</li><li>30.5</li><li>44</li><li>&lt;NA&gt;</li><li>25</li><li>&lt;NA&gt;</li><li>7</li><li>9</li><li>29</li><li>36</li><li>18</li><li>63</li><li>&lt;NA&gt;</li><li>11.5</li><li>40.5</li><li>10</li><li>36</li><li>30</li><li>&lt;NA&gt;</li><li>33</li><li>28</li><li>28</li><li>47</li><li>18</li><li>31</li><li>16</li><li>31</li><li>22</li><li>20</li><li>14</li><li>22</li><li>22</li><li>&lt;NA&gt;</li><li>&lt;NA&gt;</li><li>&lt;NA&gt;</li><li>32.5</li><li>38</li><li>51</li><li>18</li><li>21</li><li>47</li><li>&lt;NA&gt;</li><li>&lt;NA&gt;</li><li>&lt;NA&gt;</li><li>28.5</li><li>21</li><li>27</li><li>&lt;NA&gt;</li><li>36</li><li>27</li><li>15</li><li>45.5</li><li>&lt;NA&gt;</li><li>&lt;NA&gt;</li><li>14.5</li><li>&lt;NA&gt;</li><li>26.5</li><li>27</li><li>29</li><li>&lt;NA&gt;</li></ol>\n"
            ]
          },
          "metadata": {
            "tags": []
          }
        }
      ]
    },
    {
      "cell_type": "code",
      "metadata": {
        "id": "5VqooyD_IDzp",
        "colab_type": "code",
        "colab": {}
      },
      "source": [
        ""
      ],
      "execution_count": null,
      "outputs": []
    }
  ]
}